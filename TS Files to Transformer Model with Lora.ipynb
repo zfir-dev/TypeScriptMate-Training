{
 "cells": [
  {
   "cell_type": "markdown",
   "id": "03d73149",
   "metadata": {},
   "source": [
    "Install Packages/Libraries"
   ]
  },
  {
   "cell_type": "code",
   "execution_count": 1,
   "id": "4af4ab5a",
   "metadata": {},
   "outputs": [
    {
     "name": "stdout",
     "output_type": "stream",
     "text": [
      "Requirement already satisfied: pip in /opt/homebrew/Caskroom/miniconda/base/envs/dissertation_apple/lib/python3.13/site-packages (25.1.1)\n",
      "Note: you may need to restart the kernel to use updated packages.\n",
      "Requirement already satisfied: torch in /opt/homebrew/Caskroom/miniconda/base/envs/dissertation_apple/lib/python3.13/site-packages (2.7.0)\n",
      "Requirement already satisfied: torchvision in /opt/homebrew/Caskroom/miniconda/base/envs/dissertation_apple/lib/python3.13/site-packages (0.22.0)\n",
      "Requirement already satisfied: torchaudio in /opt/homebrew/Caskroom/miniconda/base/envs/dissertation_apple/lib/python3.13/site-packages (2.7.0)\n",
      "Requirement already satisfied: filelock in /opt/homebrew/Caskroom/miniconda/base/envs/dissertation_apple/lib/python3.13/site-packages (from torch) (3.18.0)\n",
      "Requirement already satisfied: typing-extensions>=4.10.0 in /opt/homebrew/Caskroom/miniconda/base/envs/dissertation_apple/lib/python3.13/site-packages (from torch) (4.13.2)\n",
      "Requirement already satisfied: setuptools in /opt/homebrew/Caskroom/miniconda/base/envs/dissertation_apple/lib/python3.13/site-packages (from torch) (78.1.1)\n",
      "Requirement already satisfied: sympy>=1.13.3 in /opt/homebrew/Caskroom/miniconda/base/envs/dissertation_apple/lib/python3.13/site-packages (from torch) (1.14.0)\n",
      "Requirement already satisfied: networkx in /opt/homebrew/Caskroom/miniconda/base/envs/dissertation_apple/lib/python3.13/site-packages (from torch) (3.4.2)\n",
      "Requirement already satisfied: jinja2 in /opt/homebrew/Caskroom/miniconda/base/envs/dissertation_apple/lib/python3.13/site-packages (from torch) (3.1.6)\n",
      "Requirement already satisfied: fsspec in /opt/homebrew/Caskroom/miniconda/base/envs/dissertation_apple/lib/python3.13/site-packages (from torch) (2025.3.0)\n",
      "Requirement already satisfied: numpy in /opt/homebrew/Caskroom/miniconda/base/envs/dissertation_apple/lib/python3.13/site-packages (from torchvision) (2.2.6)\n",
      "Requirement already satisfied: pillow!=8.3.*,>=5.3.0 in /opt/homebrew/Caskroom/miniconda/base/envs/dissertation_apple/lib/python3.13/site-packages (from torchvision) (11.2.1)\n",
      "Requirement already satisfied: mpmath<1.4,>=1.1.0 in /opt/homebrew/Caskroom/miniconda/base/envs/dissertation_apple/lib/python3.13/site-packages (from sympy>=1.13.3->torch) (1.3.0)\n",
      "Requirement already satisfied: MarkupSafe>=2.0 in /opt/homebrew/Caskroom/miniconda/base/envs/dissertation_apple/lib/python3.13/site-packages (from jinja2->torch) (3.0.2)\n",
      "Note: you may need to restart the kernel to use updated packages.\n",
      "Requirement already satisfied: pandas in /opt/homebrew/Caskroom/miniconda/base/envs/dissertation_apple/lib/python3.13/site-packages (2.2.3)\n",
      "Requirement already satisfied: numpy>=1.26.0 in /opt/homebrew/Caskroom/miniconda/base/envs/dissertation_apple/lib/python3.13/site-packages (from pandas) (2.2.6)\n",
      "Requirement already satisfied: python-dateutil>=2.8.2 in /opt/homebrew/Caskroom/miniconda/base/envs/dissertation_apple/lib/python3.13/site-packages (from pandas) (2.9.0.post0)\n",
      "Requirement already satisfied: pytz>=2020.1 in /opt/homebrew/Caskroom/miniconda/base/envs/dissertation_apple/lib/python3.13/site-packages (from pandas) (2025.2)\n",
      "Requirement already satisfied: tzdata>=2022.7 in /opt/homebrew/Caskroom/miniconda/base/envs/dissertation_apple/lib/python3.13/site-packages (from pandas) (2025.2)\n",
      "Requirement already satisfied: six>=1.5 in /opt/homebrew/Caskroom/miniconda/base/envs/dissertation_apple/lib/python3.13/site-packages (from python-dateutil>=2.8.2->pandas) (1.17.0)\n",
      "Note: you may need to restart the kernel to use updated packages.\n",
      "Requirement already satisfied: datasets in /opt/homebrew/Caskroom/miniconda/base/envs/dissertation_apple/lib/python3.13/site-packages (3.6.0)\n",
      "Requirement already satisfied: filelock in /opt/homebrew/Caskroom/miniconda/base/envs/dissertation_apple/lib/python3.13/site-packages (from datasets) (3.18.0)\n",
      "Requirement already satisfied: numpy>=1.17 in /opt/homebrew/Caskroom/miniconda/base/envs/dissertation_apple/lib/python3.13/site-packages (from datasets) (2.2.6)\n",
      "Requirement already satisfied: pyarrow>=15.0.0 in /opt/homebrew/Caskroom/miniconda/base/envs/dissertation_apple/lib/python3.13/site-packages (from datasets) (20.0.0)\n",
      "Requirement already satisfied: dill<0.3.9,>=0.3.0 in /opt/homebrew/Caskroom/miniconda/base/envs/dissertation_apple/lib/python3.13/site-packages (from datasets) (0.3.8)\n",
      "Requirement already satisfied: pandas in /opt/homebrew/Caskroom/miniconda/base/envs/dissertation_apple/lib/python3.13/site-packages (from datasets) (2.2.3)\n",
      "Requirement already satisfied: requests>=2.32.2 in /opt/homebrew/Caskroom/miniconda/base/envs/dissertation_apple/lib/python3.13/site-packages (from datasets) (2.32.3)\n",
      "Requirement already satisfied: tqdm>=4.66.3 in /opt/homebrew/Caskroom/miniconda/base/envs/dissertation_apple/lib/python3.13/site-packages (from datasets) (4.67.1)\n",
      "Requirement already satisfied: xxhash in /opt/homebrew/Caskroom/miniconda/base/envs/dissertation_apple/lib/python3.13/site-packages (from datasets) (3.5.0)\n",
      "Requirement already satisfied: multiprocess<0.70.17 in /opt/homebrew/Caskroom/miniconda/base/envs/dissertation_apple/lib/python3.13/site-packages (from datasets) (0.70.16)\n",
      "Requirement already satisfied: fsspec<=2025.3.0,>=2023.1.0 in /opt/homebrew/Caskroom/miniconda/base/envs/dissertation_apple/lib/python3.13/site-packages (from fsspec[http]<=2025.3.0,>=2023.1.0->datasets) (2025.3.0)\n",
      "Requirement already satisfied: huggingface-hub>=0.24.0 in /opt/homebrew/Caskroom/miniconda/base/envs/dissertation_apple/lib/python3.13/site-packages (from datasets) (0.31.2)\n",
      "Requirement already satisfied: packaging in /opt/homebrew/Caskroom/miniconda/base/envs/dissertation_apple/lib/python3.13/site-packages (from datasets) (25.0)\n",
      "Requirement already satisfied: pyyaml>=5.1 in /opt/homebrew/Caskroom/miniconda/base/envs/dissertation_apple/lib/python3.13/site-packages (from datasets) (6.0.2)\n",
      "Requirement already satisfied: aiohttp!=4.0.0a0,!=4.0.0a1 in /opt/homebrew/Caskroom/miniconda/base/envs/dissertation_apple/lib/python3.13/site-packages (from fsspec[http]<=2025.3.0,>=2023.1.0->datasets) (3.11.18)\n",
      "Requirement already satisfied: aiohappyeyeballs>=2.3.0 in /opt/homebrew/Caskroom/miniconda/base/envs/dissertation_apple/lib/python3.13/site-packages (from aiohttp!=4.0.0a0,!=4.0.0a1->fsspec[http]<=2025.3.0,>=2023.1.0->datasets) (2.6.1)\n",
      "Requirement already satisfied: aiosignal>=1.1.2 in /opt/homebrew/Caskroom/miniconda/base/envs/dissertation_apple/lib/python3.13/site-packages (from aiohttp!=4.0.0a0,!=4.0.0a1->fsspec[http]<=2025.3.0,>=2023.1.0->datasets) (1.3.2)\n",
      "Requirement already satisfied: attrs>=17.3.0 in /opt/homebrew/Caskroom/miniconda/base/envs/dissertation_apple/lib/python3.13/site-packages (from aiohttp!=4.0.0a0,!=4.0.0a1->fsspec[http]<=2025.3.0,>=2023.1.0->datasets) (25.3.0)\n",
      "Requirement already satisfied: frozenlist>=1.1.1 in /opt/homebrew/Caskroom/miniconda/base/envs/dissertation_apple/lib/python3.13/site-packages (from aiohttp!=4.0.0a0,!=4.0.0a1->fsspec[http]<=2025.3.0,>=2023.1.0->datasets) (1.6.0)\n",
      "Requirement already satisfied: multidict<7.0,>=4.5 in /opt/homebrew/Caskroom/miniconda/base/envs/dissertation_apple/lib/python3.13/site-packages (from aiohttp!=4.0.0a0,!=4.0.0a1->fsspec[http]<=2025.3.0,>=2023.1.0->datasets) (6.4.3)\n",
      "Requirement already satisfied: propcache>=0.2.0 in /opt/homebrew/Caskroom/miniconda/base/envs/dissertation_apple/lib/python3.13/site-packages (from aiohttp!=4.0.0a0,!=4.0.0a1->fsspec[http]<=2025.3.0,>=2023.1.0->datasets) (0.3.1)\n",
      "Requirement already satisfied: yarl<2.0,>=1.17.0 in /opt/homebrew/Caskroom/miniconda/base/envs/dissertation_apple/lib/python3.13/site-packages (from aiohttp!=4.0.0a0,!=4.0.0a1->fsspec[http]<=2025.3.0,>=2023.1.0->datasets) (1.20.0)\n",
      "Requirement already satisfied: idna>=2.0 in /opt/homebrew/Caskroom/miniconda/base/envs/dissertation_apple/lib/python3.13/site-packages (from yarl<2.0,>=1.17.0->aiohttp!=4.0.0a0,!=4.0.0a1->fsspec[http]<=2025.3.0,>=2023.1.0->datasets) (3.10)\n",
      "Requirement already satisfied: typing-extensions>=3.7.4.3 in /opt/homebrew/Caskroom/miniconda/base/envs/dissertation_apple/lib/python3.13/site-packages (from huggingface-hub>=0.24.0->datasets) (4.13.2)\n",
      "Requirement already satisfied: charset-normalizer<4,>=2 in /opt/homebrew/Caskroom/miniconda/base/envs/dissertation_apple/lib/python3.13/site-packages (from requests>=2.32.2->datasets) (3.4.2)\n",
      "Requirement already satisfied: urllib3<3,>=1.21.1 in /opt/homebrew/Caskroom/miniconda/base/envs/dissertation_apple/lib/python3.13/site-packages (from requests>=2.32.2->datasets) (2.4.0)\n",
      "Requirement already satisfied: certifi>=2017.4.17 in /opt/homebrew/Caskroom/miniconda/base/envs/dissertation_apple/lib/python3.13/site-packages (from requests>=2.32.2->datasets) (2025.4.26)\n",
      "Requirement already satisfied: python-dateutil>=2.8.2 in /opt/homebrew/Caskroom/miniconda/base/envs/dissertation_apple/lib/python3.13/site-packages (from pandas->datasets) (2.9.0.post0)\n",
      "Requirement already satisfied: pytz>=2020.1 in /opt/homebrew/Caskroom/miniconda/base/envs/dissertation_apple/lib/python3.13/site-packages (from pandas->datasets) (2025.2)\n",
      "Requirement already satisfied: tzdata>=2022.7 in /opt/homebrew/Caskroom/miniconda/base/envs/dissertation_apple/lib/python3.13/site-packages (from pandas->datasets) (2025.2)\n",
      "Requirement already satisfied: six>=1.5 in /opt/homebrew/Caskroom/miniconda/base/envs/dissertation_apple/lib/python3.13/site-packages (from python-dateutil>=2.8.2->pandas->datasets) (1.17.0)\n",
      "Note: you may need to restart the kernel to use updated packages.\n",
      "Requirement already satisfied: peft in /opt/homebrew/Caskroom/miniconda/base/envs/dissertation_apple/lib/python3.13/site-packages (0.15.2)\n",
      "Requirement already satisfied: numpy>=1.17 in /opt/homebrew/Caskroom/miniconda/base/envs/dissertation_apple/lib/python3.13/site-packages (from peft) (2.2.6)\n",
      "Requirement already satisfied: packaging>=20.0 in /opt/homebrew/Caskroom/miniconda/base/envs/dissertation_apple/lib/python3.13/site-packages (from peft) (25.0)\n",
      "Requirement already satisfied: psutil in /opt/homebrew/Caskroom/miniconda/base/envs/dissertation_apple/lib/python3.13/site-packages (from peft) (7.0.0)\n",
      "Requirement already satisfied: pyyaml in /opt/homebrew/Caskroom/miniconda/base/envs/dissertation_apple/lib/python3.13/site-packages (from peft) (6.0.2)\n",
      "Requirement already satisfied: torch>=1.13.0 in /opt/homebrew/Caskroom/miniconda/base/envs/dissertation_apple/lib/python3.13/site-packages (from peft) (2.7.0)\n",
      "Requirement already satisfied: transformers in /opt/homebrew/Caskroom/miniconda/base/envs/dissertation_apple/lib/python3.13/site-packages (from peft) (4.51.3)\n",
      "Requirement already satisfied: tqdm in /opt/homebrew/Caskroom/miniconda/base/envs/dissertation_apple/lib/python3.13/site-packages (from peft) (4.67.1)\n",
      "Requirement already satisfied: accelerate>=0.21.0 in /opt/homebrew/Caskroom/miniconda/base/envs/dissertation_apple/lib/python3.13/site-packages (from peft) (1.7.0)\n",
      "Requirement already satisfied: safetensors in /opt/homebrew/Caskroom/miniconda/base/envs/dissertation_apple/lib/python3.13/site-packages (from peft) (0.5.3)\n",
      "Requirement already satisfied: huggingface_hub>=0.25.0 in /opt/homebrew/Caskroom/miniconda/base/envs/dissertation_apple/lib/python3.13/site-packages (from peft) (0.31.2)\n",
      "Requirement already satisfied: filelock in /opt/homebrew/Caskroom/miniconda/base/envs/dissertation_apple/lib/python3.13/site-packages (from huggingface_hub>=0.25.0->peft) (3.18.0)\n",
      "Requirement already satisfied: fsspec>=2023.5.0 in /opt/homebrew/Caskroom/miniconda/base/envs/dissertation_apple/lib/python3.13/site-packages (from huggingface_hub>=0.25.0->peft) (2025.3.0)\n",
      "Requirement already satisfied: requests in /opt/homebrew/Caskroom/miniconda/base/envs/dissertation_apple/lib/python3.13/site-packages (from huggingface_hub>=0.25.0->peft) (2.32.3)\n",
      "Requirement already satisfied: typing-extensions>=3.7.4.3 in /opt/homebrew/Caskroom/miniconda/base/envs/dissertation_apple/lib/python3.13/site-packages (from huggingface_hub>=0.25.0->peft) (4.13.2)\n",
      "Requirement already satisfied: setuptools in /opt/homebrew/Caskroom/miniconda/base/envs/dissertation_apple/lib/python3.13/site-packages (from torch>=1.13.0->peft) (78.1.1)\n",
      "Requirement already satisfied: sympy>=1.13.3 in /opt/homebrew/Caskroom/miniconda/base/envs/dissertation_apple/lib/python3.13/site-packages (from torch>=1.13.0->peft) (1.14.0)\n",
      "Requirement already satisfied: networkx in /opt/homebrew/Caskroom/miniconda/base/envs/dissertation_apple/lib/python3.13/site-packages (from torch>=1.13.0->peft) (3.4.2)\n",
      "Requirement already satisfied: jinja2 in /opt/homebrew/Caskroom/miniconda/base/envs/dissertation_apple/lib/python3.13/site-packages (from torch>=1.13.0->peft) (3.1.6)\n",
      "Requirement already satisfied: mpmath<1.4,>=1.1.0 in /opt/homebrew/Caskroom/miniconda/base/envs/dissertation_apple/lib/python3.13/site-packages (from sympy>=1.13.3->torch>=1.13.0->peft) (1.3.0)\n",
      "Requirement already satisfied: MarkupSafe>=2.0 in /opt/homebrew/Caskroom/miniconda/base/envs/dissertation_apple/lib/python3.13/site-packages (from jinja2->torch>=1.13.0->peft) (3.0.2)\n",
      "Requirement already satisfied: charset-normalizer<4,>=2 in /opt/homebrew/Caskroom/miniconda/base/envs/dissertation_apple/lib/python3.13/site-packages (from requests->huggingface_hub>=0.25.0->peft) (3.4.2)\n",
      "Requirement already satisfied: idna<4,>=2.5 in /opt/homebrew/Caskroom/miniconda/base/envs/dissertation_apple/lib/python3.13/site-packages (from requests->huggingface_hub>=0.25.0->peft) (3.10)\n",
      "Requirement already satisfied: urllib3<3,>=1.21.1 in /opt/homebrew/Caskroom/miniconda/base/envs/dissertation_apple/lib/python3.13/site-packages (from requests->huggingface_hub>=0.25.0->peft) (2.4.0)\n",
      "Requirement already satisfied: certifi>=2017.4.17 in /opt/homebrew/Caskroom/miniconda/base/envs/dissertation_apple/lib/python3.13/site-packages (from requests->huggingface_hub>=0.25.0->peft) (2025.4.26)\n",
      "Requirement already satisfied: regex!=2019.12.17 in /opt/homebrew/Caskroom/miniconda/base/envs/dissertation_apple/lib/python3.13/site-packages (from transformers->peft) (2024.11.6)\n",
      "Requirement already satisfied: tokenizers<0.22,>=0.21 in /opt/homebrew/Caskroom/miniconda/base/envs/dissertation_apple/lib/python3.13/site-packages (from transformers->peft) (0.21.1)\n",
      "Note: you may need to restart the kernel to use updated packages.\n",
      "Requirement already satisfied: transformers in /opt/homebrew/Caskroom/miniconda/base/envs/dissertation_apple/lib/python3.13/site-packages (4.51.3)\n",
      "Requirement already satisfied: filelock in /opt/homebrew/Caskroom/miniconda/base/envs/dissertation_apple/lib/python3.13/site-packages (from transformers) (3.18.0)\n",
      "Requirement already satisfied: huggingface-hub<1.0,>=0.30.0 in /opt/homebrew/Caskroom/miniconda/base/envs/dissertation_apple/lib/python3.13/site-packages (from transformers) (0.31.2)\n",
      "Requirement already satisfied: numpy>=1.17 in /opt/homebrew/Caskroom/miniconda/base/envs/dissertation_apple/lib/python3.13/site-packages (from transformers) (2.2.6)\n",
      "Requirement already satisfied: packaging>=20.0 in /opt/homebrew/Caskroom/miniconda/base/envs/dissertation_apple/lib/python3.13/site-packages (from transformers) (25.0)\n",
      "Requirement already satisfied: pyyaml>=5.1 in /opt/homebrew/Caskroom/miniconda/base/envs/dissertation_apple/lib/python3.13/site-packages (from transformers) (6.0.2)\n",
      "Requirement already satisfied: regex!=2019.12.17 in /opt/homebrew/Caskroom/miniconda/base/envs/dissertation_apple/lib/python3.13/site-packages (from transformers) (2024.11.6)\n",
      "Requirement already satisfied: requests in /opt/homebrew/Caskroom/miniconda/base/envs/dissertation_apple/lib/python3.13/site-packages (from transformers) (2.32.3)\n",
      "Requirement already satisfied: tokenizers<0.22,>=0.21 in /opt/homebrew/Caskroom/miniconda/base/envs/dissertation_apple/lib/python3.13/site-packages (from transformers) (0.21.1)\n",
      "Requirement already satisfied: safetensors>=0.4.3 in /opt/homebrew/Caskroom/miniconda/base/envs/dissertation_apple/lib/python3.13/site-packages (from transformers) (0.5.3)\n",
      "Requirement already satisfied: tqdm>=4.27 in /opt/homebrew/Caskroom/miniconda/base/envs/dissertation_apple/lib/python3.13/site-packages (from transformers) (4.67.1)\n",
      "Requirement already satisfied: fsspec>=2023.5.0 in /opt/homebrew/Caskroom/miniconda/base/envs/dissertation_apple/lib/python3.13/site-packages (from huggingface-hub<1.0,>=0.30.0->transformers) (2025.3.0)\n",
      "Requirement already satisfied: typing-extensions>=3.7.4.3 in /opt/homebrew/Caskroom/miniconda/base/envs/dissertation_apple/lib/python3.13/site-packages (from huggingface-hub<1.0,>=0.30.0->transformers) (4.13.2)\n",
      "Requirement already satisfied: charset-normalizer<4,>=2 in /opt/homebrew/Caskroom/miniconda/base/envs/dissertation_apple/lib/python3.13/site-packages (from requests->transformers) (3.4.2)\n",
      "Requirement already satisfied: idna<4,>=2.5 in /opt/homebrew/Caskroom/miniconda/base/envs/dissertation_apple/lib/python3.13/site-packages (from requests->transformers) (3.10)\n",
      "Requirement already satisfied: urllib3<3,>=1.21.1 in /opt/homebrew/Caskroom/miniconda/base/envs/dissertation_apple/lib/python3.13/site-packages (from requests->transformers) (2.4.0)\n",
      "Requirement already satisfied: certifi>=2017.4.17 in /opt/homebrew/Caskroom/miniconda/base/envs/dissertation_apple/lib/python3.13/site-packages (from requests->transformers) (2025.4.26)\n",
      "Note: you may need to restart the kernel to use updated packages.\n",
      "zsh:1: no matches found: transformers[torch]\n",
      "Note: you may need to restart the kernel to use updated packages.\n",
      "Requirement already satisfied: accelerate>=0.26.0 in /opt/homebrew/Caskroom/miniconda/base/envs/dissertation_apple/lib/python3.13/site-packages (1.7.0)\n",
      "Requirement already satisfied: numpy<3.0.0,>=1.17 in /opt/homebrew/Caskroom/miniconda/base/envs/dissertation_apple/lib/python3.13/site-packages (from accelerate>=0.26.0) (2.2.6)\n",
      "Requirement already satisfied: packaging>=20.0 in /opt/homebrew/Caskroom/miniconda/base/envs/dissertation_apple/lib/python3.13/site-packages (from accelerate>=0.26.0) (25.0)\n",
      "Requirement already satisfied: psutil in /opt/homebrew/Caskroom/miniconda/base/envs/dissertation_apple/lib/python3.13/site-packages (from accelerate>=0.26.0) (7.0.0)\n",
      "Requirement already satisfied: pyyaml in /opt/homebrew/Caskroom/miniconda/base/envs/dissertation_apple/lib/python3.13/site-packages (from accelerate>=0.26.0) (6.0.2)\n",
      "Requirement already satisfied: torch>=2.0.0 in /opt/homebrew/Caskroom/miniconda/base/envs/dissertation_apple/lib/python3.13/site-packages (from accelerate>=0.26.0) (2.7.0)\n",
      "Requirement already satisfied: huggingface-hub>=0.21.0 in /opt/homebrew/Caskroom/miniconda/base/envs/dissertation_apple/lib/python3.13/site-packages (from accelerate>=0.26.0) (0.31.2)\n",
      "Requirement already satisfied: safetensors>=0.4.3 in /opt/homebrew/Caskroom/miniconda/base/envs/dissertation_apple/lib/python3.13/site-packages (from accelerate>=0.26.0) (0.5.3)\n",
      "Requirement already satisfied: filelock in /opt/homebrew/Caskroom/miniconda/base/envs/dissertation_apple/lib/python3.13/site-packages (from huggingface-hub>=0.21.0->accelerate>=0.26.0) (3.18.0)\n",
      "Requirement already satisfied: fsspec>=2023.5.0 in /opt/homebrew/Caskroom/miniconda/base/envs/dissertation_apple/lib/python3.13/site-packages (from huggingface-hub>=0.21.0->accelerate>=0.26.0) (2025.3.0)\n",
      "Requirement already satisfied: requests in /opt/homebrew/Caskroom/miniconda/base/envs/dissertation_apple/lib/python3.13/site-packages (from huggingface-hub>=0.21.0->accelerate>=0.26.0) (2.32.3)\n",
      "Requirement already satisfied: tqdm>=4.42.1 in /opt/homebrew/Caskroom/miniconda/base/envs/dissertation_apple/lib/python3.13/site-packages (from huggingface-hub>=0.21.0->accelerate>=0.26.0) (4.67.1)\n",
      "Requirement already satisfied: typing-extensions>=3.7.4.3 in /opt/homebrew/Caskroom/miniconda/base/envs/dissertation_apple/lib/python3.13/site-packages (from huggingface-hub>=0.21.0->accelerate>=0.26.0) (4.13.2)\n",
      "Requirement already satisfied: setuptools in /opt/homebrew/Caskroom/miniconda/base/envs/dissertation_apple/lib/python3.13/site-packages (from torch>=2.0.0->accelerate>=0.26.0) (78.1.1)\n",
      "Requirement already satisfied: sympy>=1.13.3 in /opt/homebrew/Caskroom/miniconda/base/envs/dissertation_apple/lib/python3.13/site-packages (from torch>=2.0.0->accelerate>=0.26.0) (1.14.0)\n",
      "Requirement already satisfied: networkx in /opt/homebrew/Caskroom/miniconda/base/envs/dissertation_apple/lib/python3.13/site-packages (from torch>=2.0.0->accelerate>=0.26.0) (3.4.2)\n",
      "Requirement already satisfied: jinja2 in /opt/homebrew/Caskroom/miniconda/base/envs/dissertation_apple/lib/python3.13/site-packages (from torch>=2.0.0->accelerate>=0.26.0) (3.1.6)\n",
      "Requirement already satisfied: mpmath<1.4,>=1.1.0 in /opt/homebrew/Caskroom/miniconda/base/envs/dissertation_apple/lib/python3.13/site-packages (from sympy>=1.13.3->torch>=2.0.0->accelerate>=0.26.0) (1.3.0)\n",
      "Requirement already satisfied: MarkupSafe>=2.0 in /opt/homebrew/Caskroom/miniconda/base/envs/dissertation_apple/lib/python3.13/site-packages (from jinja2->torch>=2.0.0->accelerate>=0.26.0) (3.0.2)\n",
      "Requirement already satisfied: charset-normalizer<4,>=2 in /opt/homebrew/Caskroom/miniconda/base/envs/dissertation_apple/lib/python3.13/site-packages (from requests->huggingface-hub>=0.21.0->accelerate>=0.26.0) (3.4.2)\n",
      "Requirement already satisfied: idna<4,>=2.5 in /opt/homebrew/Caskroom/miniconda/base/envs/dissertation_apple/lib/python3.13/site-packages (from requests->huggingface-hub>=0.21.0->accelerate>=0.26.0) (3.10)\n",
      "Requirement already satisfied: urllib3<3,>=1.21.1 in /opt/homebrew/Caskroom/miniconda/base/envs/dissertation_apple/lib/python3.13/site-packages (from requests->huggingface-hub>=0.21.0->accelerate>=0.26.0) (2.4.0)\n",
      "Requirement already satisfied: certifi>=2017.4.17 in /opt/homebrew/Caskroom/miniconda/base/envs/dissertation_apple/lib/python3.13/site-packages (from requests->huggingface-hub>=0.21.0->accelerate>=0.26.0) (2025.4.26)\n",
      "Note: you may need to restart the kernel to use updated packages.\n",
      "Requirement already satisfied: matplotlib in /opt/homebrew/Caskroom/miniconda/base/envs/dissertation_apple/lib/python3.13/site-packages (3.10.3)\n",
      "Requirement already satisfied: contourpy>=1.0.1 in /opt/homebrew/Caskroom/miniconda/base/envs/dissertation_apple/lib/python3.13/site-packages (from matplotlib) (1.3.2)\n",
      "Requirement already satisfied: cycler>=0.10 in /opt/homebrew/Caskroom/miniconda/base/envs/dissertation_apple/lib/python3.13/site-packages (from matplotlib) (0.12.1)\n",
      "Requirement already satisfied: fonttools>=4.22.0 in /opt/homebrew/Caskroom/miniconda/base/envs/dissertation_apple/lib/python3.13/site-packages (from matplotlib) (4.58.0)\n",
      "Requirement already satisfied: kiwisolver>=1.3.1 in /opt/homebrew/Caskroom/miniconda/base/envs/dissertation_apple/lib/python3.13/site-packages (from matplotlib) (1.4.8)\n",
      "Requirement already satisfied: numpy>=1.23 in /opt/homebrew/Caskroom/miniconda/base/envs/dissertation_apple/lib/python3.13/site-packages (from matplotlib) (2.2.6)\n",
      "Requirement already satisfied: packaging>=20.0 in /opt/homebrew/Caskroom/miniconda/base/envs/dissertation_apple/lib/python3.13/site-packages (from matplotlib) (25.0)\n",
      "Requirement already satisfied: pillow>=8 in /opt/homebrew/Caskroom/miniconda/base/envs/dissertation_apple/lib/python3.13/site-packages (from matplotlib) (11.2.1)\n",
      "Requirement already satisfied: pyparsing>=2.3.1 in /opt/homebrew/Caskroom/miniconda/base/envs/dissertation_apple/lib/python3.13/site-packages (from matplotlib) (3.2.3)\n",
      "Requirement already satisfied: python-dateutil>=2.7 in /opt/homebrew/Caskroom/miniconda/base/envs/dissertation_apple/lib/python3.13/site-packages (from matplotlib) (2.9.0.post0)\n",
      "Requirement already satisfied: six>=1.5 in /opt/homebrew/Caskroom/miniconda/base/envs/dissertation_apple/lib/python3.13/site-packages (from python-dateutil>=2.7->matplotlib) (1.17.0)\n",
      "Note: you may need to restart the kernel to use updated packages.\n",
      "Requirement already satisfied: evaluate in /opt/homebrew/Caskroom/miniconda/base/envs/dissertation_apple/lib/python3.13/site-packages (0.4.3)\n",
      "Requirement already satisfied: datasets>=2.0.0 in /opt/homebrew/Caskroom/miniconda/base/envs/dissertation_apple/lib/python3.13/site-packages (from evaluate) (3.6.0)\n",
      "Requirement already satisfied: numpy>=1.17 in /opt/homebrew/Caskroom/miniconda/base/envs/dissertation_apple/lib/python3.13/site-packages (from evaluate) (2.2.6)\n",
      "Requirement already satisfied: dill in /opt/homebrew/Caskroom/miniconda/base/envs/dissertation_apple/lib/python3.13/site-packages (from evaluate) (0.3.8)\n",
      "Requirement already satisfied: pandas in /opt/homebrew/Caskroom/miniconda/base/envs/dissertation_apple/lib/python3.13/site-packages (from evaluate) (2.2.3)\n",
      "Requirement already satisfied: requests>=2.19.0 in /opt/homebrew/Caskroom/miniconda/base/envs/dissertation_apple/lib/python3.13/site-packages (from evaluate) (2.32.3)\n",
      "Requirement already satisfied: tqdm>=4.62.1 in /opt/homebrew/Caskroom/miniconda/base/envs/dissertation_apple/lib/python3.13/site-packages (from evaluate) (4.67.1)\n",
      "Requirement already satisfied: xxhash in /opt/homebrew/Caskroom/miniconda/base/envs/dissertation_apple/lib/python3.13/site-packages (from evaluate) (3.5.0)\n",
      "Requirement already satisfied: multiprocess in /opt/homebrew/Caskroom/miniconda/base/envs/dissertation_apple/lib/python3.13/site-packages (from evaluate) (0.70.16)\n",
      "Requirement already satisfied: fsspec>=2021.05.0 in /opt/homebrew/Caskroom/miniconda/base/envs/dissertation_apple/lib/python3.13/site-packages (from fsspec[http]>=2021.05.0->evaluate) (2025.3.0)\n",
      "Requirement already satisfied: huggingface-hub>=0.7.0 in /opt/homebrew/Caskroom/miniconda/base/envs/dissertation_apple/lib/python3.13/site-packages (from evaluate) (0.31.2)\n",
      "Requirement already satisfied: packaging in /opt/homebrew/Caskroom/miniconda/base/envs/dissertation_apple/lib/python3.13/site-packages (from evaluate) (25.0)\n",
      "Requirement already satisfied: filelock in /opt/homebrew/Caskroom/miniconda/base/envs/dissertation_apple/lib/python3.13/site-packages (from datasets>=2.0.0->evaluate) (3.18.0)\n",
      "Requirement already satisfied: pyarrow>=15.0.0 in /opt/homebrew/Caskroom/miniconda/base/envs/dissertation_apple/lib/python3.13/site-packages (from datasets>=2.0.0->evaluate) (20.0.0)\n",
      "Requirement already satisfied: pyyaml>=5.1 in /opt/homebrew/Caskroom/miniconda/base/envs/dissertation_apple/lib/python3.13/site-packages (from datasets>=2.0.0->evaluate) (6.0.2)\n",
      "Requirement already satisfied: aiohttp!=4.0.0a0,!=4.0.0a1 in /opt/homebrew/Caskroom/miniconda/base/envs/dissertation_apple/lib/python3.13/site-packages (from fsspec[http]>=2021.05.0->evaluate) (3.11.18)\n",
      "Requirement already satisfied: aiohappyeyeballs>=2.3.0 in /opt/homebrew/Caskroom/miniconda/base/envs/dissertation_apple/lib/python3.13/site-packages (from aiohttp!=4.0.0a0,!=4.0.0a1->fsspec[http]>=2021.05.0->evaluate) (2.6.1)\n",
      "Requirement already satisfied: aiosignal>=1.1.2 in /opt/homebrew/Caskroom/miniconda/base/envs/dissertation_apple/lib/python3.13/site-packages (from aiohttp!=4.0.0a0,!=4.0.0a1->fsspec[http]>=2021.05.0->evaluate) (1.3.2)\n",
      "Requirement already satisfied: attrs>=17.3.0 in /opt/homebrew/Caskroom/miniconda/base/envs/dissertation_apple/lib/python3.13/site-packages (from aiohttp!=4.0.0a0,!=4.0.0a1->fsspec[http]>=2021.05.0->evaluate) (25.3.0)\n",
      "Requirement already satisfied: frozenlist>=1.1.1 in /opt/homebrew/Caskroom/miniconda/base/envs/dissertation_apple/lib/python3.13/site-packages (from aiohttp!=4.0.0a0,!=4.0.0a1->fsspec[http]>=2021.05.0->evaluate) (1.6.0)\n",
      "Requirement already satisfied: multidict<7.0,>=4.5 in /opt/homebrew/Caskroom/miniconda/base/envs/dissertation_apple/lib/python3.13/site-packages (from aiohttp!=4.0.0a0,!=4.0.0a1->fsspec[http]>=2021.05.0->evaluate) (6.4.3)\n",
      "Requirement already satisfied: propcache>=0.2.0 in /opt/homebrew/Caskroom/miniconda/base/envs/dissertation_apple/lib/python3.13/site-packages (from aiohttp!=4.0.0a0,!=4.0.0a1->fsspec[http]>=2021.05.0->evaluate) (0.3.1)\n",
      "Requirement already satisfied: yarl<2.0,>=1.17.0 in /opt/homebrew/Caskroom/miniconda/base/envs/dissertation_apple/lib/python3.13/site-packages (from aiohttp!=4.0.0a0,!=4.0.0a1->fsspec[http]>=2021.05.0->evaluate) (1.20.0)\n",
      "Requirement already satisfied: idna>=2.0 in /opt/homebrew/Caskroom/miniconda/base/envs/dissertation_apple/lib/python3.13/site-packages (from yarl<2.0,>=1.17.0->aiohttp!=4.0.0a0,!=4.0.0a1->fsspec[http]>=2021.05.0->evaluate) (3.10)\n",
      "Requirement already satisfied: typing-extensions>=3.7.4.3 in /opt/homebrew/Caskroom/miniconda/base/envs/dissertation_apple/lib/python3.13/site-packages (from huggingface-hub>=0.7.0->evaluate) (4.13.2)\n",
      "Requirement already satisfied: charset-normalizer<4,>=2 in /opt/homebrew/Caskroom/miniconda/base/envs/dissertation_apple/lib/python3.13/site-packages (from requests>=2.19.0->evaluate) (3.4.2)\n",
      "Requirement already satisfied: urllib3<3,>=1.21.1 in /opt/homebrew/Caskroom/miniconda/base/envs/dissertation_apple/lib/python3.13/site-packages (from requests>=2.19.0->evaluate) (2.4.0)\n",
      "Requirement already satisfied: certifi>=2017.4.17 in /opt/homebrew/Caskroom/miniconda/base/envs/dissertation_apple/lib/python3.13/site-packages (from requests>=2.19.0->evaluate) (2025.4.26)\n",
      "Requirement already satisfied: python-dateutil>=2.8.2 in /opt/homebrew/Caskroom/miniconda/base/envs/dissertation_apple/lib/python3.13/site-packages (from pandas->evaluate) (2.9.0.post0)\n",
      "Requirement already satisfied: pytz>=2020.1 in /opt/homebrew/Caskroom/miniconda/base/envs/dissertation_apple/lib/python3.13/site-packages (from pandas->evaluate) (2025.2)\n",
      "Requirement already satisfied: tzdata>=2022.7 in /opt/homebrew/Caskroom/miniconda/base/envs/dissertation_apple/lib/python3.13/site-packages (from pandas->evaluate) (2025.2)\n",
      "Requirement already satisfied: six>=1.5 in /opt/homebrew/Caskroom/miniconda/base/envs/dissertation_apple/lib/python3.13/site-packages (from python-dateutil>=2.8.2->pandas->evaluate) (1.17.0)\n",
      "Note: you may need to restart the kernel to use updated packages.\n",
      "Requirement already satisfied: scikit-learn in /opt/homebrew/Caskroom/miniconda/base/envs/dissertation_apple/lib/python3.13/site-packages (1.6.1)\n",
      "Requirement already satisfied: numpy>=1.19.5 in /opt/homebrew/Caskroom/miniconda/base/envs/dissertation_apple/lib/python3.13/site-packages (from scikit-learn) (2.2.6)\n",
      "Requirement already satisfied: scipy>=1.6.0 in /opt/homebrew/Caskroom/miniconda/base/envs/dissertation_apple/lib/python3.13/site-packages (from scikit-learn) (1.15.3)\n",
      "Requirement already satisfied: joblib>=1.2.0 in /opt/homebrew/Caskroom/miniconda/base/envs/dissertation_apple/lib/python3.13/site-packages (from scikit-learn) (1.5.0)\n",
      "Requirement already satisfied: threadpoolctl>=3.1.0 in /opt/homebrew/Caskroom/miniconda/base/envs/dissertation_apple/lib/python3.13/site-packages (from scikit-learn) (3.6.0)\n",
      "Note: you may need to restart the kernel to use updated packages.\n"
     ]
    }
   ],
   "source": [
    "%pip install --upgrade pip\n",
    "%pip install torch torchvision torchaudio\n",
    "\n",
    "%pip install pandas\n",
    "%pip install datasets\n",
    "%pip install peft\n",
    "%pip install transformers\n",
    "%pip install transformers[torch]\n",
    "%pip install 'accelerate>=0.26.0'\n",
    "\n",
    "%pip install matplotlib\n",
    "\n",
    "%pip install evaluate\n",
    "%pip install scikit-learn"
   ]
  },
  {
   "cell_type": "markdown",
   "id": "a295d4f7",
   "metadata": {},
   "source": [
    "Import Packages/Libraries"
   ]
  },
  {
   "cell_type": "code",
   "execution_count": 2,
   "id": "fd48f956",
   "metadata": {},
   "outputs": [
    {
     "name": "stderr",
     "output_type": "stream",
     "text": [
      "/opt/homebrew/Caskroom/miniconda/base/envs/dissertation_apple/lib/python3.13/site-packages/tqdm/auto.py:21: TqdmWarning: IProgress not found. Please update jupyter and ipywidgets. See https://ipywidgets.readthedocs.io/en/stable/user_install.html\n",
      "  from .autonotebook import tqdm as notebook_tqdm\n"
     ]
    }
   ],
   "source": [
    "import os, math, torch,time, evaluate, pandas as pd, matplotlib.pyplot as plt, numpy as np\n",
    "from datasets import Dataset, DatasetDict\n",
    "from torch.utils.data import DataLoader\n",
    "from transformers import (\n",
    "    AutoTokenizer,\n",
    "    AutoModelForCausalLM,\n",
    "    DataCollatorForLanguageModeling,\n",
    "    Trainer, TrainingArguments, TrainerCallback\n",
    ")\n",
    "from peft import get_peft_model, LoraConfig, TaskType"
   ]
  },
  {
   "cell_type": "markdown",
   "id": "3d42ee5c",
   "metadata": {},
   "source": [
    "Configurations"
   ]
  },
  {
   "cell_type": "code",
   "execution_count": 3,
   "id": "17661afd",
   "metadata": {},
   "outputs": [],
   "source": [
    "USE_LORA                    = True\n",
    "DATA_DIR                    = \"outputs/bigcode-ts-output-50000-formatted\"\n",
    "METADATA_CSV                = \"outputs/bigcode-ts-output-50000-types.csv\"\n",
    "OUTPUT_DIR                  = \"outputs/typescriptmate-50000-lora\"\n",
    "BATCH_SIZE                  = 4\n",
    "MAX_LENGTH                  = 512\n",
    "EPOCHS                      = 5\n",
    "LR                          = 5e-5\n",
    "GRAD_CLIP                   = 0.0\n",
    "SEED                        = 42\n",
    "WEIGHT_DECAY                = 0.01\n",
    "GRADIENT_ACCUMULATION_STEPS = 2"
   ]
  },
  {
   "cell_type": "markdown",
   "id": "4be249c4",
   "metadata": {},
   "source": [
    "Count number of TypeScipt files in folder"
   ]
  },
  {
   "cell_type": "code",
   "execution_count": 4,
   "id": "5c9a000d",
   "metadata": {},
   "outputs": [
    {
     "name": "stdout",
     "output_type": "stream",
     "text": [
      "Total files: 4247\n"
     ]
    }
   ],
   "source": [
    "file_count = sum(len(files) for _, _, files in os.walk(DATA_DIR))\n",
    "print(\"Total files:\", file_count)"
   ]
  },
  {
   "cell_type": "markdown",
   "id": "aa93bf93",
   "metadata": {},
   "source": [
    "Check if MPS (Accelerated PyTorch Training for Apple Silicon) is supported"
   ]
  },
  {
   "cell_type": "code",
   "execution_count": 5,
   "id": "3cea423c",
   "metadata": {},
   "outputs": [
    {
     "name": "stdout",
     "output_type": "stream",
     "text": [
      "True\n",
      "True\n"
     ]
    }
   ],
   "source": [
    "import torch\n",
    "print(torch.backends.mps.is_available())\n",
    "print(torch.backends.mps.is_built())\n"
   ]
  },
  {
   "cell_type": "markdown",
   "id": "5762da94",
   "metadata": {},
   "source": [
    "Load metadata for Type Awareness"
   ]
  },
  {
   "cell_type": "code",
   "execution_count": 6,
   "id": "337e1a60",
   "metadata": {},
   "outputs": [
    {
     "name": "stdout",
     "output_type": "stream",
     "text": [
      "Loaded 4453 metadata rows\n"
     ]
    }
   ],
   "source": [
    "df = pd.read_csv(METADATA_CSV)\n",
    "for col in [\"TypeAliases\", \"Interfaces\"]:\n",
    "    if col in df.columns:\n",
    "        df[col] = df[col].fillna(\"\")\n",
    "print(f\"Loaded {len(df)} metadata rows\")"
   ]
  },
  {
   "cell_type": "markdown",
   "id": "7f0328c5",
   "metadata": {},
   "source": [
    "Attach file text"
   ]
  },
  {
   "cell_type": "code",
   "execution_count": 7,
   "id": "3f6cbbcc",
   "metadata": {},
   "outputs": [
    {
     "name": "stderr",
     "output_type": "stream",
     "text": [
      "Map: 100%|██████████| 4453/4453 [00:00<00:00, 4698.93 examples/s]\n"
     ]
    }
   ],
   "source": [
    "dataset_meta = Dataset.from_pandas(df, preserve_index=False)\n",
    "\n",
    "def add_text(example):\n",
    "    path = example[\"File\"]\n",
    "    if not os.path.isabs(path):\n",
    "        path = os.path.join(DATA_DIR, path)\n",
    "    try:\n",
    "        with open(path, \"r\", encoding=\"utf-8\", errors=\"ignore\") as f:\n",
    "            example[\"text\"] = f.read()\n",
    "    except:\n",
    "        example[\"text\"] = \"\"\n",
    "    return example\n",
    "\n",
    "dataset_meta = dataset_meta.map(add_text, batched=False)"
   ]
  },
  {
   "cell_type": "markdown",
   "id": "1652c646",
   "metadata": {},
   "source": [
    "Filter bad examples"
   ]
  },
  {
   "cell_type": "code",
   "execution_count": 8,
   "id": "10e4ff74",
   "metadata": {},
   "outputs": [
    {
     "name": "stderr",
     "output_type": "stream",
     "text": [
      "Filter: 100%|██████████| 4453/4453 [00:00<00:00, 91675.06 examples/s]"
     ]
    },
    {
     "name": "stdout",
     "output_type": "stream",
     "text": [
      "Non-empty examples: 4243\n"
     ]
    },
    {
     "name": "stderr",
     "output_type": "stream",
     "text": [
      "\n"
     ]
    }
   ],
   "source": [
    "dataset_meta = dataset_meta.filter(lambda ex: ex[\"text\"].strip() != \"\")\n",
    "print(\"Non-empty examples:\", len(dataset_meta))"
   ]
  },
  {
   "cell_type": "markdown",
   "id": "383882f4",
   "metadata": {},
   "source": [
    "Split and filter train and validation data for annotated examples"
   ]
  },
  {
   "cell_type": "code",
   "execution_count": 9,
   "id": "d09ff80f",
   "metadata": {},
   "outputs": [
    {
     "name": "stderr",
     "output_type": "stream",
     "text": [
      "Filter: 100%|██████████| 3818/3818 [00:00<00:00, 47442.13 examples/s]\n",
      "Filter: 100%|██████████| 425/425 [00:00<00:00, 44445.59 examples/s]"
     ]
    },
    {
     "name": "stdout",
     "output_type": "stream",
     "text": [
      "Filtered split:\n",
      "  • train: 550\n",
      "  • validation: 76\n"
     ]
    },
    {
     "name": "stderr",
     "output_type": "stream",
     "text": [
      "\n"
     ]
    }
   ],
   "source": [
    "splits = dataset_meta.train_test_split(test_size=0.1, seed=SEED)\n",
    "datasets = DatasetDict({\n",
    "    \"train\": splits[\"train\"].filter(lambda ex: ex[\"TypeAliases\"] or ex[\"Interfaces\"]),\n",
    "    \"validation\": splits[\"test\"].filter(lambda ex: ex[\"TypeAliases\"] or ex[\"Interfaces\"])\n",
    "})\n",
    "print(\"Filtered split:\")\n",
    "print(\"  • train:\", len(datasets[\"train\"]))\n",
    "print(\"  • validation:\", len(datasets[\"validation\"]))"
   ]
  },
  {
   "cell_type": "markdown",
   "id": "7feff32a",
   "metadata": {},
   "source": [
    "Tokenize"
   ]
  },
  {
   "cell_type": "code",
   "execution_count": 10,
   "id": "b1992937",
   "metadata": {},
   "outputs": [
    {
     "name": "stderr",
     "output_type": "stream",
     "text": [
      "Map: 100%|██████████| 550/550 [00:04<00:00, 110.87 examples/s]\n",
      "Map: 100%|██████████| 76/76 [00:00<00:00, 420.61 examples/s]\n"
     ]
    }
   ],
   "source": [
    "tokenizer = AutoTokenizer.from_pretrained(\"gpt2\", use_fast=True)\n",
    "tokenizer.pad_token = tokenizer.eos_token\n",
    "\n",
    "def tokenize_fn(batch):\n",
    "    return tokenizer(\n",
    "        batch[\"text\"],\n",
    "        truncation=True,\n",
    "        padding=\"max_length\",\n",
    "        max_length=MAX_LENGTH\n",
    "    )\n",
    "\n",
    "to_remove = df.columns.tolist() + [\"text\"]\n",
    "tokenized = datasets.map(\n",
    "    tokenize_fn,\n",
    "    batched=True,\n",
    "    remove_columns=to_remove\n",
    ")"
   ]
  },
  {
   "cell_type": "markdown",
   "id": "98be67ed",
   "metadata": {},
   "source": [
    "Sanity check on tokens"
   ]
  },
  {
   "cell_type": "code",
   "execution_count": 11,
   "id": "e7a48422",
   "metadata": {},
   "outputs": [
    {
     "name": "stdout",
     "output_type": "stream",
     "text": [
      "Usable tokenized examples: 550 / 550\n"
     ]
    }
   ],
   "source": [
    "valid_count = sum(\n",
    "    any(tok != tokenizer.eos_token_id for tok in ex[\"input_ids\"])\n",
    "    for ex in tokenized[\"train\"]\n",
    ")\n",
    "print(f\"Usable tokenized examples: {valid_count} / {len(tokenized['train'])}\")"
   ]
  },
  {
   "cell_type": "markdown",
   "id": "4ac802f2",
   "metadata": {},
   "source": [
    "Collator & base Model"
   ]
  },
  {
   "cell_type": "code",
   "execution_count": 12,
   "id": "9086823f",
   "metadata": {},
   "outputs": [],
   "source": [
    "data_collator = DataCollatorForLanguageModeling(tokenizer, mlm=False)\n",
    "base_model = AutoModelForCausalLM.from_pretrained(\"gpt2\")"
   ]
  },
  {
   "cell_type": "markdown",
   "id": "81570dfb",
   "metadata": {},
   "source": [
    "Apply LoRA if enabled"
   ]
  },
  {
   "cell_type": "code",
   "execution_count": 13,
   "id": "3516eca6",
   "metadata": {},
   "outputs": [
    {
     "name": "stdout",
     "output_type": "stream",
     "text": [
      "trainable params: 147,456 || all params: 124,587,264 || trainable%: 0.1184\n"
     ]
    },
    {
     "name": "stderr",
     "output_type": "stream",
     "text": [
      "/opt/homebrew/Caskroom/miniconda/base/envs/dissertation_apple/lib/python3.13/site-packages/peft/tuners/lora/layer.py:1768: UserWarning: fan_in_fan_out is set to False but the target module is `Conv1D`. Setting fan_in_fan_out to True.\n",
      "  warnings.warn(\n"
     ]
    }
   ],
   "source": [
    "if USE_LORA:\n",
    "    lora_config = LoraConfig(\n",
    "        task_type=TaskType.CAUSAL_LM,\n",
    "        inference_mode=False,\n",
    "        r=4,\n",
    "        lora_alpha=16,\n",
    "        lora_dropout=0.0,\n",
    "        target_modules=[\"c_attn\"]  # you can inspect model to try others\n",
    "    )\n",
    "    model = get_peft_model(base_model, lora_config)\n",
    "    model.print_trainable_parameters()\n",
    "else:\n",
    "    model = base_model"
   ]
  },
  {
   "cell_type": "markdown",
   "id": "2e611b95",
   "metadata": {},
   "source": [
    "Move model to supported device"
   ]
  },
  {
   "cell_type": "code",
   "execution_count": 14,
   "id": "8dea532f",
   "metadata": {},
   "outputs": [
    {
     "name": "stdout",
     "output_type": "stream",
     "text": [
      "Using device: mps\n"
     ]
    },
    {
     "data": {
      "text/plain": [
       "PeftModelForCausalLM(\n",
       "  (base_model): LoraModel(\n",
       "    (model): GPT2LMHeadModel(\n",
       "      (transformer): GPT2Model(\n",
       "        (wte): Embedding(50257, 768)\n",
       "        (wpe): Embedding(1024, 768)\n",
       "        (drop): Dropout(p=0.1, inplace=False)\n",
       "        (h): ModuleList(\n",
       "          (0-11): 12 x GPT2Block(\n",
       "            (ln_1): LayerNorm((768,), eps=1e-05, elementwise_affine=True)\n",
       "            (attn): GPT2Attention(\n",
       "              (c_attn): lora.Linear(\n",
       "                (base_layer): Conv1D(nf=2304, nx=768)\n",
       "                (lora_dropout): ModuleDict(\n",
       "                  (default): Identity()\n",
       "                )\n",
       "                (lora_A): ModuleDict(\n",
       "                  (default): Linear(in_features=768, out_features=4, bias=False)\n",
       "                )\n",
       "                (lora_B): ModuleDict(\n",
       "                  (default): Linear(in_features=4, out_features=2304, bias=False)\n",
       "                )\n",
       "                (lora_embedding_A): ParameterDict()\n",
       "                (lora_embedding_B): ParameterDict()\n",
       "                (lora_magnitude_vector): ModuleDict()\n",
       "              )\n",
       "              (c_proj): Conv1D(nf=768, nx=768)\n",
       "              (attn_dropout): Dropout(p=0.1, inplace=False)\n",
       "              (resid_dropout): Dropout(p=0.1, inplace=False)\n",
       "            )\n",
       "            (ln_2): LayerNorm((768,), eps=1e-05, elementwise_affine=True)\n",
       "            (mlp): GPT2MLP(\n",
       "              (c_fc): Conv1D(nf=3072, nx=768)\n",
       "              (c_proj): Conv1D(nf=768, nx=3072)\n",
       "              (act): NewGELUActivation()\n",
       "              (dropout): Dropout(p=0.1, inplace=False)\n",
       "            )\n",
       "          )\n",
       "        )\n",
       "        (ln_f): LayerNorm((768,), eps=1e-05, elementwise_affine=True)\n",
       "      )\n",
       "      (lm_head): Linear(in_features=768, out_features=50257, bias=False)\n",
       "    )\n",
       "  )\n",
       ")"
      ]
     },
     "execution_count": 14,
     "metadata": {},
     "output_type": "execute_result"
    }
   ],
   "source": [
    "device = (\n",
    "    torch.device(\"mps\") if torch.backends.mps.is_available()\n",
    "    else torch.device(\"cuda\") if torch.cuda.is_available()\n",
    "    else torch.device(\"cpu\")\n",
    ")\n",
    "print(\"Using device:\", device)\n",
    "\n",
    "model.to(device)"
   ]
  },
  {
   "cell_type": "markdown",
   "id": "10483e34",
   "metadata": {},
   "source": [
    "TrainingArguments"
   ]
  },
  {
   "cell_type": "code",
   "execution_count": 15,
   "id": "978576d4",
   "metadata": {},
   "outputs": [],
   "source": [
    "training_args = TrainingArguments(\n",
    "    output_dir=OUTPUT_DIR,\n",
    "    per_device_train_batch_size=BATCH_SIZE,\n",
    "    per_device_eval_batch_size=BATCH_SIZE,\n",
    "    gradient_accumulation_steps=GRADIENT_ACCUMULATION_STEPS, \n",
    "    num_train_epochs=EPOCHS,\n",
    "    learning_rate=LR,\n",
    "    weight_decay=WEIGHT_DECAY, \n",
    "    max_grad_norm=GRAD_CLIP,\n",
    "    logging_steps=100,\n",
    "    eval_steps=500,\n",
    "    save_steps=500,\n",
    "    logging_strategy=\"steps\",\n",
    "    eval_strategy=\"steps\",\n",
    "    save_strategy=\"steps\",\n",
    "    remove_unused_columns=False,\n",
    "    load_best_model_at_end=True,\n",
    "    metric_for_best_model=\"eval_loss\",\n",
    "    push_to_hub=True,\n",
    ")"
   ]
  },
  {
   "cell_type": "markdown",
   "id": "c1dc8870",
   "metadata": {},
   "source": [
    "Trainer with loss logger"
   ]
  },
  {
   "cell_type": "code",
   "execution_count": 16,
   "id": "a1050a90",
   "metadata": {},
   "outputs": [
    {
     "name": "stderr",
     "output_type": "stream",
     "text": [
      "No label_names provided for model class `PeftModelForCausalLM`. Since `PeftModel` hides base models input arguments, if label_names is not given, label_names can't be set automatically within `Trainer`. Note that empty label_names list will be used instead.\n"
     ]
    }
   ],
   "source": [
    "class LossLogger(TrainerCallback):\n",
    "    def on_log(self, args, state, control, logs=None, **kwargs):\n",
    "        print(\"LOGS:\", logs)\n",
    "\n",
    "trainer = Trainer(\n",
    "    model=model,\n",
    "    args=training_args,\n",
    "    train_dataset=tokenized[\"train\"],\n",
    "    eval_dataset=tokenized[\"validation\"],\n",
    "    data_collator=data_collator,\n",
    "    callbacks=[LossLogger()]\n",
    ")"
   ]
  },
  {
   "cell_type": "markdown",
   "id": "650f50e1",
   "metadata": {},
   "source": [
    "Training"
   ]
  },
  {
   "cell_type": "code",
   "execution_count": 17,
   "id": "074661a0",
   "metadata": {},
   "outputs": [
    {
     "name": "stderr",
     "output_type": "stream",
     "text": [
      "/opt/homebrew/Caskroom/miniconda/base/envs/dissertation_apple/lib/python3.13/site-packages/torch/utils/data/dataloader.py:683: UserWarning: 'pin_memory' argument is set as true but not supported on MPS now, then device pinned memory won't be used.\n",
      "  warnings.warn(warn_msg)\n",
      "`loss_type=None` was set in the config but it is unrecognised.Using the default loss: `ForCausalLMLoss`.\n"
     ]
    },
    {
     "data": {
      "text/html": [
       "\n",
       "    <div>\n",
       "      \n",
       "      <progress value='345' max='345' style='width:300px; height:20px; vertical-align: middle;'></progress>\n",
       "      [345/345 07:55, Epoch 5/5]\n",
       "    </div>\n",
       "    <table border=\"1\" class=\"dataframe\">\n",
       "  <thead>\n",
       " <tr style=\"text-align: left;\">\n",
       "      <th>Step</th>\n",
       "      <th>Training Loss</th>\n",
       "      <th>Validation Loss</th>\n",
       "    </tr>\n",
       "  </thead>\n",
       "  <tbody>\n",
       "  </tbody>\n",
       "</table><p>"
      ],
      "text/plain": [
       "<IPython.core.display.HTML object>"
      ]
     },
     "metadata": {},
     "output_type": "display_data"
    },
    {
     "name": "stdout",
     "output_type": "stream",
     "text": [
      "LOGS: {'loss': 3.0229, 'learning_rate': 3.565217391304348e-05, 'epoch': 1.4492753623188406}\n",
      "LOGS: {'loss': 2.6586, 'learning_rate': 2.1159420289855072e-05, 'epoch': 2.898550724637681}\n",
      "LOGS: {'loss': 2.5673, 'learning_rate': 6.666666666666667e-06, 'epoch': 4.3478260869565215}\n",
      "LOGS: {'train_runtime': 479.4821, 'train_samples_per_second': 5.735, 'train_steps_per_second': 0.72, 'total_flos': 719798796288000.0, 'train_loss': 2.7220339788906815, 'epoch': 5.0}\n"
     ]
    },
    {
     "data": {
      "text/plain": [
       "TrainOutput(global_step=345, training_loss=2.7220339788906815, metrics={'train_runtime': 479.4821, 'train_samples_per_second': 5.735, 'train_steps_per_second': 0.72, 'total_flos': 719798796288000.0, 'train_loss': 2.7220339788906815, 'epoch': 5.0})"
      ]
     },
     "execution_count": 17,
     "metadata": {},
     "output_type": "execute_result"
    }
   ],
   "source": [
    "trainer.train()"
   ]
  },
  {
   "cell_type": "markdown",
   "id": "e31c5c14",
   "metadata": {},
   "source": [
    "Save model, tokenizer and deploy"
   ]
  },
  {
   "cell_type": "code",
   "execution_count": 18,
   "id": "29ce6bd2",
   "metadata": {},
   "outputs": [
    {
     "name": "stderr",
     "output_type": "stream",
     "text": [
      "No files have been modified since last commit. Skipping to prevent empty commit.\n"
     ]
    }
   ],
   "source": [
    "model.save_pretrained(OUTPUT_DIR)\n",
    "tokenizer.save_pretrained(OUTPUT_DIR)\n",
    "trainer.save_model(OUTPUT_DIR)"
   ]
  },
  {
   "cell_type": "markdown",
   "id": "385fff57",
   "metadata": {},
   "source": [
    "Basic evaluation"
   ]
  },
  {
   "cell_type": "code",
   "execution_count": 19,
   "id": "141a755b",
   "metadata": {},
   "outputs": [
    {
     "name": "stderr",
     "output_type": "stream",
     "text": [
      "/opt/homebrew/Caskroom/miniconda/base/envs/dissertation_apple/lib/python3.13/site-packages/torch/utils/data/dataloader.py:683: UserWarning: 'pin_memory' argument is set as true but not supported on MPS now, then device pinned memory won't be used.\n",
      "  warnings.warn(warn_msg)\n"
     ]
    },
    {
     "data": {
      "text/html": [
       "\n",
       "    <div>\n",
       "      \n",
       "      <progress value='38' max='19' style='width:300px; height:20px; vertical-align: middle;'></progress>\n",
       "      [19/19 00:12]\n",
       "    </div>\n",
       "    "
      ],
      "text/plain": [
       "<IPython.core.display.HTML object>"
      ]
     },
     "metadata": {},
     "output_type": "display_data"
    },
    {
     "name": "stdout",
     "output_type": "stream",
     "text": [
      "LOGS: {'eval_loss': 2.3970088958740234, 'eval_runtime': 5.5245, 'eval_samples_per_second': 13.757, 'eval_steps_per_second': 3.439, 'epoch': 5.0}\n",
      "Full eval results: {'eval_loss': 2.3970088958740234, 'eval_runtime': 5.5245, 'eval_samples_per_second': 13.757, 'eval_steps_per_second': 3.439, 'epoch': 5.0}\n",
      "Validation Perplexity:  10.990254173708028\n"
     ]
    }
   ],
   "source": [
    "eval_results = trainer.evaluate()\n",
    "\n",
    "print(\"Full eval results:\", eval_results)\n",
    "\n",
    "if eval_results.get(\"eval_loss\") is not None and not math.isnan(eval_results[\"eval_loss\"]):\n",
    "    print(\"Validation Perplexity: \", math.exp(eval_results[\"eval_loss\"]))\n",
    "else:\n",
    "    print(\"NaN eval loss\")"
   ]
  },
  {
   "cell_type": "markdown",
   "id": "dd0c2ea0",
   "metadata": {},
   "source": [
    "Convert the trainer log history into a DataFrame"
   ]
  },
  {
   "cell_type": "code",
   "execution_count": 20,
   "id": "513d10db",
   "metadata": {},
   "outputs": [
    {
     "name": "stdout",
     "output_type": "stream",
     "text": [
      "     loss  learning_rate     epoch  step  train_runtime  \\\n",
      "0  3.0229       0.000036  1.449275   100            NaN   \n",
      "1  2.6586       0.000021  2.898551   200            NaN   \n",
      "2  2.5673       0.000007  4.347826   300            NaN   \n",
      "3     NaN            NaN  5.000000   345       479.4821   \n",
      "4     NaN            NaN  5.000000   345            NaN   \n",
      "\n",
      "   train_samples_per_second  train_steps_per_second    total_flos  train_loss  \\\n",
      "0                       NaN                     NaN           NaN         NaN   \n",
      "1                       NaN                     NaN           NaN         NaN   \n",
      "2                       NaN                     NaN           NaN         NaN   \n",
      "3                     5.735                    0.72  7.197988e+14    2.722034   \n",
      "4                       NaN                     NaN           NaN         NaN   \n",
      "\n",
      "   eval_loss  eval_runtime  eval_samples_per_second  eval_steps_per_second  \n",
      "0        NaN           NaN                      NaN                    NaN  \n",
      "1        NaN           NaN                      NaN                    NaN  \n",
      "2        NaN           NaN                      NaN                    NaN  \n",
      "3        NaN           NaN                      NaN                    NaN  \n",
      "4   2.397009        5.5245                   13.757                  3.439  \n"
     ]
    }
   ],
   "source": [
    "logs = trainer.state.log_history\n",
    "df = pd.DataFrame(logs)\n",
    "print(df)"
   ]
  },
  {
   "cell_type": "markdown",
   "id": "1d88a7d3",
   "metadata": {},
   "source": [
    "Plot training loss vs global step"
   ]
  },
  {
   "cell_type": "code",
   "execution_count": 21,
   "id": "1ff66623",
   "metadata": {},
   "outputs": [
    {
     "data": {
      "image/png": "[encoded data removed]",
      "text/plain": [
       "<Figure size 640x480 with 1 Axes>"
      ]
     },
     "metadata": {},
     "output_type": "display_data"
    }
   ],
   "source": [
    "train_df = df[df[\"loss\"].notna()]\n",
    "plt.plot(train_df[\"step\"], train_df[\"loss\"])\n",
    "plt.xlabel(\"Global Step\")\n",
    "plt.ylabel(\"Training Loss\")\n",
    "plt.title(\"Training Loss over Time\")\n",
    "plt.show()"
   ]
  },
  {
   "cell_type": "markdown",
   "id": "e6f322c1",
   "metadata": {},
   "source": [
    "Plot training perplexity vs global step"
   ]
  },
  {
   "cell_type": "code",
   "execution_count": 22,
   "id": "045acada",
   "metadata": {},
   "outputs": [
    {
     "name": "stderr",
     "output_type": "stream",
     "text": [
      "/var/folders/1t/7n837bkd5sd19nbzclkmhv2m0000gn/T/ipykernel_46433/702312287.py:1: SettingWithCopyWarning: \n",
      "A value is trying to be set on a copy of a slice from a DataFrame.\n",
      "Try using .loc[row_indexer,col_indexer] = value instead\n",
      "\n",
      "See the caveats in the documentation: https://pandas.pydata.org/pandas-docs/stable/user_guide/indexing.html#returning-a-view-versus-a-copy\n",
      "  train_df[\"perplexity\"] = train_df[\"loss\"].apply(math.exp)\n"
     ]
    },
    {
     "data": {
      "image/png": "[encoded data removed]",
      "text/plain": [
       "<Figure size 640x480 with 1 Axes>"
      ]
     },
     "metadata": {},
     "output_type": "display_data"
    }
   ],
   "source": [
    "train_df[\"perplexity\"] = train_df[\"loss\"].apply(math.exp)\n",
    "plt.figure()\n",
    "plt.plot(train_df[\"step\"], train_df[\"perplexity\"], marker=\"o\")\n",
    "plt.xlabel(\"Global Step\")\n",
    "plt.ylabel(\"Training Perplexity\")\n",
    "plt.title(\"Training Perplexity over Time\")\n",
    "plt.show()"
   ]
  },
  {
   "cell_type": "markdown",
   "id": "ec126838",
   "metadata": {},
   "source": [
    "Load each checkpoint’s weights into your model"
   ]
  },
  {
   "cell_type": "code",
   "execution_count": 23,
   "id": "890f97c5",
   "metadata": {},
   "outputs": [
    {
     "name": "stderr",
     "output_type": "stream",
     "text": [
      "/opt/homebrew/Caskroom/miniconda/base/envs/dissertation_apple/lib/python3.13/site-packages/torch/utils/data/dataloader.py:683: UserWarning: 'pin_memory' argument is set as true but not supported on MPS now, then device pinned memory won't be used.\n",
      "  warnings.warn(warn_msg)\n"
     ]
    },
    {
     "name": "stdout",
     "output_type": "stream",
     "text": [
      "LOGS: {'eval_loss': 2.3970088958740234, 'eval_runtime': 5.1487, 'eval_samples_per_second': 14.761, 'eval_steps_per_second': 3.69, 'epoch': 5.0}\n"
     ]
    }
   ],
   "source": [
    "# ckpts = [\n",
    "#     \"checkpoint-500\",\"checkpoint-1000\",\"checkpoint-1500\",\n",
    "#     \"checkpoint-2000\",\"checkpoint-2500\",\"checkpoint-3000\",\n",
    "#     \"checkpoint-3500\",\"checkpoint-4000\",\"checkpoint-4500\",\n",
    "#     \"checkpoint-4851\"\n",
    "# ]\n",
    "\n",
    "ckpts = [\n",
    "    \"checkpoint-345\"\n",
    "]\n",
    "\n",
    "records = []\n",
    "for ckpt in ckpts:\n",
    "    ckpt_path = f\"{OUTPUT_DIR}/{ckpt}\"\n",
    "\n",
    "    # 1) Reload the model weights\n",
    "    model = AutoModelForCausalLM.from_pretrained(ckpt_path)\n",
    "    model.to(trainer.args.device)\n",
    "\n",
    "    # 2) Patch the Trainer’s model\n",
    "    trainer.model = model\n",
    "\n",
    "    # 3) Run evaluation on your validation split\n",
    "    metrics = trainer.evaluate()        # no args here\n",
    "\n",
    "    # 4) Record step & loss (& perplexity)\n",
    "    step = int(ckpt.split(\"-\")[-1])\n",
    "    loss = metrics[\"eval_loss\"]\n",
    "    records.append({\n",
    "      \"step\": step,\n",
    "      \"eval_loss\": loss,\n",
    "      \"perplexity\": math.exp(loss)\n",
    "    })\n",
    "\n",
    "df = pd.DataFrame(records).sort_values(\"step\")"
   ]
  },
  {
   "cell_type": "markdown",
   "id": "ebd8b90f",
   "metadata": {},
   "source": [
    "Plot evaluation loss vs global step"
   ]
  },
  {
   "cell_type": "code",
   "execution_count": 24,
   "id": "34d515a1",
   "metadata": {},
   "outputs": [
    {
     "data": {
      "image/png": "[encoded data removed]",
      "text/plain": [
       "<Figure size 640x480 with 1 Axes>"
      ]
     },
     "metadata": {},
     "output_type": "display_data"
    }
   ],
   "source": [
    "plt.figure()\n",
    "plt.plot(df[\"step\"], df[\"eval_loss\"])\n",
    "plt.xlabel(\"Global Step\")\n",
    "plt.ylabel(\"Validation Loss\")\n",
    "plt.title(\"Validation Loss over Checkpoints\")\n",
    "plt.show()"
   ]
  },
  {
   "cell_type": "markdown",
   "id": "6c972036",
   "metadata": {},
   "source": [
    "Convert loss to perplexity for easier interpretation: perplexity = exp(loss)"
   ]
  },
  {
   "cell_type": "code",
   "execution_count": 25,
   "id": "b026d3c2",
   "metadata": {},
   "outputs": [
    {
     "data": {
      "image/png": "[encoded data removed]",
      "text/plain": [
       "<Figure size 640x480 with 1 Axes>"
      ]
     },
     "metadata": {},
     "output_type": "display_data"
    }
   ],
   "source": [
    "plt.figure()\n",
    "plt.plot(df[\"step\"], df[\"perplexity\"], marker=\"o\")\n",
    "plt.xlabel(\"Global Step\")\n",
    "plt.ylabel(\"Validation Perplexity\")\n",
    "plt.title(\"Validation Perplexity over Checkpoints\")\n",
    "plt.show()"
   ]
  },
  {
   "cell_type": "markdown",
   "id": "08e4b34b",
   "metadata": {},
   "source": [
    "Top-5 Token Accuracy and MRR over validation set"
   ]
  },
  {
   "cell_type": "code",
   "execution_count": 26,
   "id": "edefddeb",
   "metadata": {},
   "outputs": [
    {
     "name": "stdout",
     "output_type": "stream",
     "text": [
      "Top-5 Accuracy: 0.1713\n",
      "MRR:             0.1263\n"
     ]
    }
   ],
   "source": [
    "def stream_topk_mrr(model, trainer, k=5, batch_size=1):\n",
    "    \"\"\"\n",
    "    Streams through the Trainer’s eval_dataloader batch-by-batch,\n",
    "    accumulates top-k matches and reciprocal ranks,\n",
    "    and keeps memory use small.\n",
    "    \"\"\"\n",
    "    # Put model in eval mode & grab device\n",
    "    model.eval()\n",
    "    device = next(model.parameters()).device\n",
    "    \n",
    "    # Use the Trainer’s built-in eval dataloader (with correct collation)\n",
    "    loader: DataLoader = trainer.get_eval_dataloader()\n",
    "    \n",
    "    total_tokens = 0\n",
    "    topk_matches = 0\n",
    "    rr_sum = 0.0\n",
    "\n",
    "    with torch.no_grad():\n",
    "        for batch in loader:\n",
    "            # batch is a dict of torch.Tensor already\n",
    "            labels = batch.pop(\"labels\").to(device)   # shape (bs, seq_len)\n",
    "            # move all other inputs to device\n",
    "            inputs = {k: v.to(device) for k, v in batch.items()}\n",
    "            \n",
    "            # forward\n",
    "            logits = model(**inputs).logits.cpu().numpy()  # (bs, seq_len, vocab_size)\n",
    "            lbls   = labels.cpu().numpy()                 # (bs, seq_len)\n",
    "\n",
    "            # mask out padding tokens\n",
    "            mask = lbls != -100                             # (bs, seq_len)\n",
    "            flat_logits = logits[mask].reshape(-1, logits.shape[-1])  # (N_toks, V)\n",
    "            flat_labels = lbls[mask].reshape(-1)                     # (N_toks,)\n",
    "\n",
    "            # Top-k matches via argpartition (cheap per-row)\n",
    "            topk_idxs = np.argpartition(flat_logits, -k, axis=-1)[:, -k:]\n",
    "            topk_matches += np.sum([flat_labels[i] in topk_idxs[i]\n",
    "                                    for i in range(flat_labels.shape[0])])\n",
    "\n",
    "            # MRR: rank = 1 + # of logits > true_logit\n",
    "            true_scores = flat_logits[np.arange(flat_labels.shape[0]), flat_labels]\n",
    "            ranks = 1 + np.sum(flat_logits > true_scores[:, None], axis=1)\n",
    "            rr_sum += np.sum(1.0 / ranks)\n",
    "\n",
    "            total_tokens += flat_labels.shape[0]\n",
    "\n",
    "    topk_acc = topk_matches / total_tokens\n",
    "    mrr      = rr_sum / total_tokens\n",
    "    return topk_acc, mrr\n",
    "\n",
    "# Usage:\n",
    "top5_acc, mrr = stream_topk_mrr(model, trainer, k=5)\n",
    "print(f\"Top-5 Accuracy: {top5_acc:.4f}\")\n",
    "print(f\"MRR:             {mrr:.4f}\")\n"
   ]
  },
  {
   "cell_type": "markdown",
   "id": "65adcad8",
   "metadata": {},
   "source": [
    "Top-5 Accuracy bar chart"
   ]
  },
  {
   "cell_type": "code",
   "execution_count": 27,
   "id": "9e8e405e",
   "metadata": {},
   "outputs": [
    {
     "data": {
      "image/png": "[encoded data removed]",
      "text/plain": [
       "<Figure size 640x480 with 1 Axes>"
      ]
     },
     "metadata": {},
     "output_type": "display_data"
    }
   ],
   "source": [
    "plt.figure()\n",
    "plt.bar(['Top-5 Accuracy'], [top5_acc])\n",
    "plt.ylim(0, 1)\n",
    "plt.title('Top-5 Token Accuracy')\n",
    "plt.ylabel('Accuracy')\n",
    "plt.show()"
   ]
  },
  {
   "cell_type": "markdown",
   "id": "43c0f549",
   "metadata": {},
   "source": [
    "MRR bar chart"
   ]
  },
  {
   "cell_type": "code",
   "execution_count": 28,
   "id": "c873fde3",
   "metadata": {},
   "outputs": [
    {
     "data": {
      "image/png": "[encoded data removed]",
      "text/plain": [
       "<Figure size 640x480 with 1 Axes>"
      ]
     },
     "metadata": {},
     "output_type": "display_data"
    }
   ],
   "source": [
    "plt.figure()\n",
    "plt.bar(['MRR'], [mrr])\n",
    "plt.ylim(0, 1)\n",
    "plt.title('Mean Reciprocal Rank (MRR)')\n",
    "plt.ylabel('MRR')\n",
    "plt.show()"
   ]
  },
  {
   "cell_type": "markdown",
   "id": "8e5c3f3d",
   "metadata": {},
   "source": [
    "Inference Latency Histogram\n",
    "Measure per-sample inference latency and visualize"
   ]
  },
  {
   "cell_type": "code",
   "execution_count": 29,
   "id": "0ca58b2a",
   "metadata": {},
   "outputs": [
    {
     "name": "stdout",
     "output_type": "stream",
     "text": [
      "Mean latency: 0.0317s\n",
      "Std  latency: 0.0027s\n"
     ]
    },
    {
     "data": {
      "image/png": "[encoded data removed]",
      "text/plain": [
       "<Figure size 640x480 with 1 Axes>"
      ]
     },
     "metadata": {},
     "output_type": "display_data"
    }
   ],
   "source": [
    "model.eval()\n",
    "device = next(model.parameters()).device\n",
    "loader = trainer.get_eval_dataloader()\n",
    "\n",
    "latencies = []\n",
    "with torch.no_grad():\n",
    "    for batch in loader:\n",
    "        batch.pop(\"labels\", None)\n",
    "        inputs = {k: v.to(device) for k, v in batch.items()}\n",
    "        start = time.monotonic()\n",
    "        _ = model(**inputs)\n",
    "        end = time.monotonic()\n",
    "        latencies.append(end - start)\n",
    "\n",
    "latencies = np.array(latencies)\n",
    "\n",
    "print(f\"Mean latency: {latencies.mean():.4f}s\")\n",
    "print(f\"Std  latency: {latencies.std():.4f}s\")\n",
    "\n",
    "plt.figure()\n",
    "plt.hist(latencies, bins=20)\n",
    "plt.xlabel(\"Latency (seconds)\")\n",
    "plt.ylabel(\"Frequency\")\n",
    "plt.title(\"Inference Latency Distribution\")\n",
    "plt.show()\n"
   ]
  }
 ],
 "metadata": {
  "kernelspec": {
   "display_name": "dissertation_apple",
   "language": "python",
   "name": "python3"
  },
  "language_info": {
   "codemirror_mode": {
    "name": "ipython",
    "version": 3
   },
   "file_extension": ".py",
   "mimetype": "text/x-python",
   "name": "python",
   "nbconvert_exporter": "python",
   "pygments_lexer": "ipython3",
   "version": "3.13.2"
  }
 },
 "nbformat": 4,
 "nbformat_minor": 5
}
