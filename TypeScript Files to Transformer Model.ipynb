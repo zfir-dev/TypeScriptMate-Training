{
 "cells": [
  {
   "cell_type": "code",
   "execution_count": null,
   "id": "4af4ab5a",
   "metadata": {
    "vscode": {
     "languageId": "plaintext"
    }
   },
   "outputs": [],
   "source": [
    "!pip install --quiet transformers datasets"
   ]
  },
  {
   "cell_type": "code",
   "execution_count": null,
   "id": "5c9a000d",
   "metadata": {
    "vscode": {
     "languageId": "plaintext"
    }
   },
   "outputs": [],
   "source": [
    "import os\n",
    "\n",
    "folder = \"ts-output\"\n",
    "file_count = sum(len(files) for _, _, files in os.walk(folder))\n",
    "print(\"Total files:\", file_count)"
   ]
  },
  {
   "cell_type": "code",
   "execution_count": null,
   "id": "cb462f78",
   "metadata": {
    "vscode": {
     "languageId": "plaintext"
    }
   },
   "outputs": [],
   "source": [
    "# ─── 2) Imports ─────────────────────────────────────────────────────────────\n",
    "import glob, os, math\n",
    "import torch\n",
    "from datasets import Dataset, DatasetDict\n",
    "from transformers import (\n",
    "    AutoTokenizer,\n",
    "    AutoModelForCausalLM,\n",
    "    DataCollatorForLanguageModeling,\n",
    "    Trainer, TrainingArguments\n",
    ")\n",
    "\n",
    "# ─── 3) Configuration ───────────────────────────────────────────────────────\n",
    "DATA_DIR   = \"ts-output\"                       # local folder with .ts/.tsx files\n",
    "BATCH_SIZE = 4\n",
    "MAX_LENGTH = 512\n",
    "EPOCHS     = 3\n",
    "OUTPUT_DIR = \"./ts-code-completion-model\"\n",
    "\n",
    "# ─── 4) Gather all TS/TSX paths ─────────────────────────────────────────────\n",
    "ts_paths  = glob.glob(os.path.join(DATA_DIR, \"**/*.ts\"),  recursive=True)\n",
    "tsx_paths = glob.glob(os.path.join(DATA_DIR, \"**/*.tsx\"), recursive=True)\n",
    "all_paths = ts_paths + tsx_paths\n",
    "print(f\"Found {len(all_paths)} TypeScript files\")\n",
    "\n",
    "# ─── 5) Build a HF Dataset from file contents ───────────────────────────────\n",
    "def gen_examples():\n",
    "    for path in all_paths:\n",
    "        with open(path, \"r\", encoding=\"utf-8\", errors=\"ignore\") as f:\n",
    "            text = f.read()\n",
    "        yield {\"text\": text}\n",
    "\n",
    "dataset_all = Dataset.from_generator(gen_examples)\n",
    "\n",
    "# ─── 6) Split into train / validation ───────────────────────────────────────\n",
    "splits = dataset_all.train_test_split(test_size=0.1, seed=42)\n",
    "datasets = DatasetDict(train=splits[\"train\"], validation=splits[\"test\"])\n",
    "\n",
    "# ─── 7) Load & configure the tokenizer ─────────────────────────────────────\n",
    "tokenizer = AutoTokenizer.from_pretrained(\"gpt2\", use_fast=True)\n",
    "tokenizer.pad_token = tokenizer.eos_token\n",
    "\n",
    "def tokenize_fn(batch):\n",
    "    return tokenizer(\n",
    "        batch[\"text\"],\n",
    "        truncation=True,\n",
    "        padding=\"max_length\",\n",
    "        max_length=MAX_LENGTH\n",
    "    )\n",
    "\n",
    "tokenized = datasets.map(\n",
    "    tokenize_fn,\n",
    "    batched=True,\n",
    "    remove_columns=[\"text\"]\n",
    ")\n",
    "\n",
    "# ─── 8) Data collator & model ──────────────────────────────────────────────\n",
    "data_collator = DataCollatorForLanguageModeling(tokenizer, mlm=False)\n",
    "model = AutoModelForCausalLM.from_pretrained(\"gpt2\")\n",
    "\n",
    "# ─── 9) Training arguments ─────────────────────────────────────────────────\n",
    "training_args = TrainingArguments(\n",
    "    output_dir=OUTPUT_DIR,\n",
    "    per_device_train_batch_size=BATCH_SIZE,\n",
    "    per_device_eval_batch_size=BATCH_SIZE,\n",
    "    num_train_epochs=EPOCHS,\n",
    "    save_steps=500,\n",
    "    logging_steps=200,\n",
    "    save_total_limit=2,\n",
    "    learning_rate=5e-5,\n",
    "    weight_decay=0.01,\n",
    "    fp16=torch.cuda.is_available(),\n",
    "    do_train=True,\n",
    "    do_eval=True\n",
    ")\n",
    "\n",
    "# ─── 10) Initialize Trainer ─────────────────────────────────────────────────\n",
    "trainer = Trainer(\n",
    "    model=model,\n",
    "    args=training_args,\n",
    "    train_dataset=tokenized[\"train\"],\n",
    "    eval_dataset=tokenized[\"validation\"],\n",
    "    data_collator=data_collator\n",
    ")\n",
    "\n",
    "# ─── 11) Train ──────────────────────────────────────────────────────────────\n",
    "trainer.train()\n",
    "\n",
    "# ─── 12) Evaluate & print metrics ──────────────────────────────────────────\n",
    "eval_results = trainer.evaluate()\n",
    "\n",
    "print(\"Full eval results:\", eval_results)"
   ]
  }
 ],
 "metadata": {
  "language_info": {
   "name": "python"
  }
 },
 "nbformat": 4,
 "nbformat_minor": 5
}
