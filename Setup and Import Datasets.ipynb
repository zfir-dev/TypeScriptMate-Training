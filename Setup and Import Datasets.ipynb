{
 "cells": [
  {
   "cell_type": "markdown",
   "metadata": {},
   "source": [
    "Install Packages/Libraries"
   ]
  },
  {
   "cell_type": "code",
   "execution_count": 1,
   "metadata": {
    "tags": []
   },
   "outputs": [
    {
     "name": "stdout",
     "output_type": "stream",
     "text": [
      "Requirement already satisfied: gdown in /opt/homebrew/Caskroom/miniconda/base/envs/dissertation_apple/lib/python3.13/site-packages (5.2.0)\n",
      "Requirement already satisfied: beautifulsoup4 in /opt/homebrew/Caskroom/miniconda/base/envs/dissertation_apple/lib/python3.13/site-packages (from gdown) (4.13.4)\n",
      "Requirement already satisfied: filelock in /opt/homebrew/Caskroom/miniconda/base/envs/dissertation_apple/lib/python3.13/site-packages (from gdown) (3.18.0)\n",
      "Requirement already satisfied: requests[socks] in /opt/homebrew/Caskroom/miniconda/base/envs/dissertation_apple/lib/python3.13/site-packages (from gdown) (2.32.3)\n",
      "Requirement already satisfied: tqdm in /opt/homebrew/Caskroom/miniconda/base/envs/dissertation_apple/lib/python3.13/site-packages (from gdown) (4.67.1)\n",
      "Requirement already satisfied: soupsieve>1.2 in /opt/homebrew/Caskroom/miniconda/base/envs/dissertation_apple/lib/python3.13/site-packages (from beautifulsoup4->gdown) (2.7)\n",
      "Requirement already satisfied: typing-extensions>=4.0.0 in /opt/homebrew/Caskroom/miniconda/base/envs/dissertation_apple/lib/python3.13/site-packages (from beautifulsoup4->gdown) (4.13.2)\n",
      "Requirement already satisfied: charset-normalizer<4,>=2 in /opt/homebrew/Caskroom/miniconda/base/envs/dissertation_apple/lib/python3.13/site-packages (from requests[socks]->gdown) (3.4.2)\n",
      "Requirement already satisfied: idna<4,>=2.5 in /opt/homebrew/Caskroom/miniconda/base/envs/dissertation_apple/lib/python3.13/site-packages (from requests[socks]->gdown) (3.10)\n",
      "Requirement already satisfied: urllib3<3,>=1.21.1 in /opt/homebrew/Caskroom/miniconda/base/envs/dissertation_apple/lib/python3.13/site-packages (from requests[socks]->gdown) (2.4.0)\n",
      "Requirement already satisfied: certifi>=2017.4.17 in /opt/homebrew/Caskroom/miniconda/base/envs/dissertation_apple/lib/python3.13/site-packages (from requests[socks]->gdown) (2025.4.26)\n",
      "Requirement already satisfied: PySocks!=1.5.7,>=1.5.6 in /opt/homebrew/Caskroom/miniconda/base/envs/dissertation_apple/lib/python3.13/site-packages (from requests[socks]->gdown) (1.7.1)\n",
      "Note: you may need to restart the kernel to use updated packages.\n"
     ]
    }
   ],
   "source": [
    "%pip install gdown"
   ]
  },
  {
   "cell_type": "markdown",
   "metadata": {},
   "source": [
    "Import Packages/Libraries"
   ]
  },
  {
   "cell_type": "code",
   "execution_count": 2,
   "metadata": {
    "tags": []
   },
   "outputs": [],
   "source": [
    "import os\n",
    "import gdown"
   ]
  },
  {
   "cell_type": "markdown",
   "metadata": {},
   "source": [
    "Create outputs folder"
   ]
  },
  {
   "cell_type": "code",
   "execution_count": 3,
   "metadata": {
    "tags": []
   },
   "outputs": [
    {
     "name": "stdout",
     "output_type": "stream",
     "text": [
      "Outputs folder created successfully!\n"
     ]
    }
   ],
   "source": [
    "os.makedirs('outputs', exist_ok=True)\n",
    "print(\"Outputs folder created successfully!\")"
   ]
  },
  {
   "cell_type": "markdown",
   "metadata": {},
   "source": [
    "Download dataset from google drive"
   ]
  },
  {
   "cell_type": "code",
   "execution_count": null,
   "metadata": {
    "tags": []
   },
   "outputs": [
    {
     "name": "stderr",
     "output_type": "stream",
     "text": [
      "Downloading...\n",
      "From (original): https://drive.google.com/uc?id=1tJvWz9gV-ihBGt0RhrCc8Bym6A3mxrDu\n",
      "From (redirected): https://drive.google.com/uc?id=1tJvWz9gV-ihBGt0RhrCc8Bym6A3mxrDu&confirm=t&uuid=a50283b0-a336-438c-9e16-b02b5a771472\n",
      "To: /Users/zfir/Desktop/Workspace/TypeScriptMate-Training/outputs/bigcode-ts-output-4000-formatted.zip\n",
      "100%|██████████| 6.26M/6.26M [00:01<00:00, 4.82MB/s]\n",
      "Downloading...\n",
      "From: https://drive.google.com/uc?id=1EyV9aloaHosUA9WEqMY9WJLYDuvpHfUX\n",
      "To: /Users/zfir/Desktop/Workspace/TypeScriptMate-Training/outputs/bigcode-ts-output-4000-types.csv\n",
      "100%|██████████| 1.29M/1.29M [00:00<00:00, 1.91MB/s]\n",
      "Downloading...\n",
      "From (original): https://drive.google.com/uc?id=1XmyOtHo3LqgdhqHWuunTaG8ZN7CFaNE0\n",
      "From (redirected): https://drive.google.com/uc?id=1XmyOtHo3LqgdhqHWuunTaG8ZN7CFaNE0&confirm=t&uuid=88614888-bae3-4ff4-8cb8-71ff907c9103\n",
      "To: /Users/zfir/Desktop/Workspace/TypeScriptMate-Training/outputs/bigcode-ts-output-50000-formatted.zip\n",
      "100%|██████████| 58.3M/58.3M [00:06<00:00, 8.39MB/s]\n",
      "Downloading...\n",
      "From: https://drive.google.com/uc?id=188SulMezGL_Tdw6GY0NQboTO5DlEbt9E\n",
      "To: /Users/zfir/Desktop/Workspace/TypeScriptMate-Training/outputs/bigcode-ts-output-50000-types.csv\n",
      "100%|██████████| 11.8M/11.8M [00:02<00:00, 4.28MB/s]\n",
      "Downloading...\n",
      "From (original): https://drive.google.com/uc?id=10gP2O2xFETeURooPdnG5F0oL9VhUlANa\n",
      "From (redirected): https://drive.google.com/uc?id=10gP2O2xFETeURooPdnG5F0oL9VhUlANa&confirm=t&uuid=3b1971e3-c95a-4a9c-8e43-01ab0732ea99\n",
      "To: /Users/zfir/Desktop/Workspace/TypeScriptMate-Training/outputs/github-ts-output-formatted.zip\n",
      "100%|██████████| 523M/523M [01:14<00:00, 7.01MB/s] \n",
      "Downloading...\n",
      "From: https://drive.google.com/uc?id=1A26cZJTeEKakupvYVSD-24RvM4hWhZwL\n",
      "To: /Users/zfir/Desktop/Workspace/TypeScriptMate-Training/outputs/github-ts-output-types.csv\n",
      "100%|██████████| 72.4M/72.4M [00:18<00:00, 3.88MB/s]\n"
     ]
    },
    {
     "data": {
      "text/plain": [
       "'outputs/github-ts-output-types.csv'"
      ]
     },
     "execution_count": 4,
     "metadata": {},
     "output_type": "execute_result"
    }
   ],
   "source": [
    "gdown.download('https://drive.google.com/uc?id=1tJvWz9gV-ihBGt0RhrCc8Bym6A3mxrDu', 'outputs/bigcode-ts-output-4000-formatted.zip')\n",
    "gdown.download('https://drive.google.com/uc?id=1EyV9aloaHosUA9WEqMY9WJLYDuvpHfUX', 'outputs/bigcode-ts-output-4000-types.csv')\n",
    "gdown.download('https://drive.google.com/uc?id=1XmyOtHo3LqgdhqHWuunTaG8ZN7CFaNE0', 'outputs/bigcode-ts-output-50000-formatted.zip')\n",
    "gdown.download('https://drive.google.com/uc?id=188SulMezGL_Tdw6GY0NQboTO5DlEbt9E', 'outputs/bigcode-ts-output-50000-types.csv')\n",
    "gdown.download('https://drive.google.com/uc?id=10gP2O2xFETeURooPdnG5F0oL9VhUlANa', 'outputs/github-ts-output-formatted.zip')\n",
    "gdown.download('https://drive.google.com/uc?id=1A26cZJTeEKakupvYVSD-24RvM4hWhZwL', 'outputs/github-ts-output-types.csv')"
   ]
  },
  {
   "cell_type": "markdown",
   "metadata": {},
   "source": [
    "Unzip datasets"
   ]
  },
  {
   "cell_type": "code",
   "execution_count": 2,
   "metadata": {
    "tags": []
   },
   "outputs": [],
   "source": [
    "!unzip -q outputs/bigcode-ts-output-4000-formatted.zip -d outputs \n",
    "!unzip -q outputs/bigcode-ts-output-50000-formatted.zip -d outputs \n",
    "!unzip -q outputs/github-ts-output-formatted.zip -d outputs "
   ]
  }
 ],
 "metadata": {
  "kernelspec": {
   "display_name": "dissertation_apple",
   "language": "python",
   "name": "python3"
  },
  "language_info": {
   "codemirror_mode": {
    "name": "ipython",
    "version": 3
   },
   "file_extension": ".py",
   "mimetype": "text/x-python",
   "name": "python",
   "nbconvert_exporter": "python",
   "pygments_lexer": "ipython3",
   "version": "3.13.2"
  }
 },
 "nbformat": 4,
 "nbformat_minor": 4
}
