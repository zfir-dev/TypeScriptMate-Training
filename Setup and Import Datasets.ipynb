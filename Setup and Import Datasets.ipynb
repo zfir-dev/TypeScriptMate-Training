{
 "cells": [
  {
   "cell_type": "markdown",
   "metadata": {},
   "source": [
    "Install Packages/Libraries"
   ]
  },
  {
   "cell_type": "code",
   "execution_count": 1,
   "metadata": {},
   "outputs": [
    {
     "name": "stdout",
     "output_type": "stream",
     "text": [
      "Collecting gdown\n",
      "  Downloading gdown-5.2.0-py3-none-any.whl.metadata (5.8 kB)\n",
      "Collecting beautifulsoup4 (from gdown)\n",
      "  Using cached beautifulsoup4-4.13.4-py3-none-any.whl.metadata (3.8 kB)\n",
      "Requirement already satisfied: filelock in /opt/homebrew/Caskroom/miniconda/base/envs/dissertation_apple/lib/python3.13/site-packages (from gdown) (3.18.0)\n",
      "Requirement already satisfied: requests[socks] in /opt/homebrew/Caskroom/miniconda/base/envs/dissertation_apple/lib/python3.13/site-packages (from gdown) (2.32.3)\n",
      "Requirement already satisfied: tqdm in /opt/homebrew/Caskroom/miniconda/base/envs/dissertation_apple/lib/python3.13/site-packages (from gdown) (4.67.1)\n",
      "Collecting soupsieve>1.2 (from beautifulsoup4->gdown)\n",
      "  Using cached soupsieve-2.7-py3-none-any.whl.metadata (4.6 kB)\n",
      "Requirement already satisfied: typing-extensions>=4.0.0 in /opt/homebrew/Caskroom/miniconda/base/envs/dissertation_apple/lib/python3.13/site-packages (from beautifulsoup4->gdown) (4.13.2)\n",
      "Requirement already satisfied: charset-normalizer<4,>=2 in /opt/homebrew/Caskroom/miniconda/base/envs/dissertation_apple/lib/python3.13/site-packages (from requests[socks]->gdown) (3.4.2)\n",
      "Requirement already satisfied: idna<4,>=2.5 in /opt/homebrew/Caskroom/miniconda/base/envs/dissertation_apple/lib/python3.13/site-packages (from requests[socks]->gdown) (3.10)\n",
      "Requirement already satisfied: urllib3<3,>=1.21.1 in /opt/homebrew/Caskroom/miniconda/base/envs/dissertation_apple/lib/python3.13/site-packages (from requests[socks]->gdown) (2.4.0)\n",
      "Requirement already satisfied: certifi>=2017.4.17 in /opt/homebrew/Caskroom/miniconda/base/envs/dissertation_apple/lib/python3.13/site-packages (from requests[socks]->gdown) (2025.4.26)\n",
      "Collecting PySocks!=1.5.7,>=1.5.6 (from requests[socks]->gdown)\n",
      "  Downloading PySocks-1.7.1-py3-none-any.whl.metadata (13 kB)\n",
      "Downloading gdown-5.2.0-py3-none-any.whl (18 kB)\n",
      "Using cached beautifulsoup4-4.13.4-py3-none-any.whl (187 kB)\n",
      "Using cached soupsieve-2.7-py3-none-any.whl (36 kB)\n",
      "Downloading PySocks-1.7.1-py3-none-any.whl (16 kB)\n",
      "Installing collected packages: soupsieve, PySocks, beautifulsoup4, gdown\n",
      "\u001b[2K   \u001b[90m━━━━━━━━━━━━━━━━━━━━━━━━━━━━━━━━━━━━━━━━\u001b[0m \u001b[32m4/4\u001b[0m [gdown]\n",
      "\u001b[1A\u001b[2KSuccessfully installed PySocks-1.7.1 beautifulsoup4-4.13.4 gdown-5.2.0 soupsieve-2.7\n",
      "Note: you may need to restart the kernel to use updated packages.\n"
     ]
    }
   ],
   "source": [
    "%pip install gdown"
   ]
  },
  {
   "cell_type": "markdown",
   "metadata": {},
   "source": [
    "Import Packages/Libraries"
   ]
  },
  {
   "cell_type": "code",
   "execution_count": 2,
   "metadata": {},
   "outputs": [],
   "source": [
    "import os\n",
    "import gdown"
   ]
  },
  {
   "cell_type": "markdown",
   "metadata": {},
   "source": [
    "Create outputs folder"
   ]
  },
  {
   "cell_type": "code",
   "execution_count": 3,
   "metadata": {},
   "outputs": [
    {
     "name": "stdout",
     "output_type": "stream",
     "text": [
      "Outputs folder created successfully!\n"
     ]
    }
   ],
   "source": [
    "os.makedirs('outputs', exist_ok=True)\n",
    "print(\"Outputs folder created successfully!\")"
   ]
  },
  {
   "cell_type": "markdown",
   "metadata": {},
   "source": [
    "Download dataset from google drive"
   ]
  },
  {
   "cell_type": "code",
   "execution_count": 4,
   "metadata": {},
   "outputs": [
    {
     "name": "stderr",
     "output_type": "stream",
     "text": [
      "Downloading...\n",
      "From (original): https://drive.google.com/uc?id=1tJvWz9gV-ihBGt0RhrCc8Bym6A3mxrDu\n",
      "From (redirected): https://drive.google.com/uc?id=1tJvWz9gV-ihBGt0RhrCc8Bym6A3mxrDu&confirm=t&uuid=23c24ac3-38cd-468a-8546-fab0d07a2e16\n",
      "To: /Users/zfir/Desktop/Workspace/TypeScriptMate-Training/outputs/bigcode-ts-output-4000-formatted.zip\n",
      "100%|██████████| 5.96M/5.96M [00:01<00:00, 4.87MB/s]\n",
      "Downloading...\n",
      "From: https://drive.google.com/uc?id=1EyV9aloaHosUA9WEqMY9WJLYDuvpHfUX\n",
      "To: /Users/zfir/Desktop/Workspace/TypeScriptMate-Training/outputs/bigcode-ts-output-4000-types.csv\n",
      "100%|██████████| 1.29M/1.29M [00:00<00:00, 1.76MB/s]\n",
      "Downloading...\n",
      "From (original): https://drive.google.com/uc?id=1XmyOtHo3LqgdhqHWuunTaG8ZN7CFaNE0\n",
      "From (redirected): https://drive.google.com/uc?id=1XmyOtHo3LqgdhqHWuunTaG8ZN7CFaNE0&confirm=t&uuid=3328fed7-769b-4956-a512-1a3e8c86af4a\n",
      "To: /Users/zfir/Desktop/Workspace/TypeScriptMate-Training/outputs/bigcode-ts-output-50000-formatted.zip\n",
      "100%|██████████| 79.2M/79.2M [00:08<00:00, 9.14MB/s]\n",
      "Downloading...\n",
      "From: https://drive.google.com/uc?id=188SulMezGL_Tdw6GY0NQboTO5DlEbt9E\n",
      "To: /Users/zfir/Desktop/Workspace/TypeScriptMate-Training/outputs/bigcode-ts-output-50000-types.csv\n",
      "100%|██████████| 11.8M/11.8M [00:02<00:00, 5.90MB/s]\n"
     ]
    },
    {
     "data": {
      "text/plain": [
       "'outputs/bigcode-ts-output-50000-types.csv'"
      ]
     },
     "execution_count": 4,
     "metadata": {},
     "output_type": "execute_result"
    }
   ],
   "source": [
    "gdown.download('https://drive.google.com/uc?id=1tJvWz9gV-ihBGt0RhrCc8Bym6A3mxrDu', 'outputs/bigcode-ts-output-4000-formatted.zip')\n",
    "gdown.download('https://drive.google.com/uc?id=1EyV9aloaHosUA9WEqMY9WJLYDuvpHfUX', 'outputs/bigcode-ts-output-4000-types.csv')\n",
    "gdown.download('https://drive.google.com/uc?id=1XmyOtHo3LqgdhqHWuunTaG8ZN7CFaNE0', 'outputs/bigcode-ts-output-50000-formatted.zip')\n",
    "gdown.download('https://drive.google.com/uc?id=188SulMezGL_Tdw6GY0NQboTO5DlEbt9E', 'outputs/bigcode-ts-output-50000-types.csv')"
   ]
  }
 ],
 "metadata": {
  "kernelspec": {
   "display_name": "dissertation_apple",
   "language": "python",
   "name": "python3"
  },
  "language_info": {
   "codemirror_mode": {
    "name": "ipython",
    "version": 3
   },
   "file_extension": ".py",
   "mimetype": "text/x-python",
   "name": "python",
   "nbconvert_exporter": "python",
   "pygments_lexer": "ipython3",
   "version": "3.13.2"
  }
 },
 "nbformat": 4,
 "nbformat_minor": 2
}
