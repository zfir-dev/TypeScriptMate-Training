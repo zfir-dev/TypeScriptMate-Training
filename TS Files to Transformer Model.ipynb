{
 "cells": [
  {
   "cell_type": "markdown",
   "id": "03d73149",
   "metadata": {},
   "source": [
    "Install Packages/Libraries"
   ]
  },
  {
   "cell_type": "code",
   "execution_count": 18,
   "id": "4af4ab5a",
   "metadata": {},
   "outputs": [
    {
     "name": "stdout",
     "output_type": "stream",
     "text": [
      "Requirement already satisfied: pip in /Users/zfir/miniforge3/envs/dissertation_mps/lib/python3.13/site-packages (25.1.1)\n",
      "Note: you may need to restart the kernel to use updated packages.\n",
      "Requirement already satisfied: torch in /Users/zfir/miniforge3/envs/dissertation_mps/lib/python3.13/site-packages (2.7.0)\n",
      "Requirement already satisfied: torchvision in /Users/zfir/miniforge3/envs/dissertation_mps/lib/python3.13/site-packages (0.22.0)\n",
      "Requirement already satisfied: torchaudio in /Users/zfir/miniforge3/envs/dissertation_mps/lib/python3.13/site-packages (2.7.0)\n",
      "Requirement already satisfied: filelock in /Users/zfir/miniforge3/envs/dissertation_mps/lib/python3.13/site-packages (from torch) (3.18.0)\n",
      "Requirement already satisfied: typing-extensions>=4.10.0 in /Users/zfir/miniforge3/envs/dissertation_mps/lib/python3.13/site-packages (from torch) (4.13.2)\n",
      "Requirement already satisfied: setuptools in /Users/zfir/miniforge3/envs/dissertation_mps/lib/python3.13/site-packages (from torch) (80.4.0)\n",
      "Requirement already satisfied: sympy>=1.13.3 in /Users/zfir/miniforge3/envs/dissertation_mps/lib/python3.13/site-packages (from torch) (1.14.0)\n",
      "Requirement already satisfied: networkx in /Users/zfir/miniforge3/envs/dissertation_mps/lib/python3.13/site-packages (from torch) (3.4.2)\n",
      "Requirement already satisfied: jinja2 in /Users/zfir/miniforge3/envs/dissertation_mps/lib/python3.13/site-packages (from torch) (3.1.6)\n",
      "Requirement already satisfied: fsspec in /Users/zfir/miniforge3/envs/dissertation_mps/lib/python3.13/site-packages (from torch) (2025.3.0)\n",
      "Requirement already satisfied: numpy in /Users/zfir/miniforge3/envs/dissertation_mps/lib/python3.13/site-packages (from torchvision) (2.2.5)\n",
      "Requirement already satisfied: pillow!=8.3.*,>=5.3.0 in /Users/zfir/miniforge3/envs/dissertation_mps/lib/python3.13/site-packages (from torchvision) (11.2.1)\n",
      "Requirement already satisfied: mpmath<1.4,>=1.1.0 in /Users/zfir/miniforge3/envs/dissertation_mps/lib/python3.13/site-packages (from sympy>=1.13.3->torch) (1.3.0)\n",
      "Requirement already satisfied: MarkupSafe>=2.0 in /Users/zfir/miniforge3/envs/dissertation_mps/lib/python3.13/site-packages (from jinja2->torch) (3.0.2)\n",
      "Note: you may need to restart the kernel to use updated packages.\n",
      "Requirement already satisfied: pandas in /Users/zfir/miniforge3/envs/dissertation_mps/lib/python3.13/site-packages (2.2.3)\n",
      "Requirement already satisfied: numpy>=1.26.0 in /Users/zfir/miniforge3/envs/dissertation_mps/lib/python3.13/site-packages (from pandas) (2.2.5)\n",
      "Requirement already satisfied: python-dateutil>=2.8.2 in /Users/zfir/miniforge3/envs/dissertation_mps/lib/python3.13/site-packages (from pandas) (2.9.0.post0)\n",
      "Requirement already satisfied: pytz>=2020.1 in /Users/zfir/miniforge3/envs/dissertation_mps/lib/python3.13/site-packages (from pandas) (2025.2)\n",
      "Requirement already satisfied: tzdata>=2022.7 in /Users/zfir/miniforge3/envs/dissertation_mps/lib/python3.13/site-packages (from pandas) (2025.2)\n",
      "Requirement already satisfied: six>=1.5 in /Users/zfir/miniforge3/envs/dissertation_mps/lib/python3.13/site-packages (from python-dateutil>=2.8.2->pandas) (1.17.0)\n",
      "Note: you may need to restart the kernel to use updated packages.\n",
      "Requirement already satisfied: datasets in /Users/zfir/miniforge3/envs/dissertation_mps/lib/python3.13/site-packages (3.6.0)\n",
      "Requirement already satisfied: filelock in /Users/zfir/miniforge3/envs/dissertation_mps/lib/python3.13/site-packages (from datasets) (3.18.0)\n",
      "Requirement already satisfied: numpy>=1.17 in /Users/zfir/miniforge3/envs/dissertation_mps/lib/python3.13/site-packages (from datasets) (2.2.5)\n",
      "Requirement already satisfied: pyarrow>=15.0.0 in /Users/zfir/miniforge3/envs/dissertation_mps/lib/python3.13/site-packages (from datasets) (20.0.0)\n",
      "Requirement already satisfied: dill<0.3.9,>=0.3.0 in /Users/zfir/miniforge3/envs/dissertation_mps/lib/python3.13/site-packages (from datasets) (0.3.8)\n",
      "Requirement already satisfied: pandas in /Users/zfir/miniforge3/envs/dissertation_mps/lib/python3.13/site-packages (from datasets) (2.2.3)\n",
      "Requirement already satisfied: requests>=2.32.2 in /Users/zfir/miniforge3/envs/dissertation_mps/lib/python3.13/site-packages (from datasets) (2.32.3)\n",
      "Requirement already satisfied: tqdm>=4.66.3 in /Users/zfir/miniforge3/envs/dissertation_mps/lib/python3.13/site-packages (from datasets) (4.67.1)\n",
      "Requirement already satisfied: xxhash in /Users/zfir/miniforge3/envs/dissertation_mps/lib/python3.13/site-packages (from datasets) (3.5.0)\n",
      "Requirement already satisfied: multiprocess<0.70.17 in /Users/zfir/miniforge3/envs/dissertation_mps/lib/python3.13/site-packages (from datasets) (0.70.16)\n",
      "Requirement already satisfied: fsspec<=2025.3.0,>=2023.1.0 in /Users/zfir/miniforge3/envs/dissertation_mps/lib/python3.13/site-packages (from fsspec[http]<=2025.3.0,>=2023.1.0->datasets) (2025.3.0)\n",
      "Requirement already satisfied: huggingface-hub>=0.24.0 in /Users/zfir/miniforge3/envs/dissertation_mps/lib/python3.13/site-packages (from datasets) (0.31.1)\n",
      "Requirement already satisfied: packaging in /Users/zfir/miniforge3/envs/dissertation_mps/lib/python3.13/site-packages (from datasets) (25.0)\n",
      "Requirement already satisfied: pyyaml>=5.1 in /Users/zfir/miniforge3/envs/dissertation_mps/lib/python3.13/site-packages (from datasets) (6.0.2)\n",
      "Requirement already satisfied: aiohttp!=4.0.0a0,!=4.0.0a1 in /Users/zfir/miniforge3/envs/dissertation_mps/lib/python3.13/site-packages (from fsspec[http]<=2025.3.0,>=2023.1.0->datasets) (3.11.18)\n",
      "Requirement already satisfied: aiohappyeyeballs>=2.3.0 in /Users/zfir/miniforge3/envs/dissertation_mps/lib/python3.13/site-packages (from aiohttp!=4.0.0a0,!=4.0.0a1->fsspec[http]<=2025.3.0,>=2023.1.0->datasets) (2.6.1)\n",
      "Requirement already satisfied: aiosignal>=1.1.2 in /Users/zfir/miniforge3/envs/dissertation_mps/lib/python3.13/site-packages (from aiohttp!=4.0.0a0,!=4.0.0a1->fsspec[http]<=2025.3.0,>=2023.1.0->datasets) (1.3.2)\n",
      "Requirement already satisfied: attrs>=17.3.0 in /Users/zfir/miniforge3/envs/dissertation_mps/lib/python3.13/site-packages (from aiohttp!=4.0.0a0,!=4.0.0a1->fsspec[http]<=2025.3.0,>=2023.1.0->datasets) (25.3.0)\n",
      "Requirement already satisfied: frozenlist>=1.1.1 in /Users/zfir/miniforge3/envs/dissertation_mps/lib/python3.13/site-packages (from aiohttp!=4.0.0a0,!=4.0.0a1->fsspec[http]<=2025.3.0,>=2023.1.0->datasets) (1.6.0)\n",
      "Requirement already satisfied: multidict<7.0,>=4.5 in /Users/zfir/miniforge3/envs/dissertation_mps/lib/python3.13/site-packages (from aiohttp!=4.0.0a0,!=4.0.0a1->fsspec[http]<=2025.3.0,>=2023.1.0->datasets) (6.4.3)\n",
      "Requirement already satisfied: propcache>=0.2.0 in /Users/zfir/miniforge3/envs/dissertation_mps/lib/python3.13/site-packages (from aiohttp!=4.0.0a0,!=4.0.0a1->fsspec[http]<=2025.3.0,>=2023.1.0->datasets) (0.3.1)\n",
      "Requirement already satisfied: yarl<2.0,>=1.17.0 in /Users/zfir/miniforge3/envs/dissertation_mps/lib/python3.13/site-packages (from aiohttp!=4.0.0a0,!=4.0.0a1->fsspec[http]<=2025.3.0,>=2023.1.0->datasets) (1.20.0)\n",
      "Requirement already satisfied: idna>=2.0 in /Users/zfir/miniforge3/envs/dissertation_mps/lib/python3.13/site-packages (from yarl<2.0,>=1.17.0->aiohttp!=4.0.0a0,!=4.0.0a1->fsspec[http]<=2025.3.0,>=2023.1.0->datasets) (3.10)\n",
      "Requirement already satisfied: typing-extensions>=3.7.4.3 in /Users/zfir/miniforge3/envs/dissertation_mps/lib/python3.13/site-packages (from huggingface-hub>=0.24.0->datasets) (4.13.2)\n",
      "Requirement already satisfied: hf-xet<2.0.0,>=1.1.0 in /Users/zfir/miniforge3/envs/dissertation_mps/lib/python3.13/site-packages (from huggingface-hub>=0.24.0->datasets) (1.1.0)\n",
      "Requirement already satisfied: charset-normalizer<4,>=2 in /Users/zfir/miniforge3/envs/dissertation_mps/lib/python3.13/site-packages (from requests>=2.32.2->datasets) (3.4.2)\n",
      "Requirement already satisfied: urllib3<3,>=1.21.1 in /Users/zfir/miniforge3/envs/dissertation_mps/lib/python3.13/site-packages (from requests>=2.32.2->datasets) (2.4.0)\n",
      "Requirement already satisfied: certifi>=2017.4.17 in /Users/zfir/miniforge3/envs/dissertation_mps/lib/python3.13/site-packages (from requests>=2.32.2->datasets) (2025.4.26)\n",
      "Requirement already satisfied: python-dateutil>=2.8.2 in /Users/zfir/miniforge3/envs/dissertation_mps/lib/python3.13/site-packages (from pandas->datasets) (2.9.0.post0)\n",
      "Requirement already satisfied: pytz>=2020.1 in /Users/zfir/miniforge3/envs/dissertation_mps/lib/python3.13/site-packages (from pandas->datasets) (2025.2)\n",
      "Requirement already satisfied: tzdata>=2022.7 in /Users/zfir/miniforge3/envs/dissertation_mps/lib/python3.13/site-packages (from pandas->datasets) (2025.2)\n",
      "Requirement already satisfied: six>=1.5 in /Users/zfir/miniforge3/envs/dissertation_mps/lib/python3.13/site-packages (from python-dateutil>=2.8.2->pandas->datasets) (1.17.0)\n",
      "Note: you may need to restart the kernel to use updated packages.\n",
      "Requirement already satisfied: peft in /Users/zfir/miniforge3/envs/dissertation_mps/lib/python3.13/site-packages (0.15.2)\n",
      "Requirement already satisfied: numpy>=1.17 in /Users/zfir/miniforge3/envs/dissertation_mps/lib/python3.13/site-packages (from peft) (2.2.5)\n",
      "Requirement already satisfied: packaging>=20.0 in /Users/zfir/miniforge3/envs/dissertation_mps/lib/python3.13/site-packages (from peft) (25.0)\n",
      "Requirement already satisfied: psutil in /Users/zfir/miniforge3/envs/dissertation_mps/lib/python3.13/site-packages (from peft) (7.0.0)\n",
      "Requirement already satisfied: pyyaml in /Users/zfir/miniforge3/envs/dissertation_mps/lib/python3.13/site-packages (from peft) (6.0.2)\n",
      "Requirement already satisfied: torch>=1.13.0 in /Users/zfir/miniforge3/envs/dissertation_mps/lib/python3.13/site-packages (from peft) (2.7.0)\n",
      "Requirement already satisfied: transformers in /Users/zfir/miniforge3/envs/dissertation_mps/lib/python3.13/site-packages (from peft) (4.51.3)\n",
      "Requirement already satisfied: tqdm in /Users/zfir/miniforge3/envs/dissertation_mps/lib/python3.13/site-packages (from peft) (4.67.1)\n",
      "Requirement already satisfied: accelerate>=0.21.0 in /Users/zfir/miniforge3/envs/dissertation_mps/lib/python3.13/site-packages (from peft) (1.6.0)\n",
      "Requirement already satisfied: safetensors in /Users/zfir/miniforge3/envs/dissertation_mps/lib/python3.13/site-packages (from peft) (0.5.3)\n",
      "Requirement already satisfied: huggingface_hub>=0.25.0 in /Users/zfir/miniforge3/envs/dissertation_mps/lib/python3.13/site-packages (from peft) (0.31.1)\n",
      "Requirement already satisfied: filelock in /Users/zfir/miniforge3/envs/dissertation_mps/lib/python3.13/site-packages (from huggingface_hub>=0.25.0->peft) (3.18.0)\n",
      "Requirement already satisfied: fsspec>=2023.5.0 in /Users/zfir/miniforge3/envs/dissertation_mps/lib/python3.13/site-packages (from huggingface_hub>=0.25.0->peft) (2025.3.0)\n",
      "Requirement already satisfied: requests in /Users/zfir/miniforge3/envs/dissertation_mps/lib/python3.13/site-packages (from huggingface_hub>=0.25.0->peft) (2.32.3)\n",
      "Requirement already satisfied: typing-extensions>=3.7.4.3 in /Users/zfir/miniforge3/envs/dissertation_mps/lib/python3.13/site-packages (from huggingface_hub>=0.25.0->peft) (4.13.2)\n",
      "Requirement already satisfied: hf-xet<2.0.0,>=1.1.0 in /Users/zfir/miniforge3/envs/dissertation_mps/lib/python3.13/site-packages (from huggingface_hub>=0.25.0->peft) (1.1.0)\n",
      "Requirement already satisfied: setuptools in /Users/zfir/miniforge3/envs/dissertation_mps/lib/python3.13/site-packages (from torch>=1.13.0->peft) (80.4.0)\n",
      "Requirement already satisfied: sympy>=1.13.3 in /Users/zfir/miniforge3/envs/dissertation_mps/lib/python3.13/site-packages (from torch>=1.13.0->peft) (1.14.0)\n",
      "Requirement already satisfied: networkx in /Users/zfir/miniforge3/envs/dissertation_mps/lib/python3.13/site-packages (from torch>=1.13.0->peft) (3.4.2)\n",
      "Requirement already satisfied: jinja2 in /Users/zfir/miniforge3/envs/dissertation_mps/lib/python3.13/site-packages (from torch>=1.13.0->peft) (3.1.6)\n",
      "Requirement already satisfied: mpmath<1.4,>=1.1.0 in /Users/zfir/miniforge3/envs/dissertation_mps/lib/python3.13/site-packages (from sympy>=1.13.3->torch>=1.13.0->peft) (1.3.0)\n",
      "Requirement already satisfied: MarkupSafe>=2.0 in /Users/zfir/miniforge3/envs/dissertation_mps/lib/python3.13/site-packages (from jinja2->torch>=1.13.0->peft) (3.0.2)\n",
      "Requirement already satisfied: charset-normalizer<4,>=2 in /Users/zfir/miniforge3/envs/dissertation_mps/lib/python3.13/site-packages (from requests->huggingface_hub>=0.25.0->peft) (3.4.2)\n",
      "Requirement already satisfied: idna<4,>=2.5 in /Users/zfir/miniforge3/envs/dissertation_mps/lib/python3.13/site-packages (from requests->huggingface_hub>=0.25.0->peft) (3.10)\n",
      "Requirement already satisfied: urllib3<3,>=1.21.1 in /Users/zfir/miniforge3/envs/dissertation_mps/lib/python3.13/site-packages (from requests->huggingface_hub>=0.25.0->peft) (2.4.0)\n",
      "Requirement already satisfied: certifi>=2017.4.17 in /Users/zfir/miniforge3/envs/dissertation_mps/lib/python3.13/site-packages (from requests->huggingface_hub>=0.25.0->peft) (2025.4.26)\n",
      "Requirement already satisfied: regex!=2019.12.17 in /Users/zfir/miniforge3/envs/dissertation_mps/lib/python3.13/site-packages (from transformers->peft) (2024.11.6)\n",
      "Requirement already satisfied: tokenizers<0.22,>=0.21 in /Users/zfir/miniforge3/envs/dissertation_mps/lib/python3.13/site-packages (from transformers->peft) (0.21.1)\n",
      "Note: you may need to restart the kernel to use updated packages.\n",
      "Requirement already satisfied: transformers in /Users/zfir/miniforge3/envs/dissertation_mps/lib/python3.13/site-packages (4.51.3)\n",
      "Requirement already satisfied: filelock in /Users/zfir/miniforge3/envs/dissertation_mps/lib/python3.13/site-packages (from transformers) (3.18.0)\n",
      "Requirement already satisfied: huggingface-hub<1.0,>=0.30.0 in /Users/zfir/miniforge3/envs/dissertation_mps/lib/python3.13/site-packages (from transformers) (0.31.1)\n",
      "Requirement already satisfied: numpy>=1.17 in /Users/zfir/miniforge3/envs/dissertation_mps/lib/python3.13/site-packages (from transformers) (2.2.5)\n",
      "Requirement already satisfied: packaging>=20.0 in /Users/zfir/miniforge3/envs/dissertation_mps/lib/python3.13/site-packages (from transformers) (25.0)\n",
      "Requirement already satisfied: pyyaml>=5.1 in /Users/zfir/miniforge3/envs/dissertation_mps/lib/python3.13/site-packages (from transformers) (6.0.2)\n",
      "Requirement already satisfied: regex!=2019.12.17 in /Users/zfir/miniforge3/envs/dissertation_mps/lib/python3.13/site-packages (from transformers) (2024.11.6)\n",
      "Requirement already satisfied: requests in /Users/zfir/miniforge3/envs/dissertation_mps/lib/python3.13/site-packages (from transformers) (2.32.3)\n",
      "Requirement already satisfied: tokenizers<0.22,>=0.21 in /Users/zfir/miniforge3/envs/dissertation_mps/lib/python3.13/site-packages (from transformers) (0.21.1)\n",
      "Requirement already satisfied: safetensors>=0.4.3 in /Users/zfir/miniforge3/envs/dissertation_mps/lib/python3.13/site-packages (from transformers) (0.5.3)\n",
      "Requirement already satisfied: tqdm>=4.27 in /Users/zfir/miniforge3/envs/dissertation_mps/lib/python3.13/site-packages (from transformers) (4.67.1)\n",
      "Requirement already satisfied: fsspec>=2023.5.0 in /Users/zfir/miniforge3/envs/dissertation_mps/lib/python3.13/site-packages (from huggingface-hub<1.0,>=0.30.0->transformers) (2025.3.0)\n",
      "Requirement already satisfied: typing-extensions>=3.7.4.3 in /Users/zfir/miniforge3/envs/dissertation_mps/lib/python3.13/site-packages (from huggingface-hub<1.0,>=0.30.0->transformers) (4.13.2)\n",
      "Requirement already satisfied: hf-xet<2.0.0,>=1.1.0 in /Users/zfir/miniforge3/envs/dissertation_mps/lib/python3.13/site-packages (from huggingface-hub<1.0,>=0.30.0->transformers) (1.1.0)\n",
      "Requirement already satisfied: charset-normalizer<4,>=2 in /Users/zfir/miniforge3/envs/dissertation_mps/lib/python3.13/site-packages (from requests->transformers) (3.4.2)\n",
      "Requirement already satisfied: idna<4,>=2.5 in /Users/zfir/miniforge3/envs/dissertation_mps/lib/python3.13/site-packages (from requests->transformers) (3.10)\n",
      "Requirement already satisfied: urllib3<3,>=1.21.1 in /Users/zfir/miniforge3/envs/dissertation_mps/lib/python3.13/site-packages (from requests->transformers) (2.4.0)\n",
      "Requirement already satisfied: certifi>=2017.4.17 in /Users/zfir/miniforge3/envs/dissertation_mps/lib/python3.13/site-packages (from requests->transformers) (2025.4.26)\n",
      "Note: you may need to restart the kernel to use updated packages.\n",
      "zsh:1: no matches found: transformers[torch]\n",
      "Note: you may need to restart the kernel to use updated packages.\n",
      "Requirement already satisfied: accelerate>=0.26.0 in /Users/zfir/miniforge3/envs/dissertation_mps/lib/python3.13/site-packages (1.6.0)\n",
      "Requirement already satisfied: numpy<3.0.0,>=1.17 in /Users/zfir/miniforge3/envs/dissertation_mps/lib/python3.13/site-packages (from accelerate>=0.26.0) (2.2.5)\n",
      "Requirement already satisfied: packaging>=20.0 in /Users/zfir/miniforge3/envs/dissertation_mps/lib/python3.13/site-packages (from accelerate>=0.26.0) (25.0)\n",
      "Requirement already satisfied: psutil in /Users/zfir/miniforge3/envs/dissertation_mps/lib/python3.13/site-packages (from accelerate>=0.26.0) (7.0.0)\n",
      "Requirement already satisfied: pyyaml in /Users/zfir/miniforge3/envs/dissertation_mps/lib/python3.13/site-packages (from accelerate>=0.26.0) (6.0.2)\n",
      "Requirement already satisfied: torch>=2.0.0 in /Users/zfir/miniforge3/envs/dissertation_mps/lib/python3.13/site-packages (from accelerate>=0.26.0) (2.7.0)\n",
      "Requirement already satisfied: huggingface-hub>=0.21.0 in /Users/zfir/miniforge3/envs/dissertation_mps/lib/python3.13/site-packages (from accelerate>=0.26.0) (0.31.1)\n",
      "Requirement already satisfied: safetensors>=0.4.3 in /Users/zfir/miniforge3/envs/dissertation_mps/lib/python3.13/site-packages (from accelerate>=0.26.0) (0.5.3)\n",
      "Requirement already satisfied: filelock in /Users/zfir/miniforge3/envs/dissertation_mps/lib/python3.13/site-packages (from huggingface-hub>=0.21.0->accelerate>=0.26.0) (3.18.0)\n",
      "Requirement already satisfied: fsspec>=2023.5.0 in /Users/zfir/miniforge3/envs/dissertation_mps/lib/python3.13/site-packages (from huggingface-hub>=0.21.0->accelerate>=0.26.0) (2025.3.0)\n",
      "Requirement already satisfied: requests in /Users/zfir/miniforge3/envs/dissertation_mps/lib/python3.13/site-packages (from huggingface-hub>=0.21.0->accelerate>=0.26.0) (2.32.3)\n",
      "Requirement already satisfied: tqdm>=4.42.1 in /Users/zfir/miniforge3/envs/dissertation_mps/lib/python3.13/site-packages (from huggingface-hub>=0.21.0->accelerate>=0.26.0) (4.67.1)\n",
      "Requirement already satisfied: typing-extensions>=3.7.4.3 in /Users/zfir/miniforge3/envs/dissertation_mps/lib/python3.13/site-packages (from huggingface-hub>=0.21.0->accelerate>=0.26.0) (4.13.2)\n",
      "Requirement already satisfied: hf-xet<2.0.0,>=1.1.0 in /Users/zfir/miniforge3/envs/dissertation_mps/lib/python3.13/site-packages (from huggingface-hub>=0.21.0->accelerate>=0.26.0) (1.1.0)\n",
      "Requirement already satisfied: setuptools in /Users/zfir/miniforge3/envs/dissertation_mps/lib/python3.13/site-packages (from torch>=2.0.0->accelerate>=0.26.0) (80.4.0)\n",
      "Requirement already satisfied: sympy>=1.13.3 in /Users/zfir/miniforge3/envs/dissertation_mps/lib/python3.13/site-packages (from torch>=2.0.0->accelerate>=0.26.0) (1.14.0)\n",
      "Requirement already satisfied: networkx in /Users/zfir/miniforge3/envs/dissertation_mps/lib/python3.13/site-packages (from torch>=2.0.0->accelerate>=0.26.0) (3.4.2)\n",
      "Requirement already satisfied: jinja2 in /Users/zfir/miniforge3/envs/dissertation_mps/lib/python3.13/site-packages (from torch>=2.0.0->accelerate>=0.26.0) (3.1.6)\n",
      "Requirement already satisfied: mpmath<1.4,>=1.1.0 in /Users/zfir/miniforge3/envs/dissertation_mps/lib/python3.13/site-packages (from sympy>=1.13.3->torch>=2.0.0->accelerate>=0.26.0) (1.3.0)\n",
      "Requirement already satisfied: MarkupSafe>=2.0 in /Users/zfir/miniforge3/envs/dissertation_mps/lib/python3.13/site-packages (from jinja2->torch>=2.0.0->accelerate>=0.26.0) (3.0.2)\n",
      "Requirement already satisfied: charset-normalizer<4,>=2 in /Users/zfir/miniforge3/envs/dissertation_mps/lib/python3.13/site-packages (from requests->huggingface-hub>=0.21.0->accelerate>=0.26.0) (3.4.2)\n",
      "Requirement already satisfied: idna<4,>=2.5 in /Users/zfir/miniforge3/envs/dissertation_mps/lib/python3.13/site-packages (from requests->huggingface-hub>=0.21.0->accelerate>=0.26.0) (3.10)\n",
      "Requirement already satisfied: urllib3<3,>=1.21.1 in /Users/zfir/miniforge3/envs/dissertation_mps/lib/python3.13/site-packages (from requests->huggingface-hub>=0.21.0->accelerate>=0.26.0) (2.4.0)\n",
      "Requirement already satisfied: certifi>=2017.4.17 in /Users/zfir/miniforge3/envs/dissertation_mps/lib/python3.13/site-packages (from requests->huggingface-hub>=0.21.0->accelerate>=0.26.0) (2025.4.26)\n",
      "Note: you may need to restart the kernel to use updated packages.\n",
      "Requirement already satisfied: matplotlib in /Users/zfir/miniforge3/envs/dissertation_mps/lib/python3.13/site-packages (3.10.3)\n",
      "Requirement already satisfied: contourpy>=1.0.1 in /Users/zfir/miniforge3/envs/dissertation_mps/lib/python3.13/site-packages (from matplotlib) (1.3.2)\n",
      "Requirement already satisfied: cycler>=0.10 in /Users/zfir/miniforge3/envs/dissertation_mps/lib/python3.13/site-packages (from matplotlib) (0.12.1)\n",
      "Requirement already satisfied: fonttools>=4.22.0 in /Users/zfir/miniforge3/envs/dissertation_mps/lib/python3.13/site-packages (from matplotlib) (4.58.0)\n",
      "Requirement already satisfied: kiwisolver>=1.3.1 in /Users/zfir/miniforge3/envs/dissertation_mps/lib/python3.13/site-packages (from matplotlib) (1.4.8)\n",
      "Requirement already satisfied: numpy>=1.23 in /Users/zfir/miniforge3/envs/dissertation_mps/lib/python3.13/site-packages (from matplotlib) (2.2.5)\n",
      "Requirement already satisfied: packaging>=20.0 in /Users/zfir/miniforge3/envs/dissertation_mps/lib/python3.13/site-packages (from matplotlib) (25.0)\n",
      "Requirement already satisfied: pillow>=8 in /Users/zfir/miniforge3/envs/dissertation_mps/lib/python3.13/site-packages (from matplotlib) (11.2.1)\n",
      "Requirement already satisfied: pyparsing>=2.3.1 in /Users/zfir/miniforge3/envs/dissertation_mps/lib/python3.13/site-packages (from matplotlib) (3.2.3)\n",
      "Requirement already satisfied: python-dateutil>=2.7 in /Users/zfir/miniforge3/envs/dissertation_mps/lib/python3.13/site-packages (from matplotlib) (2.9.0.post0)\n",
      "Requirement already satisfied: six>=1.5 in /Users/zfir/miniforge3/envs/dissertation_mps/lib/python3.13/site-packages (from python-dateutil>=2.7->matplotlib) (1.17.0)\n",
      "Note: you may need to restart the kernel to use updated packages.\n",
      "Requirement already satisfied: evaluate in /Users/zfir/miniforge3/envs/dissertation_mps/lib/python3.13/site-packages (0.4.3)\n",
      "Requirement already satisfied: datasets>=2.0.0 in /Users/zfir/miniforge3/envs/dissertation_mps/lib/python3.13/site-packages (from evaluate) (3.6.0)\n",
      "Requirement already satisfied: numpy>=1.17 in /Users/zfir/miniforge3/envs/dissertation_mps/lib/python3.13/site-packages (from evaluate) (2.2.5)\n",
      "Requirement already satisfied: dill in /Users/zfir/miniforge3/envs/dissertation_mps/lib/python3.13/site-packages (from evaluate) (0.3.8)\n",
      "Requirement already satisfied: pandas in /Users/zfir/miniforge3/envs/dissertation_mps/lib/python3.13/site-packages (from evaluate) (2.2.3)\n",
      "Requirement already satisfied: requests>=2.19.0 in /Users/zfir/miniforge3/envs/dissertation_mps/lib/python3.13/site-packages (from evaluate) (2.32.3)\n",
      "Requirement already satisfied: tqdm>=4.62.1 in /Users/zfir/miniforge3/envs/dissertation_mps/lib/python3.13/site-packages (from evaluate) (4.67.1)\n",
      "Requirement already satisfied: xxhash in /Users/zfir/miniforge3/envs/dissertation_mps/lib/python3.13/site-packages (from evaluate) (3.5.0)\n",
      "Requirement already satisfied: multiprocess in /Users/zfir/miniforge3/envs/dissertation_mps/lib/python3.13/site-packages (from evaluate) (0.70.16)\n",
      "Requirement already satisfied: fsspec>=2021.05.0 in /Users/zfir/miniforge3/envs/dissertation_mps/lib/python3.13/site-packages (from fsspec[http]>=2021.05.0->evaluate) (2025.3.0)\n",
      "Requirement already satisfied: huggingface-hub>=0.7.0 in /Users/zfir/miniforge3/envs/dissertation_mps/lib/python3.13/site-packages (from evaluate) (0.31.1)\n",
      "Requirement already satisfied: packaging in /Users/zfir/miniforge3/envs/dissertation_mps/lib/python3.13/site-packages (from evaluate) (25.0)\n",
      "Requirement already satisfied: filelock in /Users/zfir/miniforge3/envs/dissertation_mps/lib/python3.13/site-packages (from datasets>=2.0.0->evaluate) (3.18.0)\n",
      "Requirement already satisfied: pyarrow>=15.0.0 in /Users/zfir/miniforge3/envs/dissertation_mps/lib/python3.13/site-packages (from datasets>=2.0.0->evaluate) (20.0.0)\n",
      "Requirement already satisfied: pyyaml>=5.1 in /Users/zfir/miniforge3/envs/dissertation_mps/lib/python3.13/site-packages (from datasets>=2.0.0->evaluate) (6.0.2)\n",
      "Requirement already satisfied: aiohttp!=4.0.0a0,!=4.0.0a1 in /Users/zfir/miniforge3/envs/dissertation_mps/lib/python3.13/site-packages (from fsspec[http]>=2021.05.0->evaluate) (3.11.18)\n",
      "Requirement already satisfied: aiohappyeyeballs>=2.3.0 in /Users/zfir/miniforge3/envs/dissertation_mps/lib/python3.13/site-packages (from aiohttp!=4.0.0a0,!=4.0.0a1->fsspec[http]>=2021.05.0->evaluate) (2.6.1)\n",
      "Requirement already satisfied: aiosignal>=1.1.2 in /Users/zfir/miniforge3/envs/dissertation_mps/lib/python3.13/site-packages (from aiohttp!=4.0.0a0,!=4.0.0a1->fsspec[http]>=2021.05.0->evaluate) (1.3.2)\n",
      "Requirement already satisfied: attrs>=17.3.0 in /Users/zfir/miniforge3/envs/dissertation_mps/lib/python3.13/site-packages (from aiohttp!=4.0.0a0,!=4.0.0a1->fsspec[http]>=2021.05.0->evaluate) (25.3.0)\n",
      "Requirement already satisfied: frozenlist>=1.1.1 in /Users/zfir/miniforge3/envs/dissertation_mps/lib/python3.13/site-packages (from aiohttp!=4.0.0a0,!=4.0.0a1->fsspec[http]>=2021.05.0->evaluate) (1.6.0)\n",
      "Requirement already satisfied: multidict<7.0,>=4.5 in /Users/zfir/miniforge3/envs/dissertation_mps/lib/python3.13/site-packages (from aiohttp!=4.0.0a0,!=4.0.0a1->fsspec[http]>=2021.05.0->evaluate) (6.4.3)\n",
      "Requirement already satisfied: propcache>=0.2.0 in /Users/zfir/miniforge3/envs/dissertation_mps/lib/python3.13/site-packages (from aiohttp!=4.0.0a0,!=4.0.0a1->fsspec[http]>=2021.05.0->evaluate) (0.3.1)\n",
      "Requirement already satisfied: yarl<2.0,>=1.17.0 in /Users/zfir/miniforge3/envs/dissertation_mps/lib/python3.13/site-packages (from aiohttp!=4.0.0a0,!=4.0.0a1->fsspec[http]>=2021.05.0->evaluate) (1.20.0)\n",
      "Requirement already satisfied: idna>=2.0 in /Users/zfir/miniforge3/envs/dissertation_mps/lib/python3.13/site-packages (from yarl<2.0,>=1.17.0->aiohttp!=4.0.0a0,!=4.0.0a1->fsspec[http]>=2021.05.0->evaluate) (3.10)\n",
      "Requirement already satisfied: typing-extensions>=3.7.4.3 in /Users/zfir/miniforge3/envs/dissertation_mps/lib/python3.13/site-packages (from huggingface-hub>=0.7.0->evaluate) (4.13.2)\n",
      "Requirement already satisfied: hf-xet<2.0.0,>=1.1.0 in /Users/zfir/miniforge3/envs/dissertation_mps/lib/python3.13/site-packages (from huggingface-hub>=0.7.0->evaluate) (1.1.0)\n",
      "Requirement already satisfied: charset-normalizer<4,>=2 in /Users/zfir/miniforge3/envs/dissertation_mps/lib/python3.13/site-packages (from requests>=2.19.0->evaluate) (3.4.2)\n",
      "Requirement already satisfied: urllib3<3,>=1.21.1 in /Users/zfir/miniforge3/envs/dissertation_mps/lib/python3.13/site-packages (from requests>=2.19.0->evaluate) (2.4.0)\n",
      "Requirement already satisfied: certifi>=2017.4.17 in /Users/zfir/miniforge3/envs/dissertation_mps/lib/python3.13/site-packages (from requests>=2.19.0->evaluate) (2025.4.26)\n",
      "Requirement already satisfied: python-dateutil>=2.8.2 in /Users/zfir/miniforge3/envs/dissertation_mps/lib/python3.13/site-packages (from pandas->evaluate) (2.9.0.post0)\n",
      "Requirement already satisfied: pytz>=2020.1 in /Users/zfir/miniforge3/envs/dissertation_mps/lib/python3.13/site-packages (from pandas->evaluate) (2025.2)\n",
      "Requirement already satisfied: tzdata>=2022.7 in /Users/zfir/miniforge3/envs/dissertation_mps/lib/python3.13/site-packages (from pandas->evaluate) (2025.2)\n",
      "Requirement already satisfied: six>=1.5 in /Users/zfir/miniforge3/envs/dissertation_mps/lib/python3.13/site-packages (from python-dateutil>=2.8.2->pandas->evaluate) (1.17.0)\n",
      "Note: you may need to restart the kernel to use updated packages.\n",
      "Requirement already satisfied: scikit-learn in /Users/zfir/miniforge3/envs/dissertation_mps/lib/python3.13/site-packages (1.6.1)\n",
      "Requirement already satisfied: numpy>=1.19.5 in /Users/zfir/miniforge3/envs/dissertation_mps/lib/python3.13/site-packages (from scikit-learn) (2.2.5)\n",
      "Requirement already satisfied: scipy>=1.6.0 in /Users/zfir/miniforge3/envs/dissertation_mps/lib/python3.13/site-packages (from scikit-learn) (1.15.3)\n",
      "Requirement already satisfied: joblib>=1.2.0 in /Users/zfir/miniforge3/envs/dissertation_mps/lib/python3.13/site-packages (from scikit-learn) (1.5.0)\n",
      "Requirement already satisfied: threadpoolctl>=3.1.0 in /Users/zfir/miniforge3/envs/dissertation_mps/lib/python3.13/site-packages (from scikit-learn) (3.6.0)\n",
      "Note: you may need to restart the kernel to use updated packages.\n"
     ]
    }
   ],
   "source": [
    "%pip install --upgrade pip\n",
    "%pip install torch torchvision torchaudio\n",
    "\n",
    "# Transformers & datasets\n",
    "%pip install pandas\n",
    "%pip install datasets\n",
    "%pip install peft\n",
    "%pip install transformers\n",
    "%pip install transformers[torch]\n",
    "%pip install 'accelerate>=0.26.0'\n",
    "\n",
    "# Plotting\n",
    "%pip install matplotlib\n",
    "\n",
    "# Evaluation\n",
    "%pip install evaluate\n",
    "%pip install scikit-learn"
   ]
  },
  {
   "cell_type": "markdown",
   "id": "a295d4f7",
   "metadata": {},
   "source": [
    "Import Packages/Libraries"
   ]
  },
  {
   "cell_type": "code",
   "execution_count": null,
   "id": "fd48f956",
   "metadata": {},
   "outputs": [],
   "source": [
    "import os, math, torch,time, evaluate, pandas as pd, matplotlib.pyplot as plt, numpy as np\n",
    "from datasets import Dataset, DatasetDict\n",
    "from torch.utils.data import DataLoader\n",
    "from transformers import (\n",
    "    AutoTokenizer,\n",
    "    AutoModelForCausalLM,\n",
    "    DataCollatorForLanguageModeling,\n",
    "    Trainer, TrainingArguments, TrainerCallback\n",
    ")\n",
    "from peft import get_peft_model, LoraConfig, TaskType"
   ]
  },
  {
   "cell_type": "markdown",
   "id": "3d42ee5c",
   "metadata": {},
   "source": [
    "Configurations"
   ]
  },
  {
   "cell_type": "code",
   "execution_count": 20,
   "id": "17661afd",
   "metadata": {},
   "outputs": [],
   "source": [
    "USE_LORA = False\n",
    "DATA_DIR     = \"outputs/bigcode-ts-output-50000-formatted\"\n",
    "METADATA_CSV = \"outputs/bigcode-ts-output-50000-types.csv\"\n",
    "OUTPUT_DIR   = \"outputs/typescriptmate-50000\"\n",
    "BATCH_SIZE   = 4\n",
    "MAX_LENGTH   = 512\n",
    "EPOCHS       = 3\n",
    "LR           = 1e-5\n",
    "GRAD_CLIP    = 0.0\n",
    "SEED         = 42"
   ]
  },
  {
   "cell_type": "markdown",
   "id": "4be249c4",
   "metadata": {},
   "source": [
    "Count number of TypeScipt files in folder"
   ]
  },
  {
   "cell_type": "code",
   "execution_count": 21,
   "id": "5c9a000d",
   "metadata": {},
   "outputs": [
    {
     "name": "stdout",
     "output_type": "stream",
     "text": [
      "Total files: 46053\n"
     ]
    }
   ],
   "source": [
    "file_count = sum(len(files) for _, _, files in os.walk(DATA_DIR))\n",
    "print(\"Total files:\", file_count)"
   ]
  },
  {
   "cell_type": "markdown",
   "id": "aa93bf93",
   "metadata": {},
   "source": [
    "Check if MPS (Accelerated PyTorch Training for Apple Silicon) is supported"
   ]
  },
  {
   "cell_type": "code",
   "execution_count": 22,
   "id": "3cea423c",
   "metadata": {},
   "outputs": [
    {
     "name": "stdout",
     "output_type": "stream",
     "text": [
      "True\n",
      "True\n"
     ]
    }
   ],
   "source": [
    "import torch\n",
    "print(torch.backends.mps.is_available())\n",
    "print(torch.backends.mps.is_built())\n"
   ]
  },
  {
   "cell_type": "markdown",
   "id": "5762da94",
   "metadata": {},
   "source": [
    "Load metadata for Type Awareness"
   ]
  },
  {
   "cell_type": "code",
   "execution_count": 23,
   "id": "337e1a60",
   "metadata": {},
   "outputs": [
    {
     "name": "stdout",
     "output_type": "stream",
     "text": [
      "Loaded 46012 metadata rows\n"
     ]
    }
   ],
   "source": [
    "df = pd.read_csv(METADATA_CSV)\n",
    "for col in [\"TypeAliases\", \"Interfaces\"]:\n",
    "    if col in df.columns:\n",
    "        df[col] = df[col].fillna(\"\")\n",
    "print(f\"Loaded {len(df)} metadata rows\")"
   ]
  },
  {
   "cell_type": "markdown",
   "id": "7f0328c5",
   "metadata": {},
   "source": [
    "Attach file text"
   ]
  },
  {
   "cell_type": "code",
   "execution_count": 24,
   "id": "3f6cbbcc",
   "metadata": {},
   "outputs": [
    {
     "name": "stderr",
     "output_type": "stream",
     "text": [
      "Map: 100%|██████████| 46012/46012 [00:05<00:00, 9004.41 examples/s] \n"
     ]
    }
   ],
   "source": [
    "dataset_meta = Dataset.from_pandas(df, preserve_index=False)\n",
    "\n",
    "def add_text(example):\n",
    "    path = example[\"File\"]\n",
    "    if not os.path.isabs(path):\n",
    "        path = os.path.join(DATA_DIR, path)\n",
    "    try:\n",
    "        with open(path, \"r\", encoding=\"utf-8\", errors=\"ignore\") as f:\n",
    "            example[\"text\"] = f.read()\n",
    "    except:\n",
    "        example[\"text\"] = \"\"\n",
    "    return example\n",
    "\n",
    "dataset_meta = dataset_meta.map(add_text, batched=False)"
   ]
  },
  {
   "cell_type": "markdown",
   "id": "1652c646",
   "metadata": {},
   "source": [
    "Filter bad examples"
   ]
  },
  {
   "cell_type": "code",
   "execution_count": 25,
   "id": "10e4ff74",
   "metadata": {},
   "outputs": [
    {
     "name": "stderr",
     "output_type": "stream",
     "text": [
      "Filter: 100%|██████████| 46012/46012 [00:00<00:00, 106765.54 examples/s]"
     ]
    },
    {
     "name": "stdout",
     "output_type": "stream",
     "text": [
      "Non-empty examples: 46012\n"
     ]
    },
    {
     "name": "stderr",
     "output_type": "stream",
     "text": [
      "\n"
     ]
    }
   ],
   "source": [
    "dataset_meta = dataset_meta.filter(lambda ex: ex[\"text\"].strip() != \"\")\n",
    "print(\"Non-empty examples:\", len(dataset_meta))"
   ]
  },
  {
   "cell_type": "markdown",
   "id": "383882f4",
   "metadata": {},
   "source": [
    "Split and filter train and validation data for annotated examples"
   ]
  },
  {
   "cell_type": "code",
   "execution_count": 26,
   "id": "d09ff80f",
   "metadata": {},
   "outputs": [
    {
     "name": "stderr",
     "output_type": "stream",
     "text": [
      "Filter: 100%|██████████| 41410/41410 [00:00<00:00, 50854.17 examples/s]\n",
      "Filter: 100%|██████████| 4602/4602 [00:00<00:00, 47706.96 examples/s]"
     ]
    },
    {
     "name": "stdout",
     "output_type": "stream",
     "text": [
      "Filtered split:\n",
      "  • train: 6468\n",
      "  • validation: 697\n"
     ]
    },
    {
     "name": "stderr",
     "output_type": "stream",
     "text": [
      "\n"
     ]
    }
   ],
   "source": [
    "splits = dataset_meta.train_test_split(test_size=0.1, seed=SEED)\n",
    "datasets = DatasetDict({\n",
    "    \"train\": splits[\"train\"].filter(lambda ex: ex[\"TypeAliases\"] or ex[\"Interfaces\"]),\n",
    "    \"validation\": splits[\"test\"].filter(lambda ex: ex[\"TypeAliases\"] or ex[\"Interfaces\"])\n",
    "})\n",
    "print(\"Filtered split:\")\n",
    "print(\"  • train:\", len(datasets[\"train\"]))\n",
    "print(\"  • validation:\", len(datasets[\"validation\"]))"
   ]
  },
  {
   "cell_type": "markdown",
   "id": "7feff32a",
   "metadata": {},
   "source": [
    "Tokenize"
   ]
  },
  {
   "cell_type": "code",
   "execution_count": 27,
   "id": "b1992937",
   "metadata": {},
   "outputs": [
    {
     "name": "stderr",
     "output_type": "stream",
     "text": [
      "Map: 100%|██████████| 6468/6468 [00:12<00:00, 524.05 examples/s] \n",
      "Map: 100%|██████████| 697/697 [00:07<00:00, 97.01 examples/s]\n"
     ]
    }
   ],
   "source": [
    "tokenizer = AutoTokenizer.from_pretrained(\"gpt2\", use_fast=True)\n",
    "tokenizer.pad_token = tokenizer.eos_token\n",
    "\n",
    "def tokenize_fn(batch):\n",
    "    return tokenizer(\n",
    "        batch[\"text\"],\n",
    "        truncation=True,\n",
    "        padding=\"max_length\",\n",
    "        max_length=MAX_LENGTH\n",
    "    )\n",
    "\n",
    "to_remove = df.columns.tolist() + [\"text\"]\n",
    "tokenized = datasets.map(\n",
    "    tokenize_fn,\n",
    "    batched=True,\n",
    "    remove_columns=to_remove\n",
    ")"
   ]
  },
  {
   "cell_type": "markdown",
   "id": "98be67ed",
   "metadata": {},
   "source": [
    "Sanity check on tokens"
   ]
  },
  {
   "cell_type": "code",
   "execution_count": 28,
   "id": "e7a48422",
   "metadata": {},
   "outputs": [
    {
     "name": "stdout",
     "output_type": "stream",
     "text": [
      "Usable tokenized examples: 6468 / 6468\n"
     ]
    }
   ],
   "source": [
    "valid_count = sum(\n",
    "    any(tok != tokenizer.eos_token_id for tok in ex[\"input_ids\"])\n",
    "    for ex in tokenized[\"train\"]\n",
    ")\n",
    "print(f\"Usable tokenized examples: {valid_count} / {len(tokenized['train'])}\")"
   ]
  },
  {
   "cell_type": "markdown",
   "id": "4ac802f2",
   "metadata": {},
   "source": [
    "Collator & base Model"
   ]
  },
  {
   "cell_type": "code",
   "execution_count": 29,
   "id": "9086823f",
   "metadata": {},
   "outputs": [],
   "source": [
    "data_collator = DataCollatorForLanguageModeling(tokenizer, mlm=False)\n",
    "base_model = AutoModelForCausalLM.from_pretrained(\"gpt2\")"
   ]
  },
  {
   "cell_type": "markdown",
   "id": "81570dfb",
   "metadata": {},
   "source": [
    "Apply LoRA if enabled"
   ]
  },
  {
   "cell_type": "code",
   "execution_count": 30,
   "id": "3516eca6",
   "metadata": {},
   "outputs": [],
   "source": [
    "if USE_LORA:\n",
    "    lora_config = LoraConfig(\n",
    "        task_type=TaskType.CAUSAL_LM,\n",
    "        inference_mode=False,\n",
    "        r=4,\n",
    "        lora_alpha=16,\n",
    "        lora_dropout=0.0,\n",
    "        target_modules=[\"c_attn\"]  # you can inspect model to try others\n",
    "    )\n",
    "    model = get_peft_model(base_model, lora_config)\n",
    "    model.print_trainable_parameters()\n",
    "else:\n",
    "    model = base_model"
   ]
  },
  {
   "cell_type": "markdown",
   "id": "2e611b95",
   "metadata": {},
   "source": [
    "Move model to supported device"
   ]
  },
  {
   "cell_type": "code",
   "execution_count": 31,
   "id": "8dea532f",
   "metadata": {},
   "outputs": [
    {
     "name": "stdout",
     "output_type": "stream",
     "text": [
      "Using device: mps\n"
     ]
    },
    {
     "data": {
      "text/plain": [
       "GPT2LMHeadModel(\n",
       "  (transformer): GPT2Model(\n",
       "    (wte): Embedding(50257, 768)\n",
       "    (wpe): Embedding(1024, 768)\n",
       "    (drop): Dropout(p=0.1, inplace=False)\n",
       "    (h): ModuleList(\n",
       "      (0-11): 12 x GPT2Block(\n",
       "        (ln_1): LayerNorm((768,), eps=1e-05, elementwise_affine=True)\n",
       "        (attn): GPT2Attention(\n",
       "          (c_attn): Conv1D(nf=2304, nx=768)\n",
       "          (c_proj): Conv1D(nf=768, nx=768)\n",
       "          (attn_dropout): Dropout(p=0.1, inplace=False)\n",
       "          (resid_dropout): Dropout(p=0.1, inplace=False)\n",
       "        )\n",
       "        (ln_2): LayerNorm((768,), eps=1e-05, elementwise_affine=True)\n",
       "        (mlp): GPT2MLP(\n",
       "          (c_fc): Conv1D(nf=3072, nx=768)\n",
       "          (c_proj): Conv1D(nf=768, nx=3072)\n",
       "          (act): NewGELUActivation()\n",
       "          (dropout): Dropout(p=0.1, inplace=False)\n",
       "        )\n",
       "      )\n",
       "    )\n",
       "    (ln_f): LayerNorm((768,), eps=1e-05, elementwise_affine=True)\n",
       "  )\n",
       "  (lm_head): Linear(in_features=768, out_features=50257, bias=False)\n",
       ")"
      ]
     },
     "execution_count": 31,
     "metadata": {},
     "output_type": "execute_result"
    }
   ],
   "source": [
    "device = (\n",
    "    torch.device(\"mps\") if torch.backends.mps.is_available()\n",
    "    else torch.device(\"cuda\") if torch.cuda.is_available()\n",
    "    else torch.device(\"cpu\")\n",
    ")\n",
    "print(\"Using device:\", device)\n",
    "\n",
    "model.to(device)"
   ]
  },
  {
   "cell_type": "markdown",
   "id": "10483e34",
   "metadata": {},
   "source": [
    "TrainingArguments"
   ]
  },
  {
   "cell_type": "code",
   "execution_count": 45,
   "id": "978576d4",
   "metadata": {},
   "outputs": [
    {
     "ename": "TypeError",
     "evalue": "TrainingArguments.__init__() got an unexpected keyword argument 'evaluation_strategy'",
     "output_type": "error",
     "traceback": [
      "\u001b[31m---------------------------------------------------------------------------\u001b[39m",
      "\u001b[31mTypeError\u001b[39m                                 Traceback (most recent call last)",
      "\u001b[36mCell\u001b[39m\u001b[36m \u001b[39m\u001b[32mIn[45]\u001b[39m\u001b[32m, line 1\u001b[39m\n\u001b[32m----> \u001b[39m\u001b[32m1\u001b[39m training_args = \u001b[43mTrainingArguments\u001b[49m\u001b[43m(\u001b[49m\n\u001b[32m      2\u001b[39m \u001b[43m    \u001b[49m\u001b[43moutput_dir\u001b[49m\u001b[43m=\u001b[49m\u001b[43mOUTPUT_DIR\u001b[49m\u001b[43m,\u001b[49m\n\u001b[32m      3\u001b[39m \u001b[43m    \u001b[49m\u001b[43mper_device_train_batch_size\u001b[49m\u001b[43m=\u001b[49m\u001b[43mBATCH_SIZE\u001b[49m\u001b[43m,\u001b[49m\n\u001b[32m      4\u001b[39m \u001b[43m    \u001b[49m\u001b[43mper_device_eval_batch_size\u001b[49m\u001b[43m=\u001b[49m\u001b[43mBATCH_SIZE\u001b[49m\u001b[43m,\u001b[49m\n\u001b[32m      5\u001b[39m \u001b[43m    \u001b[49m\u001b[43mnum_train_epochs\u001b[49m\u001b[43m=\u001b[49m\u001b[43mEPOCHS\u001b[49m\u001b[43m,\u001b[49m\n\u001b[32m      6\u001b[39m \u001b[43m    \u001b[49m\u001b[43mlearning_rate\u001b[49m\u001b[43m=\u001b[49m\u001b[43mLR\u001b[49m\u001b[43m,\u001b[49m\n\u001b[32m      7\u001b[39m \u001b[43m    \u001b[49m\u001b[43mmax_grad_norm\u001b[49m\u001b[43m=\u001b[49m\u001b[43mGRAD_CLIP\u001b[49m\u001b[43m,\u001b[49m\n\u001b[32m      8\u001b[39m \u001b[43m    \u001b[49m\u001b[43mlogging_steps\u001b[49m\u001b[43m=\u001b[49m\u001b[32;43m100\u001b[39;49m\u001b[43m,\u001b[49m\n\u001b[32m      9\u001b[39m \u001b[43m    \u001b[49m\u001b[43meval_steps\u001b[49m\u001b[43m=\u001b[49m\u001b[32;43m500\u001b[39;49m\u001b[43m,\u001b[49m\n\u001b[32m     10\u001b[39m \u001b[43m    \u001b[49m\u001b[43msave_steps\u001b[49m\u001b[43m=\u001b[49m\u001b[32;43m500\u001b[39;49m\u001b[43m,\u001b[49m\n\u001b[32m     11\u001b[39m \u001b[43m    \u001b[49m\u001b[43mremove_unused_columns\u001b[49m\u001b[43m=\u001b[49m\u001b[38;5;28;43;01mFalse\u001b[39;49;00m\u001b[43m,\u001b[49m\n\u001b[32m     12\u001b[39m \u001b[43m    \u001b[49m\u001b[43mpush_to_hub\u001b[49m\u001b[43m=\u001b[49m\u001b[38;5;28;43;01mTrue\u001b[39;49;00m\u001b[43m,\u001b[49m\n\u001b[32m     13\u001b[39m \u001b[43m    \u001b[49m\u001b[43mdo_eval\u001b[49m\u001b[43m=\u001b[49m\u001b[38;5;28;43;01mTrue\u001b[39;49;00m\u001b[43m,\u001b[49m\n\u001b[32m     14\u001b[39m \u001b[43m    \u001b[49m\u001b[43mmetric_for_best_model\u001b[49m\u001b[43m=\u001b[49m\u001b[33;43m\"\u001b[39;49m\u001b[33;43meval_loss\u001b[39;49m\u001b[33;43m\"\u001b[39;49m\u001b[43m,\u001b[49m\n\u001b[32m     15\u001b[39m \u001b[43m    \u001b[49m\u001b[43mevaluation_strategy\u001b[49m\u001b[43m=\u001b[49m\u001b[33;43m\"\u001b[39;49m\u001b[33;43msteps\u001b[39;49m\u001b[33;43m\"\u001b[39;49m\u001b[43m,\u001b[49m\n\u001b[32m     16\u001b[39m \u001b[43m)\u001b[49m\n",
      "\u001b[31mTypeError\u001b[39m: TrainingArguments.__init__() got an unexpected keyword argument 'evaluation_strategy'"
     ]
    }
   ],
   "source": [
    "training_args = TrainingArguments(\n",
    "    output_dir=OUTPUT_DIR,\n",
    "    per_device_train_batch_size=BATCH_SIZE,\n",
    "    per_device_eval_batch_size=BATCH_SIZE,\n",
    "    num_train_epochs=EPOCHS,\n",
    "    learning_rate=LR,\n",
    "    max_grad_norm=GRAD_CLIP,\n",
    "    logging_steps=100,\n",
    "    eval_steps=500,\n",
    "    save_steps=500,\n",
    "    remove_unused_columns=False,\n",
    "    push_to_hub=True,\n",
    "    do_eval=True,\n",
    "    metric_for_best_model=\"eval_loss\",\n",
    "    \n",
    ")"
   ]
  },
  {
   "cell_type": "markdown",
   "id": "c1dc8870",
   "metadata": {},
   "source": [
    "Trainer with loss logger"
   ]
  },
  {
   "cell_type": "code",
   "execution_count": 33,
   "id": "a1050a90",
   "metadata": {},
   "outputs": [],
   "source": [
    "class LossLogger(TrainerCallback):\n",
    "    def on_log(self, args, state, control, logs=None, **kwargs):\n",
    "        print(\"LOGS:\", logs)\n",
    "\n",
    "trainer = Trainer(\n",
    "    model=model,\n",
    "    args=training_args,\n",
    "    train_dataset=tokenized[\"train\"],\n",
    "    eval_dataset=tokenized[\"validation\"],\n",
    "    data_collator=data_collator,\n",
    "    callbacks=[LossLogger()]\n",
    ")"
   ]
  },
  {
   "cell_type": "markdown",
   "id": "650f50e1",
   "metadata": {},
   "source": [
    "Training"
   ]
  },
  {
   "cell_type": "code",
   "execution_count": 34,
   "id": "074661a0",
   "metadata": {},
   "outputs": [
    {
     "name": "stderr",
     "output_type": "stream",
     "text": [
      "/Users/zfir/miniforge3/envs/dissertation_mps/lib/python3.13/site-packages/torch/utils/data/dataloader.py:683: UserWarning: 'pin_memory' argument is set as true but not supported on MPS now, then device pinned memory won't be used.\n",
      "  warnings.warn(warn_msg)\n",
      "`loss_type=None` was set in the config but it is unrecognised.Using the default loss: `ForCausalLMLoss`.\n"
     ]
    },
    {
     "data": {
      "text/html": [
       "\n",
       "    <div>\n",
       "      \n",
       "      <progress value='4851' max='4851' style='width:300px; height:20px; vertical-align: middle;'></progress>\n",
       "      [4851/4851 1:09:54, Epoch 3/3]\n",
       "    </div>\n",
       "    <table border=\"1\" class=\"dataframe\">\n",
       "  <thead>\n",
       " <tr style=\"text-align: left;\">\n",
       "      <th>Step</th>\n",
       "      <th>Training Loss</th>\n",
       "    </tr>\n",
       "  </thead>\n",
       "  <tbody>\n",
       "    <tr>\n",
       "      <td>100</td>\n",
       "      <td>2.394200</td>\n",
       "    </tr>\n",
       "    <tr>\n",
       "      <td>200</td>\n",
       "      <td>2.194900</td>\n",
       "    </tr>\n",
       "    <tr>\n",
       "      <td>300</td>\n",
       "      <td>2.124200</td>\n",
       "    </tr>\n",
       "    <tr>\n",
       "      <td>400</td>\n",
       "      <td>2.005200</td>\n",
       "    </tr>\n",
       "    <tr>\n",
       "      <td>500</td>\n",
       "      <td>1.974900</td>\n",
       "    </tr>\n",
       "    <tr>\n",
       "      <td>600</td>\n",
       "      <td>1.960800</td>\n",
       "    </tr>\n",
       "    <tr>\n",
       "      <td>700</td>\n",
       "      <td>1.894600</td>\n",
       "    </tr>\n",
       "    <tr>\n",
       "      <td>800</td>\n",
       "      <td>1.915400</td>\n",
       "    </tr>\n",
       "    <tr>\n",
       "      <td>900</td>\n",
       "      <td>1.851700</td>\n",
       "    </tr>\n",
       "    <tr>\n",
       "      <td>1000</td>\n",
       "      <td>1.843600</td>\n",
       "    </tr>\n",
       "    <tr>\n",
       "      <td>1100</td>\n",
       "      <td>1.863300</td>\n",
       "    </tr>\n",
       "    <tr>\n",
       "      <td>1200</td>\n",
       "      <td>1.866300</td>\n",
       "    </tr>\n",
       "    <tr>\n",
       "      <td>1300</td>\n",
       "      <td>1.884000</td>\n",
       "    </tr>\n",
       "    <tr>\n",
       "      <td>1400</td>\n",
       "      <td>1.864500</td>\n",
       "    </tr>\n",
       "    <tr>\n",
       "      <td>1500</td>\n",
       "      <td>1.821300</td>\n",
       "    </tr>\n",
       "    <tr>\n",
       "      <td>1600</td>\n",
       "      <td>1.808800</td>\n",
       "    </tr>\n",
       "    <tr>\n",
       "      <td>1700</td>\n",
       "      <td>1.744700</td>\n",
       "    </tr>\n",
       "    <tr>\n",
       "      <td>1800</td>\n",
       "      <td>1.783000</td>\n",
       "    </tr>\n",
       "    <tr>\n",
       "      <td>1900</td>\n",
       "      <td>1.748800</td>\n",
       "    </tr>\n",
       "    <tr>\n",
       "      <td>2000</td>\n",
       "      <td>1.725100</td>\n",
       "    </tr>\n",
       "    <tr>\n",
       "      <td>2100</td>\n",
       "      <td>1.776700</td>\n",
       "    </tr>\n",
       "    <tr>\n",
       "      <td>2200</td>\n",
       "      <td>1.747300</td>\n",
       "    </tr>\n",
       "    <tr>\n",
       "      <td>2300</td>\n",
       "      <td>1.765400</td>\n",
       "    </tr>\n",
       "    <tr>\n",
       "      <td>2400</td>\n",
       "      <td>1.756600</td>\n",
       "    </tr>\n",
       "    <tr>\n",
       "      <td>2500</td>\n",
       "      <td>1.726200</td>\n",
       "    </tr>\n",
       "    <tr>\n",
       "      <td>2600</td>\n",
       "      <td>1.797900</td>\n",
       "    </tr>\n",
       "    <tr>\n",
       "      <td>2700</td>\n",
       "      <td>1.707000</td>\n",
       "    </tr>\n",
       "    <tr>\n",
       "      <td>2800</td>\n",
       "      <td>1.717600</td>\n",
       "    </tr>\n",
       "    <tr>\n",
       "      <td>2900</td>\n",
       "      <td>1.697700</td>\n",
       "    </tr>\n",
       "    <tr>\n",
       "      <td>3000</td>\n",
       "      <td>1.691400</td>\n",
       "    </tr>\n",
       "    <tr>\n",
       "      <td>3100</td>\n",
       "      <td>1.785400</td>\n",
       "    </tr>\n",
       "    <tr>\n",
       "      <td>3200</td>\n",
       "      <td>1.722700</td>\n",
       "    </tr>\n",
       "    <tr>\n",
       "      <td>3300</td>\n",
       "      <td>1.735200</td>\n",
       "    </tr>\n",
       "    <tr>\n",
       "      <td>3400</td>\n",
       "      <td>1.725200</td>\n",
       "    </tr>\n",
       "    <tr>\n",
       "      <td>3500</td>\n",
       "      <td>1.680100</td>\n",
       "    </tr>\n",
       "    <tr>\n",
       "      <td>3600</td>\n",
       "      <td>1.743400</td>\n",
       "    </tr>\n",
       "    <tr>\n",
       "      <td>3700</td>\n",
       "      <td>1.661400</td>\n",
       "    </tr>\n",
       "    <tr>\n",
       "      <td>3800</td>\n",
       "      <td>1.677600</td>\n",
       "    </tr>\n",
       "    <tr>\n",
       "      <td>3900</td>\n",
       "      <td>1.673200</td>\n",
       "    </tr>\n",
       "    <tr>\n",
       "      <td>4000</td>\n",
       "      <td>1.677700</td>\n",
       "    </tr>\n",
       "    <tr>\n",
       "      <td>4100</td>\n",
       "      <td>1.700800</td>\n",
       "    </tr>\n",
       "    <tr>\n",
       "      <td>4200</td>\n",
       "      <td>1.676700</td>\n",
       "    </tr>\n",
       "    <tr>\n",
       "      <td>4300</td>\n",
       "      <td>1.696700</td>\n",
       "    </tr>\n",
       "    <tr>\n",
       "      <td>4400</td>\n",
       "      <td>1.689800</td>\n",
       "    </tr>\n",
       "    <tr>\n",
       "      <td>4500</td>\n",
       "      <td>1.687400</td>\n",
       "    </tr>\n",
       "    <tr>\n",
       "      <td>4600</td>\n",
       "      <td>1.657900</td>\n",
       "    </tr>\n",
       "    <tr>\n",
       "      <td>4700</td>\n",
       "      <td>1.684200</td>\n",
       "    </tr>\n",
       "    <tr>\n",
       "      <td>4800</td>\n",
       "      <td>1.689500</td>\n",
       "    </tr>\n",
       "  </tbody>\n",
       "</table><p>"
      ],
      "text/plain": [
       "<IPython.core.display.HTML object>"
      ]
     },
     "metadata": {},
     "output_type": "display_data"
    },
    {
     "name": "stdout",
     "output_type": "stream",
     "text": [
      "LOGS: {'loss': 2.3942, 'learning_rate': 9.795918367346939e-06, 'epoch': 0.06184291898577613}\n",
      "LOGS: {'loss': 2.1949, 'learning_rate': 9.589775304061019e-06, 'epoch': 0.12368583797155226}\n",
      "LOGS: {'loss': 2.1242, 'learning_rate': 9.383632240775099e-06, 'epoch': 0.18552875695732837}\n",
      "LOGS: {'loss': 2.0052, 'learning_rate': 9.177489177489179e-06, 'epoch': 0.24737167594310452}\n",
      "LOGS: {'loss': 1.9749, 'learning_rate': 8.971346114203258e-06, 'epoch': 0.30921459492888065}\n",
      "LOGS: {'loss': 1.9608, 'learning_rate': 8.765203050917338e-06, 'epoch': 0.37105751391465674}\n",
      "LOGS: {'loss': 1.8946, 'learning_rate': 8.559059987631418e-06, 'epoch': 0.4329004329004329}\n",
      "LOGS: {'loss': 1.9154, 'learning_rate': 8.352916924345496e-06, 'epoch': 0.49474335188620905}\n",
      "LOGS: {'loss': 1.8517, 'learning_rate': 8.146773861059577e-06, 'epoch': 0.5565862708719852}\n",
      "LOGS: {'loss': 1.8436, 'learning_rate': 7.940630797773655e-06, 'epoch': 0.6184291898577613}\n",
      "LOGS: {'loss': 1.8633, 'learning_rate': 7.734487734487735e-06, 'epoch': 0.6802721088435374}\n",
      "LOGS: {'loss': 1.8663, 'learning_rate': 7.528344671201815e-06, 'epoch': 0.7421150278293135}\n",
      "LOGS: {'loss': 1.884, 'learning_rate': 7.3222016079158946e-06, 'epoch': 0.8039579468150897}\n",
      "LOGS: {'loss': 1.8645, 'learning_rate': 7.116058544629974e-06, 'epoch': 0.8658008658008658}\n",
      "LOGS: {'loss': 1.8213, 'learning_rate': 6.909915481344054e-06, 'epoch': 0.9276437847866419}\n",
      "LOGS: {'loss': 1.8088, 'learning_rate': 6.703772418058133e-06, 'epoch': 0.9894867037724181}\n"
     ]
    },
    {
     "name": "stderr",
     "output_type": "stream",
     "text": [
      "/Users/zfir/miniforge3/envs/dissertation_mps/lib/python3.13/site-packages/torch/utils/data/dataloader.py:683: UserWarning: 'pin_memory' argument is set as true but not supported on MPS now, then device pinned memory won't be used.\n",
      "  warnings.warn(warn_msg)\n"
     ]
    },
    {
     "name": "stdout",
     "output_type": "stream",
     "text": [
      "LOGS: {'loss': 1.7447, 'learning_rate': 6.497629354772213e-06, 'epoch': 1.051329622758194}\n",
      "LOGS: {'loss': 1.783, 'learning_rate': 6.291486291486292e-06, 'epoch': 1.1131725417439704}\n",
      "LOGS: {'loss': 1.7488, 'learning_rate': 6.085343228200371e-06, 'epoch': 1.1750154607297465}\n",
      "LOGS: {'loss': 1.7251, 'learning_rate': 5.879200164914451e-06, 'epoch': 1.2368583797155226}\n",
      "LOGS: {'loss': 1.7767, 'learning_rate': 5.673057101628531e-06, 'epoch': 1.2987012987012987}\n",
      "LOGS: {'loss': 1.7473, 'learning_rate': 5.46691403834261e-06, 'epoch': 1.3605442176870748}\n",
      "LOGS: {'loss': 1.7654, 'learning_rate': 5.260770975056689e-06, 'epoch': 1.4223871366728509}\n",
      "LOGS: {'loss': 1.7566, 'learning_rate': 5.0546279117707695e-06, 'epoch': 1.4842300556586272}\n",
      "LOGS: {'loss': 1.7262, 'learning_rate': 4.848484848484849e-06, 'epoch': 1.546072974644403}\n",
      "LOGS: {'loss': 1.7979, 'learning_rate': 4.642341785198928e-06, 'epoch': 1.6079158936301794}\n",
      "LOGS: {'loss': 1.707, 'learning_rate': 4.436198721913008e-06, 'epoch': 1.6697588126159555}\n",
      "LOGS: {'loss': 1.7176, 'learning_rate': 4.2300556586270875e-06, 'epoch': 1.7316017316017316}\n",
      "LOGS: {'loss': 1.6977, 'learning_rate': 4.023912595341168e-06, 'epoch': 1.7934446505875077}\n",
      "LOGS: {'loss': 1.6914, 'learning_rate': 3.817769532055247e-06, 'epoch': 1.8552875695732838}\n",
      "LOGS: {'loss': 1.7854, 'learning_rate': 3.6116264687693263e-06, 'epoch': 1.91713048855906}\n",
      "LOGS: {'loss': 1.7227, 'learning_rate': 3.4054834054834056e-06, 'epoch': 1.978973407544836}\n"
     ]
    },
    {
     "name": "stderr",
     "output_type": "stream",
     "text": [
      "/Users/zfir/miniforge3/envs/dissertation_mps/lib/python3.13/site-packages/torch/utils/data/dataloader.py:683: UserWarning: 'pin_memory' argument is set as true but not supported on MPS now, then device pinned memory won't be used.\n",
      "  warnings.warn(warn_msg)\n"
     ]
    },
    {
     "name": "stdout",
     "output_type": "stream",
     "text": [
      "LOGS: {'loss': 1.7352, 'learning_rate': 3.1993403421974858e-06, 'epoch': 2.0408163265306123}\n",
      "LOGS: {'loss': 1.7252, 'learning_rate': 2.993197278911565e-06, 'epoch': 2.102659245516388}\n",
      "LOGS: {'loss': 1.6801, 'learning_rate': 2.787054215625644e-06, 'epoch': 2.1645021645021645}\n",
      "LOGS: {'loss': 1.7434, 'learning_rate': 2.580911152339724e-06, 'epoch': 2.226345083487941}\n",
      "LOGS: {'loss': 1.6614, 'learning_rate': 2.3747680890538034e-06, 'epoch': 2.2881880024737167}\n",
      "LOGS: {'loss': 1.6776, 'learning_rate': 2.168625025767883e-06, 'epoch': 2.350030921459493}\n",
      "LOGS: {'loss': 1.6732, 'learning_rate': 1.962481962481963e-06, 'epoch': 2.411873840445269}\n",
      "LOGS: {'loss': 1.6777, 'learning_rate': 1.7563388991960424e-06, 'epoch': 2.473716759431045}\n",
      "LOGS: {'loss': 1.7008, 'learning_rate': 1.550195835910122e-06, 'epoch': 2.5355596784168215}\n",
      "LOGS: {'loss': 1.6767, 'learning_rate': 1.3440527726242014e-06, 'epoch': 2.5974025974025974}\n",
      "LOGS: {'loss': 1.6967, 'learning_rate': 1.137909709338281e-06, 'epoch': 2.6592455163883733}\n",
      "LOGS: {'loss': 1.6898, 'learning_rate': 9.317666460523604e-07, 'epoch': 2.7210884353741496}\n",
      "LOGS: {'loss': 1.6874, 'learning_rate': 7.2562358276644e-07, 'epoch': 2.782931354359926}\n",
      "LOGS: {'loss': 1.6579, 'learning_rate': 5.194805194805196e-07, 'epoch': 2.8447742733457018}\n",
      "LOGS: {'loss': 1.6842, 'learning_rate': 3.1333745619459905e-07, 'epoch': 2.906617192331478}\n",
      "LOGS: {'loss': 1.6895, 'learning_rate': 1.0719439290867862e-07, 'epoch': 2.9684601113172544}\n",
      "LOGS: {'train_runtime': 4196.4964, 'train_samples_per_second': 4.624, 'train_steps_per_second': 1.156, 'total_flos': 5070110588928000.0, 'train_loss': 1.7947106849923622, 'epoch': 3.0}\n"
     ]
    },
    {
     "data": {
      "text/plain": [
       "TrainOutput(global_step=4851, training_loss=1.7947106849923622, metrics={'train_runtime': 4196.4964, 'train_samples_per_second': 4.624, 'train_steps_per_second': 1.156, 'total_flos': 5070110588928000.0, 'train_loss': 1.7947106849923622, 'epoch': 3.0})"
      ]
     },
     "execution_count": 34,
     "metadata": {},
     "output_type": "execute_result"
    }
   ],
   "source": [
    "trainer.train()"
   ]
  },
  {
   "cell_type": "markdown",
   "id": "e31c5c14",
   "metadata": {},
   "source": [
    "Save model, tokenizer and deploy"
   ]
  },
  {
   "cell_type": "code",
   "execution_count": 35,
   "id": "29ce6bd2",
   "metadata": {},
   "outputs": [],
   "source": [
    "model.save_pretrained(OUTPUT_DIR)\n",
    "tokenizer.save_pretrained(OUTPUT_DIR)\n",
    "trainer.save_model(OUTPUT_DIR)"
   ]
  },
  {
   "cell_type": "markdown",
   "id": "385fff57",
   "metadata": {},
   "source": [
    "Basic evaluation"
   ]
  },
  {
   "cell_type": "code",
   "execution_count": 36,
   "id": "141a755b",
   "metadata": {},
   "outputs": [
    {
     "name": "stderr",
     "output_type": "stream",
     "text": [
      "/Users/zfir/miniforge3/envs/dissertation_mps/lib/python3.13/site-packages/torch/utils/data/dataloader.py:683: UserWarning: 'pin_memory' argument is set as true but not supported on MPS now, then device pinned memory won't be used.\n",
      "  warnings.warn(warn_msg)\n"
     ]
    },
    {
     "data": {
      "text/html": [
       "\n",
       "    <div>\n",
       "      \n",
       "      <progress value='3675' max='175' style='width:300px; height:20px; vertical-align: middle;'></progress>\n",
       "      [175/175 11:21:37]\n",
       "    </div>\n",
       "    "
      ],
      "text/plain": [
       "<IPython.core.display.HTML object>"
      ]
     },
     "metadata": {},
     "output_type": "display_data"
    },
    {
     "name": "stdout",
     "output_type": "stream",
     "text": [
      "LOGS: {'eval_loss': 1.6268829107284546, 'eval_runtime': 44.737, 'eval_samples_per_second': 15.58, 'eval_steps_per_second': 3.912, 'epoch': 3.0}\n",
      "Full eval results: {'eval_loss': 1.6268829107284546, 'eval_runtime': 44.737, 'eval_samples_per_second': 15.58, 'eval_steps_per_second': 3.912, 'epoch': 3.0}\n",
      "Validation Perplexity:  5.087990254915276\n"
     ]
    }
   ],
   "source": [
    "eval_results = trainer.evaluate()\n",
    "\n",
    "print(\"Full eval results:\", eval_results)\n",
    "\n",
    "if eval_results.get(\"eval_loss\") is not None and not math.isnan(eval_results[\"eval_loss\"]):\n",
    "    print(\"Validation Perplexity: \", math.exp(eval_results[\"eval_loss\"]))\n",
    "else:\n",
    "    print(\"NaN eval loss\")"
   ]
  },
  {
   "cell_type": "markdown",
   "id": "dd0c2ea0",
   "metadata": {},
   "source": [
    "Convert the trainer log history into a DataFrame"
   ]
  },
  {
   "cell_type": "code",
   "execution_count": 37,
   "id": "513d10db",
   "metadata": {},
   "outputs": [
    {
     "name": "stdout",
     "output_type": "stream",
     "text": [
      "      loss  learning_rate     epoch  step  train_runtime  \\\n",
      "0   2.3942   9.795918e-06  0.061843   100            NaN   \n",
      "1   2.1949   9.589775e-06  0.123686   200            NaN   \n",
      "2   2.1242   9.383632e-06  0.185529   300            NaN   \n",
      "3   2.0052   9.177489e-06  0.247372   400            NaN   \n",
      "4   1.9749   8.971346e-06  0.309215   500            NaN   \n",
      "5   1.9608   8.765203e-06  0.371058   600            NaN   \n",
      "6   1.8946   8.559060e-06  0.432900   700            NaN   \n",
      "7   1.9154   8.352917e-06  0.494743   800            NaN   \n",
      "8   1.8517   8.146774e-06  0.556586   900            NaN   \n",
      "9   1.8436   7.940631e-06  0.618429  1000            NaN   \n",
      "10  1.8633   7.734488e-06  0.680272  1100            NaN   \n",
      "11  1.8663   7.528345e-06  0.742115  1200            NaN   \n",
      "12  1.8840   7.322202e-06  0.803958  1300            NaN   \n",
      "13  1.8645   7.116059e-06  0.865801  1400            NaN   \n",
      "14  1.8213   6.909915e-06  0.927644  1500            NaN   \n",
      "15  1.8088   6.703772e-06  0.989487  1600            NaN   \n",
      "16  1.7447   6.497629e-06  1.051330  1700            NaN   \n",
      "17  1.7830   6.291486e-06  1.113173  1800            NaN   \n",
      "18  1.7488   6.085343e-06  1.175015  1900            NaN   \n",
      "19  1.7251   5.879200e-06  1.236858  2000            NaN   \n",
      "20  1.7767   5.673057e-06  1.298701  2100            NaN   \n",
      "21  1.7473   5.466914e-06  1.360544  2200            NaN   \n",
      "22  1.7654   5.260771e-06  1.422387  2300            NaN   \n",
      "23  1.7566   5.054628e-06  1.484230  2400            NaN   \n",
      "24  1.7262   4.848485e-06  1.546073  2500            NaN   \n",
      "25  1.7979   4.642342e-06  1.607916  2600            NaN   \n",
      "26  1.7070   4.436199e-06  1.669759  2700            NaN   \n",
      "27  1.7176   4.230056e-06  1.731602  2800            NaN   \n",
      "28  1.6977   4.023913e-06  1.793445  2900            NaN   \n",
      "29  1.6914   3.817770e-06  1.855288  3000            NaN   \n",
      "30  1.7854   3.611626e-06  1.917130  3100            NaN   \n",
      "31  1.7227   3.405483e-06  1.978973  3200            NaN   \n",
      "32  1.7352   3.199340e-06  2.040816  3300            NaN   \n",
      "33  1.7252   2.993197e-06  2.102659  3400            NaN   \n",
      "34  1.6801   2.787054e-06  2.164502  3500            NaN   \n",
      "35  1.7434   2.580911e-06  2.226345  3600            NaN   \n",
      "36  1.6614   2.374768e-06  2.288188  3700            NaN   \n",
      "37  1.6776   2.168625e-06  2.350031  3800            NaN   \n",
      "38  1.6732   1.962482e-06  2.411874  3900            NaN   \n",
      "39  1.6777   1.756339e-06  2.473717  4000            NaN   \n",
      "40  1.7008   1.550196e-06  2.535560  4100            NaN   \n",
      "41  1.6767   1.344053e-06  2.597403  4200            NaN   \n",
      "42  1.6967   1.137910e-06  2.659246  4300            NaN   \n",
      "43  1.6898   9.317666e-07  2.721088  4400            NaN   \n",
      "44  1.6874   7.256236e-07  2.782931  4500            NaN   \n",
      "45  1.6579   5.194805e-07  2.844774  4600            NaN   \n",
      "46  1.6842   3.133375e-07  2.906617  4700            NaN   \n",
      "47  1.6895   1.071944e-07  2.968460  4800            NaN   \n",
      "48     NaN            NaN  3.000000  4851      4196.4964   \n",
      "49     NaN            NaN  3.000000  4851            NaN   \n",
      "\n",
      "    train_samples_per_second  train_steps_per_second    total_flos  \\\n",
      "0                        NaN                     NaN           NaN   \n",
      "1                        NaN                     NaN           NaN   \n",
      "2                        NaN                     NaN           NaN   \n",
      "3                        NaN                     NaN           NaN   \n",
      "4                        NaN                     NaN           NaN   \n",
      "5                        NaN                     NaN           NaN   \n",
      "6                        NaN                     NaN           NaN   \n",
      "7                        NaN                     NaN           NaN   \n",
      "8                        NaN                     NaN           NaN   \n",
      "9                        NaN                     NaN           NaN   \n",
      "10                       NaN                     NaN           NaN   \n",
      "11                       NaN                     NaN           NaN   \n",
      "12                       NaN                     NaN           NaN   \n",
      "13                       NaN                     NaN           NaN   \n",
      "14                       NaN                     NaN           NaN   \n",
      "15                       NaN                     NaN           NaN   \n",
      "16                       NaN                     NaN           NaN   \n",
      "17                       NaN                     NaN           NaN   \n",
      "18                       NaN                     NaN           NaN   \n",
      "19                       NaN                     NaN           NaN   \n",
      "20                       NaN                     NaN           NaN   \n",
      "21                       NaN                     NaN           NaN   \n",
      "22                       NaN                     NaN           NaN   \n",
      "23                       NaN                     NaN           NaN   \n",
      "24                       NaN                     NaN           NaN   \n",
      "25                       NaN                     NaN           NaN   \n",
      "26                       NaN                     NaN           NaN   \n",
      "27                       NaN                     NaN           NaN   \n",
      "28                       NaN                     NaN           NaN   \n",
      "29                       NaN                     NaN           NaN   \n",
      "30                       NaN                     NaN           NaN   \n",
      "31                       NaN                     NaN           NaN   \n",
      "32                       NaN                     NaN           NaN   \n",
      "33                       NaN                     NaN           NaN   \n",
      "34                       NaN                     NaN           NaN   \n",
      "35                       NaN                     NaN           NaN   \n",
      "36                       NaN                     NaN           NaN   \n",
      "37                       NaN                     NaN           NaN   \n",
      "38                       NaN                     NaN           NaN   \n",
      "39                       NaN                     NaN           NaN   \n",
      "40                       NaN                     NaN           NaN   \n",
      "41                       NaN                     NaN           NaN   \n",
      "42                       NaN                     NaN           NaN   \n",
      "43                       NaN                     NaN           NaN   \n",
      "44                       NaN                     NaN           NaN   \n",
      "45                       NaN                     NaN           NaN   \n",
      "46                       NaN                     NaN           NaN   \n",
      "47                       NaN                     NaN           NaN   \n",
      "48                     4.624                   1.156  5.070111e+15   \n",
      "49                       NaN                     NaN           NaN   \n",
      "\n",
      "    train_loss  eval_loss  eval_runtime  eval_samples_per_second  \\\n",
      "0          NaN        NaN           NaN                      NaN   \n",
      "1          NaN        NaN           NaN                      NaN   \n",
      "2          NaN        NaN           NaN                      NaN   \n",
      "3          NaN        NaN           NaN                      NaN   \n",
      "4          NaN        NaN           NaN                      NaN   \n",
      "5          NaN        NaN           NaN                      NaN   \n",
      "6          NaN        NaN           NaN                      NaN   \n",
      "7          NaN        NaN           NaN                      NaN   \n",
      "8          NaN        NaN           NaN                      NaN   \n",
      "9          NaN        NaN           NaN                      NaN   \n",
      "10         NaN        NaN           NaN                      NaN   \n",
      "11         NaN        NaN           NaN                      NaN   \n",
      "12         NaN        NaN           NaN                      NaN   \n",
      "13         NaN        NaN           NaN                      NaN   \n",
      "14         NaN        NaN           NaN                      NaN   \n",
      "15         NaN        NaN           NaN                      NaN   \n",
      "16         NaN        NaN           NaN                      NaN   \n",
      "17         NaN        NaN           NaN                      NaN   \n",
      "18         NaN        NaN           NaN                      NaN   \n",
      "19         NaN        NaN           NaN                      NaN   \n",
      "20         NaN        NaN           NaN                      NaN   \n",
      "21         NaN        NaN           NaN                      NaN   \n",
      "22         NaN        NaN           NaN                      NaN   \n",
      "23         NaN        NaN           NaN                      NaN   \n",
      "24         NaN        NaN           NaN                      NaN   \n",
      "25         NaN        NaN           NaN                      NaN   \n",
      "26         NaN        NaN           NaN                      NaN   \n",
      "27         NaN        NaN           NaN                      NaN   \n",
      "28         NaN        NaN           NaN                      NaN   \n",
      "29         NaN        NaN           NaN                      NaN   \n",
      "30         NaN        NaN           NaN                      NaN   \n",
      "31         NaN        NaN           NaN                      NaN   \n",
      "32         NaN        NaN           NaN                      NaN   \n",
      "33         NaN        NaN           NaN                      NaN   \n",
      "34         NaN        NaN           NaN                      NaN   \n",
      "35         NaN        NaN           NaN                      NaN   \n",
      "36         NaN        NaN           NaN                      NaN   \n",
      "37         NaN        NaN           NaN                      NaN   \n",
      "38         NaN        NaN           NaN                      NaN   \n",
      "39         NaN        NaN           NaN                      NaN   \n",
      "40         NaN        NaN           NaN                      NaN   \n",
      "41         NaN        NaN           NaN                      NaN   \n",
      "42         NaN        NaN           NaN                      NaN   \n",
      "43         NaN        NaN           NaN                      NaN   \n",
      "44         NaN        NaN           NaN                      NaN   \n",
      "45         NaN        NaN           NaN                      NaN   \n",
      "46         NaN        NaN           NaN                      NaN   \n",
      "47         NaN        NaN           NaN                      NaN   \n",
      "48    1.794711        NaN           NaN                      NaN   \n",
      "49         NaN   1.626883        44.737                    15.58   \n",
      "\n",
      "    eval_steps_per_second  \n",
      "0                     NaN  \n",
      "1                     NaN  \n",
      "2                     NaN  \n",
      "3                     NaN  \n",
      "4                     NaN  \n",
      "5                     NaN  \n",
      "6                     NaN  \n",
      "7                     NaN  \n",
      "8                     NaN  \n",
      "9                     NaN  \n",
      "10                    NaN  \n",
      "11                    NaN  \n",
      "12                    NaN  \n",
      "13                    NaN  \n",
      "14                    NaN  \n",
      "15                    NaN  \n",
      "16                    NaN  \n",
      "17                    NaN  \n",
      "18                    NaN  \n",
      "19                    NaN  \n",
      "20                    NaN  \n",
      "21                    NaN  \n",
      "22                    NaN  \n",
      "23                    NaN  \n",
      "24                    NaN  \n",
      "25                    NaN  \n",
      "26                    NaN  \n",
      "27                    NaN  \n",
      "28                    NaN  \n",
      "29                    NaN  \n",
      "30                    NaN  \n",
      "31                    NaN  \n",
      "32                    NaN  \n",
      "33                    NaN  \n",
      "34                    NaN  \n",
      "35                    NaN  \n",
      "36                    NaN  \n",
      "37                    NaN  \n",
      "38                    NaN  \n",
      "39                    NaN  \n",
      "40                    NaN  \n",
      "41                    NaN  \n",
      "42                    NaN  \n",
      "43                    NaN  \n",
      "44                    NaN  \n",
      "45                    NaN  \n",
      "46                    NaN  \n",
      "47                    NaN  \n",
      "48                    NaN  \n",
      "49                  3.912  \n"
     ]
    }
   ],
   "source": [
    "logs = trainer.state.log_history\n",
    "df = pd.DataFrame(logs)\n",
    "print(df)"
   ]
  },
  {
   "cell_type": "markdown",
   "id": "1d88a7d3",
   "metadata": {},
   "source": [
    "Plot training loss vs global step"
   ]
  },
  {
   "cell_type": "code",
   "execution_count": 38,
   "id": "1ff66623",
   "metadata": {},
   "outputs": [
    {
     "data": {
      "image/png": "[encoded data removed]",
      "text/plain": [
       "<Figure size 640x480 with 1 Axes>"
      ]
     },
     "metadata": {},
     "output_type": "display_data"
    }
   ],
   "source": [
    "train_df = df[df[\"loss\"].notna()]\n",
    "plt.plot(train_df[\"step\"], train_df[\"loss\"])\n",
    "plt.xlabel(\"Global Step\")\n",
    "plt.ylabel(\"Training Loss\")\n",
    "plt.title(\"Training Loss over Time\")\n",
    "plt.show()"
   ]
  },
  {
   "cell_type": "markdown",
   "id": "e6f322c1",
   "metadata": {},
   "source": [
    "Plot training perplexity vs global step"
   ]
  },
  {
   "cell_type": "code",
   "execution_count": 55,
   "id": "045acada",
   "metadata": {},
   "outputs": [
    {
     "data": {
      "image/png": "[encoded data removed]",
      "text/plain": [
       "<Figure size 640x480 with 1 Axes>"
      ]
     },
     "metadata": {},
     "output_type": "display_data"
    }
   ],
   "source": [
    "train_df = df[df[\"perplexity\"].notna()]\n",
    "plt.plot(train_df[\"step\"], train_df[\"perplexity\"])\n",
    "plt.xlabel(\"Global Step\")\n",
    "plt.ylabel(\"Training Perplexity\")\n",
    "plt.title(\"Training Perplexity over Time\")\n",
    "plt.show()"
   ]
  },
  {
   "cell_type": "markdown",
   "id": "ec126838",
   "metadata": {},
   "source": [
    "Load each checkpoint’s weights into your model"
   ]
  },
  {
   "cell_type": "code",
   "execution_count": 50,
   "id": "890f97c5",
   "metadata": {},
   "outputs": [
    {
     "name": "stdout",
     "output_type": "stream",
     "text": [
      "LOGS: {'eval_loss': 1.83572518825531, 'eval_runtime': 85.0951, 'eval_samples_per_second': 8.191, 'eval_steps_per_second': 2.057, 'epoch': 3.0}\n",
      "LOGS: {'eval_loss': 1.7551329135894775, 'eval_runtime': 68.5962, 'eval_samples_per_second': 10.161, 'eval_steps_per_second': 2.551, 'epoch': 3.0}\n",
      "LOGS: {'eval_loss': 1.7128853797912598, 'eval_runtime': 61.5685, 'eval_samples_per_second': 11.321, 'eval_steps_per_second': 2.842, 'epoch': 3.0}\n",
      "LOGS: {'eval_loss': 1.685648798942566, 'eval_runtime': 60.7153, 'eval_samples_per_second': 11.48, 'eval_steps_per_second': 2.882, 'epoch': 3.0}\n",
      "LOGS: {'eval_loss': 1.6635816097259521, 'eval_runtime': 75.7203, 'eval_samples_per_second': 9.205, 'eval_steps_per_second': 2.311, 'epoch': 3.0}\n",
      "LOGS: {'eval_loss': 1.6480712890625, 'eval_runtime': 51.712, 'eval_samples_per_second': 13.479, 'eval_steps_per_second': 3.384, 'epoch': 3.0}\n",
      "LOGS: {'eval_loss': 1.6387287378311157, 'eval_runtime': 63.669, 'eval_samples_per_second': 10.947, 'eval_steps_per_second': 2.749, 'epoch': 3.0}\n",
      "LOGS: {'eval_loss': 1.6327905654907227, 'eval_runtime': 51.1269, 'eval_samples_per_second': 13.633, 'eval_steps_per_second': 3.423, 'epoch': 3.0}\n",
      "LOGS: {'eval_loss': 1.627808690071106, 'eval_runtime': 51.7472, 'eval_samples_per_second': 13.469, 'eval_steps_per_second': 3.382, 'epoch': 3.0}\n",
      "LOGS: {'eval_loss': 1.6268829107284546, 'eval_runtime': 48.0333, 'eval_samples_per_second': 14.511, 'eval_steps_per_second': 3.643, 'epoch': 3.0}\n"
     ]
    }
   ],
   "source": [
    "ckpts = [\n",
    "    \"checkpoint-500\",\"checkpoint-1000\",\"checkpoint-1500\",\n",
    "    \"checkpoint-2000\",\"checkpoint-2500\",\"checkpoint-3000\",\n",
    "    \"checkpoint-3500\",\"checkpoint-4000\",\"checkpoint-4500\",\n",
    "    \"checkpoint-4851\"\n",
    "]\n",
    "\n",
    "records = []\n",
    "for ckpt in ckpts:\n",
    "    ckpt_path = f\"{OUTPUT_DIR}/{ckpt}\"\n",
    "\n",
    "    # 1) Reload the model weights\n",
    "    model = AutoModelForCausalLM.from_pretrained(ckpt_path)\n",
    "    model.to(trainer.args.device)\n",
    "\n",
    "    # 2) Patch the Trainer’s model\n",
    "    trainer.model = model\n",
    "\n",
    "    # 3) Run evaluation on your validation split\n",
    "    metrics = trainer.evaluate()        # no args here\n",
    "\n",
    "    # 4) Record step & loss (& perplexity)\n",
    "    step = int(ckpt.split(\"-\")[-1])\n",
    "    loss = metrics[\"eval_loss\"]\n",
    "    records.append({\n",
    "      \"step\": step,\n",
    "      \"eval_loss\": loss,\n",
    "      \"perplexity\": math.exp(loss)\n",
    "    })\n",
    "\n",
    "df = pd.DataFrame(records).sort_values(\"step\")"
   ]
  },
  {
   "cell_type": "markdown",
   "id": "ebd8b90f",
   "metadata": {},
   "source": [
    "Plot evaluation loss vs global step"
   ]
  },
  {
   "cell_type": "code",
   "execution_count": 56,
   "id": "34d515a1",
   "metadata": {},
   "outputs": [
    {
     "data": {
      "image/png": "[encoded data removed]",
      "text/plain": [
       "<Figure size 640x480 with 1 Axes>"
      ]
     },
     "metadata": {},
     "output_type": "display_data"
    }
   ],
   "source": [
    "plt.figure()\n",
    "plt.plot(df[\"step\"], df[\"eval_loss\"])\n",
    "plt.xlabel(\"Global Step\")\n",
    "plt.ylabel(\"Validation Loss\")\n",
    "plt.title(\"Validation Loss over Checkpoints\")\n",
    "plt.show()"
   ]
  },
  {
   "cell_type": "markdown",
   "id": "6c972036",
   "metadata": {},
   "source": [
    "Convert loss to perplexity for easier interpretation: perplexity = exp(loss)"
   ]
  },
  {
   "cell_type": "code",
   "execution_count": 57,
   "id": "b026d3c2",
   "metadata": {},
   "outputs": [
    {
     "data": {
      "image/png": "[encoded data removed]",
      "text/plain": [
       "<Figure size 640x480 with 1 Axes>"
      ]
     },
     "metadata": {},
     "output_type": "display_data"
    }
   ],
   "source": [
    "plt.figure()\n",
    "plt.plot(df[\"step\"], df[\"perplexity\"])\n",
    "plt.xlabel(\"Global Step\")\n",
    "plt.ylabel(\"Validation Perplexity\")\n",
    "plt.title(\"Validation Perplexity over Checkpoints\")\n",
    "plt.show()"
   ]
  },
  {
   "cell_type": "markdown",
   "id": "08e4b34b",
   "metadata": {},
   "source": [
    "Top-5 Token Accuracy and MRR over validation set"
   ]
  },
  {
   "cell_type": "code",
   "execution_count": null,
   "id": "edefddeb",
   "metadata": {},
   "outputs": [
    {
     "name": "stderr",
     "output_type": "stream",
     "text": [
      "/Users/zfir/miniforge3/envs/dissertation_mps/lib/python3.13/site-packages/torch/utils/data/dataloader.py:683: UserWarning: 'pin_memory' argument is set as true but not supported on MPS now, then device pinned memory won't be used.\n",
      "  warnings.warn(warn_msg)\n"
     ]
    },
    {
     "name": "stdout",
     "output_type": "stream",
     "text": [
      "Top-5 Accuracy: 0.1899\n",
      "MRR:             0.1572\n"
     ]
    }
   ],
   "source": [
    "def stream_topk_mrr(model, trainer, k=5, batch_size=1):\n",
    "    \"\"\"\n",
    "    Streams through the Trainer’s eval_dataloader batch-by-batch,\n",
    "    accumulates top-k matches and reciprocal ranks,\n",
    "    and keeps memory use small.\n",
    "    \"\"\"\n",
    "    # Put model in eval mode & grab device\n",
    "    model.eval()\n",
    "    device = next(model.parameters()).device\n",
    "    \n",
    "    # Use the Trainer’s built-in eval dataloader (with correct collation)\n",
    "    loader: DataLoader = trainer.get_eval_dataloader()\n",
    "    \n",
    "    total_tokens = 0\n",
    "    topk_matches = 0\n",
    "    rr_sum = 0.0\n",
    "\n",
    "    with torch.no_grad():\n",
    "        for batch in loader:\n",
    "            # batch is a dict of torch.Tensor already\n",
    "            labels = batch.pop(\"labels\").to(device)   # shape (bs, seq_len)\n",
    "            # move all other inputs to device\n",
    "            inputs = {k: v.to(device) for k, v in batch.items()}\n",
    "            \n",
    "            # forward\n",
    "            logits = model(**inputs).logits.cpu().numpy()  # (bs, seq_len, vocab_size)\n",
    "            lbls   = labels.cpu().numpy()                 # (bs, seq_len)\n",
    "\n",
    "            # mask out padding tokens\n",
    "            mask = lbls != -100                             # (bs, seq_len)\n",
    "            flat_logits = logits[mask].reshape(-1, logits.shape[-1])  # (N_toks, V)\n",
    "            flat_labels = lbls[mask].reshape(-1)                     # (N_toks,)\n",
    "\n",
    "            # Top-k matches via argpartition (cheap per-row)\n",
    "            topk_idxs = np.argpartition(flat_logits, -k, axis=-1)[:, -k:]\n",
    "            topk_matches += np.sum([flat_labels[i] in topk_idxs[i]\n",
    "                                    for i in range(flat_labels.shape[0])])\n",
    "\n",
    "            # MRR: rank = 1 + # of logits > true_logit\n",
    "            true_scores = flat_logits[np.arange(flat_labels.shape[0]), flat_labels]\n",
    "            ranks = 1 + np.sum(flat_logits > true_scores[:, None], axis=1)\n",
    "            rr_sum += np.sum(1.0 / ranks)\n",
    "\n",
    "            total_tokens += flat_labels.shape[0]\n",
    "\n",
    "    topk_acc = topk_matches / total_tokens\n",
    "    mrr      = rr_sum / total_tokens\n",
    "    return topk_acc, mrr\n",
    "\n",
    "# Usage:\n",
    "top5_acc, mrr = stream_topk_mrr(model, trainer, k=5)\n",
    "print(f\"Top-5 Accuracy: {top5_acc:.4f}\")\n",
    "print(f\"MRR:             {mrr:.4f}\")\n"
   ]
  },
  {
   "cell_type": "markdown",
   "id": "65adcad8",
   "metadata": {},
   "source": [
    "Top-5 Accuracy bar chart"
   ]
  },
  {
   "cell_type": "code",
   "execution_count": 42,
   "id": "9e8e405e",
   "metadata": {},
   "outputs": [
    {
     "data": {
      "image/png": "[encoded data removed]",
      "text/plain": [
       "<Figure size 640x480 with 1 Axes>"
      ]
     },
     "metadata": {},
     "output_type": "display_data"
    }
   ],
   "source": [
    "plt.figure()\n",
    "plt.bar(['Top-5 Accuracy'], [top5_acc])\n",
    "plt.ylim(0, 1)\n",
    "plt.title('Top-5 Token Accuracy')\n",
    "plt.ylabel('Accuracy')\n",
    "plt.show()"
   ]
  },
  {
   "cell_type": "markdown",
   "id": "43c0f549",
   "metadata": {},
   "source": [
    "MRR bar chart"
   ]
  },
  {
   "cell_type": "code",
   "execution_count": 43,
   "id": "c873fde3",
   "metadata": {},
   "outputs": [
    {
     "data": {
      "image/png": "[encoded data removed]",
      "text/plain": [
       "<Figure size 640x480 with 1 Axes>"
      ]
     },
     "metadata": {},
     "output_type": "display_data"
    }
   ],
   "source": [
    "plt.figure()\n",
    "plt.bar(['MRR'], [mrr])\n",
    "plt.ylim(0, 1)\n",
    "plt.title('Mean Reciprocal Rank (MRR)')\n",
    "plt.ylabel('MRR')\n",
    "plt.show()"
   ]
  },
  {
   "cell_type": "markdown",
   "id": "8e5c3f3d",
   "metadata": {},
   "source": [
    "Inference Latency Histogram\n",
    "Measure per-sample inference latency and visualize"
   ]
  },
  {
   "cell_type": "code",
   "execution_count": 44,
   "id": "0ca58b2a",
   "metadata": {},
   "outputs": [
    {
     "name": "stdout",
     "output_type": "stream",
     "text": [
      "Mean latency: 0.0163s\n",
      "Std  latency: 0.0027s\n"
     ]
    },
    {
     "data": {
      "image/png": "[encoded data removed]",
      "text/plain": [
       "<Figure size 640x480 with 1 Axes>"
      ]
     },
     "metadata": {},
     "output_type": "display_data"
    }
   ],
   "source": [
    "model.eval()\n",
    "device = next(model.parameters()).device\n",
    "loader = trainer.get_eval_dataloader()\n",
    "\n",
    "latencies = []\n",
    "with torch.no_grad():\n",
    "    for batch in loader:\n",
    "        batch.pop(\"labels\", None)\n",
    "        inputs = {k: v.to(device) for k, v in batch.items()}\n",
    "        start = time.monotonic()\n",
    "        _ = model(**inputs)\n",
    "        end = time.monotonic()\n",
    "        latencies.append(end - start)\n",
    "\n",
    "latencies = np.array(latencies)\n",
    "\n",
    "print(f\"Mean latency: {latencies.mean():.4f}s\")\n",
    "print(f\"Std  latency: {latencies.std():.4f}s\")\n",
    "\n",
    "plt.figure()\n",
    "plt.hist(latencies, bins=20)\n",
    "plt.xlabel(\"Latency (seconds)\")\n",
    "plt.ylabel(\"Frequency\")\n",
    "plt.title(\"Inference Latency Distribution\")\n",
    "plt.show()\n"
   ]
  }
 ],
 "metadata": {
  "kernelspec": {
   "display_name": "dissertation_mps",
   "language": "python",
   "name": "python3"
  },
  "language_info": {
   "codemirror_mode": {
    "name": "ipython",
    "version": 3
   },
   "file_extension": ".py",
   "mimetype": "text/x-python",
   "name": "python",
   "nbconvert_exporter": "python",
   "pygments_lexer": "ipython3",
   "version": "3.13.3"
  }
 },
 "nbformat": 4,
 "nbformat_minor": 5
}
