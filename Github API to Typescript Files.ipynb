{
 "cells": [
  {
   "cell_type": "code",
   "execution_count": 1,
   "metadata": {},
   "outputs": [],
   "source": [
    "import os, time\n",
    "import requests\n",
    "\n",
    "GITHUB_TOKEN = os.getenv(\"GITHUB_TOKEN\")\n",
    "HEADERS = {\n",
    "    \"Authorization\": f\"token {GITHUB_TOKEN}\",\n",
    "    \"Accept\": \"application/vnd.github.v3.raw\"\n",
    "}\n",
    "\n",
    "SEARCH_URL = \"https://api.github.com/search/code\"\n",
    "DOWNLOAD_DIR = \"outputs/github-ts-output\"\n",
    "os.makedirs(DOWNLOAD_DIR, exist_ok=True)\n",
    "\n",
    "def search_ts_files(page=1):\n",
    "    params = {\n",
    "        \"q\": \"extension:ts language:TypeScript\",\n",
    "        \"per_page\": 100,\n",
    "        \"page\": page\n",
    "    }\n",
    "    resp = requests.get(SEARCH_URL, headers={\"Authorization\": HEADERS[\"Authorization\"]}, params=params)\n",
    "    resp.raise_for_status()\n",
    "    return resp.json()\n",
    "\n",
    "def download_file(item):\n",
    "    raw_url = item[\"html_url\"].replace(\"https://github.com/\", \"https://raw.githubusercontent.com/\").replace(\"/blob/\", \"/\")\n",
    "    resp = requests.get(raw_url, headers=HEADERS, timeout=10)\n",
    "    resp.raise_for_status()\n",
    "    # Derive a safe filename\n",
    "    owner = item[\"repository\"][\"owner\"][\"login\"]\n",
    "    repo  = item[\"repository\"][\"name\"]\n",
    "    path  = item[\"path\"].replace(\"/\", \"_\")\n",
    "    filename = f\"{owner}__{repo}__{path}\"\n",
    "    with open(os.path.join(DOWNLOAD_DIR, filename), \"w\", encoding=\"utf-8\") as f:\n",
    "        f.write(resp.text)\n",
    "\n",
    "def main(max_pages=10):\n",
    "    for page in range(1, max_pages+1):\n",
    "        results = search_ts_files(page)\n",
    "        items = results.get(\"items\", [])\n",
    "        if not items:\n",
    "            break\n",
    "        for item in items:\n",
    "            try:\n",
    "                download_file(item)\n",
    "            except Exception as e:\n",
    "                print(f\"Failed {item['html_url']}: {e}\")\n",
    "        # Respect rate limits\n",
    "        time.sleep(2)\n",
    "\n",
    "if __name__ == \"__main__\":\n",
    "    main()"
   ]
  }
 ],
 "metadata": {
  "kernelspec": {
   "display_name": "dissertation",
   "language": "python",
   "name": "python3"
  },
  "language_info": {
   "codemirror_mode": {
    "name": "ipython",
    "version": 3
   },
   "file_extension": ".py",
   "mimetype": "text/x-python",
   "name": "python",
   "nbconvert_exporter": "python",
   "pygments_lexer": "ipython3",
   "version": "3.10.16"
  }
 },
 "nbformat": 4,
 "nbformat_minor": 2
}
