{
 "cells": [
  {
   "cell_type": "code",
   "execution_count": 1,
   "metadata": {},
   "outputs": [],
   "source": [
    "import datetime, time, os, requests\n",
    "\n",
    "GITHUB_TOKEN = os.getenv(\"GITHUB_TOKEN\")\n",
    "HEADERS = {\n",
    "    \"Authorization\": f\"token {GITHUB_TOKEN}\",\n",
    "    \"Accept\": \"application/vnd.github.v3.raw\"\n",
    "}\n",
    "SEARCH_URL = \"https://api.github.com/search/code\"\n",
    "DOWNLOAD_DIR = \"outputs/github-ts-output\"\n",
    "os.makedirs(DOWNLOAD_DIR, exist_ok=True)\n",
    "\n",
    "def date_ranges(start, end, delta_days=7):\n",
    "    \"\"\"Yield (YYYY-MM-DD) tuples from start to end in delta_days increments.\"\"\"\n",
    "    cur = start\n",
    "    while cur < end:\n",
    "        nxt = min(end, cur + datetime.timedelta(days=delta_days))\n",
    "        yield cur.strftime(\"%Y-%m-%d\"), (nxt - datetime.timedelta(days=1)).strftime(\"%Y-%m-%d\")\n",
    "        cur = nxt\n",
    "\n",
    "def search_and_download(start, finish):\n",
    "    query = f\"extension:ts language:TypeScript pushed:{start}..{finish}\"\n",
    "    for page in range(1, 11):  # GitHub caps at 10 pages\n",
    "        params = {\"q\": query, \"per_page\": 100, \"page\": page}\n",
    "        r = requests.get(SEARCH_URL, headers=HEADERS, params=params)\n",
    "        r.raise_for_status()\n",
    "        items = r.json().get(\"items\", [])\n",
    "        if not items: break\n",
    "        for item in items:\n",
    "            raw = item[\"html_url\"]\\\n",
    "                   .replace(\"https://github.com/\", \"https://raw.githubusercontent.com/\")\\\n",
    "                   .replace(\"/blob/\", \"/\")\n",
    "            resp = requests.get(raw, headers=HEADERS, timeout=10)\n",
    "            if resp.ok:\n",
    "                fn = f\"{item['repository']['full_name'].replace('/', '_')}__{item['path'].replace('/', '_')}\"\n",
    "                with open(os.path.join(DOWNLOAD_DIR, fn), \"w\", encoding=\"utf-8\") as f:\n",
    "                    f.write(resp.text)\n",
    "        time.sleep(2)\n",
    "\n",
    "if __name__ == \"__main__\":\n",
    "    start_date = datetime.date(2015, 1, 1)\n",
    "    end_date   = datetime.date.today()\n",
    "    for s, f in date_ranges(start_date, end_date, delta_days=1):\n",
    "        search_and_download(s, f)\n"
   ]
  }
 ],
 "metadata": {
  "kernelspec": {
   "display_name": "dissertation",
   "language": "python",
   "name": "python3"
  },
  "language_info": {
   "codemirror_mode": {
    "name": "ipython",
    "version": 3
   },
   "file_extension": ".py",
   "mimetype": "text/x-python",
   "name": "python",
   "nbconvert_exporter": "python",
   "pygments_lexer": "ipython3",
   "version": "3.10.16"
  }
 },
 "nbformat": 4,
 "nbformat_minor": 2
}
